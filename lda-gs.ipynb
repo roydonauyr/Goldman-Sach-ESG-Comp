{
 "cells": [
  {
   "cell_type": "markdown",
   "metadata": {
    "papermill": {
     "duration": 0.021358,
     "end_time": "2022-03-19T15:32:07.232615",
     "exception": false,
     "start_time": "2022-03-19T15:32:07.211257",
     "status": "completed"
    },
    "tags": []
   },
   "source": [
    "# Explore Latent Dirichlet Allocation (LDA) with NIPS Papers"
   ]
  },
  {
   "cell_type": "code",
   "execution_count": 7,
   "metadata": {},
   "outputs": [
    {
     "name": "stdout",
     "output_type": "stream",
     "text": [
      "Collecting wordcloud\n",
      "  Downloading wordcloud-1.8.1-cp38-cp38-win_amd64.whl (155 kB)\n",
      "Requirement already satisfied: numpy>=1.6.1 in c:\\ntu tutorials\\year 1\\sem 2\\data science and ai\\dsai\\anaconda\\lib\\site-packages (from wordcloud) (1.19.2)\n",
      "Requirement already satisfied: pillow in c:\\ntu tutorials\\year 1\\sem 2\\data science and ai\\dsai\\anaconda\\lib\\site-packages (from wordcloud) (8.0.1)\n",
      "Requirement already satisfied: matplotlib in c:\\ntu tutorials\\year 1\\sem 2\\data science and ai\\dsai\\anaconda\\lib\\site-packages (from wordcloud) (3.3.2)\n",
      "Requirement already satisfied: kiwisolver>=1.0.1 in c:\\ntu tutorials\\year 1\\sem 2\\data science and ai\\dsai\\anaconda\\lib\\site-packages (from matplotlib->wordcloud) (1.3.0)\n",
      "Requirement already satisfied: pyparsing!=2.0.4,!=2.1.2,!=2.1.6,>=2.0.3 in c:\\ntu tutorials\\year 1\\sem 2\\data science and ai\\dsai\\anaconda\\lib\\site-packages (from matplotlib->wordcloud) (2.4.7)\n",
      "Requirement already satisfied: certifi>=2020.06.20 in c:\\ntu tutorials\\year 1\\sem 2\\data science and ai\\dsai\\anaconda\\lib\\site-packages (from matplotlib->wordcloud) (2020.6.20)\n",
      "Requirement already satisfied: python-dateutil>=2.1 in c:\\ntu tutorials\\year 1\\sem 2\\data science and ai\\dsai\\anaconda\\lib\\site-packages (from matplotlib->wordcloud) (2.8.1)\n",
      "Requirement already satisfied: cycler>=0.10 in c:\\ntu tutorials\\year 1\\sem 2\\data science and ai\\dsai\\anaconda\\lib\\site-packages (from matplotlib->wordcloud) (0.10.0)\n",
      "Requirement already satisfied: six>=1.5 in c:\\users\\roydo\\appdata\\roaming\\python\\python38\\site-packages (from python-dateutil>=2.1->matplotlib->wordcloud) (1.15.0)\n",
      "Installing collected packages: wordcloud\n",
      "Successfully installed wordcloud-1.8.1\n"
     ]
    }
   ],
   "source": [
    "!pip install wordcloud\n",
    "!pip install gensim\n",
    "!pip install pyldavis\n",
    "!pip install spacy\n",
    "!pip install pdfplumber"
   ]
  },
  {
   "cell_type": "code",
   "execution_count": 1,
   "metadata": {
    "_cell_guid": "b1076dfc-b9ad-4769-8c92-a6c4dae69d19",
    "_uuid": "8f2839f25d086af736a60e9eeb907d3b93b6e0e5",
    "execution": {
     "iopub.execute_input": "2022-04-01T15:08:55.535228Z",
     "iopub.status.busy": "2022-04-01T15:08:55.534745Z",
     "iopub.status.idle": "2022-04-01T15:08:56.889458Z",
     "shell.execute_reply": "2022-04-01T15:08:56.888443Z",
     "shell.execute_reply.started": "2022-04-01T15:08:55.535143Z"
    },
    "papermill": {
     "duration": 2.38976,
     "end_time": "2022-03-19T15:32:09.642994",
     "exception": false,
     "start_time": "2022-03-19T15:32:07.253234",
     "status": "completed"
    },
    "tags": []
   },
   "outputs": [
    {
     "name": "stderr",
     "output_type": "stream",
     "text": [
      "[nltk_data] Downloading package stopwords to\n",
      "[nltk_data]     C:\\Users\\roydo\\AppData\\Roaming\\nltk_data...\n",
      "[nltk_data]   Package stopwords is already up-to-date!\n",
      "C:\\NTU Tutorials\\Year 1\\Sem 2\\Data Science and AI\\DSAI\\Anaconda\\lib\\site-packages\\sklearn\\decomposition\\_lda.py:28: DeprecationWarning: `np.float` is a deprecated alias for the builtin `float`. To silence this warning, use `float` by itself. Doing this will not modify any behavior and is safe. If you specifically wanted the numpy scalar type, use `np.float64` here.\n",
      "Deprecated in NumPy 1.20; for more details and guidance: https://numpy.org/devdocs/release/1.20.0-notes.html#deprecations\n",
      "  EPS = np.finfo(np.float).eps\n"
     ]
    }
   ],
   "source": [
    "# Importing modules\n",
    "import pandas as pd\n",
    "import os\n",
    "from os import listdir\n",
    "import pprint\n",
    "import pickle\n",
    "import matplotlib.pyplot as plt\n",
    "import warnings\n",
    "import seaborn as sns\n",
    "\n",
    "# Load the regular expression library\n",
    "import re\n",
    "\n",
    "# Import the wordcloud library\n",
    "from wordcloud import WordCloud\n",
    "\n",
    "# Package contains interfaces and functionality to compute pair-wise document similarities within a corpus of documents\n",
    "import gensim\n",
    "from gensim.utils import simple_preprocess\n",
    "\n",
    "# Natural Language Toolkit\n",
    "import nltk\n",
    "nltk.download('stopwords') # if Package stopwords do not exist\n",
    "from nltk.corpus import stopwords\n",
    "\n",
    "# For LDA VisualisationpyLDAvis.enable_notebook()\n",
    "import pyLDAvis.gensim_models\n",
    "import pyLDAvis"
   ]
  },
  {
   "cell_type": "code",
   "execution_count": 2,
   "metadata": {
    "execution": {
     "iopub.execute_input": "2022-04-01T15:08:56.891646Z",
     "iopub.status.busy": "2022-04-01T15:08:56.891214Z",
     "iopub.status.idle": "2022-04-01T15:09:11.159207Z",
     "shell.execute_reply": "2022-04-01T15:09:11.158377Z",
     "shell.execute_reply.started": "2022-04-01T15:08:56.891577Z"
    }
   },
   "outputs": [
    {
     "name": "stderr",
     "output_type": "stream",
     "text": [
      "C:\\NTU Tutorials\\Year 1\\Sem 2\\Data Science and AI\\DSAI\\Anaconda\\lib\\site-packages\\ipykernel\\ipkernel.py:287: DeprecationWarning: `should_run_async` will not call `transform_cell` automatically in the future. Please pass the result to `transformed_cell` argument and any exception that happen during thetransform in `preprocessing_exc_tuple` in IPython 7.17 and above.\n",
      "  and should_run_async(code)\n"
     ]
    },
    {
     "name": "stdout",
     "output_type": "stream",
     "text": [
      "Requirement already satisfied: en-core-web-sm==3.2.0 from https://github.com/explosion/spacy-models/releases/download/en_core_web_sm-3.2.0/en_core_web_sm-3.2.0-py3-none-any.whl#egg=en_core_web_sm==3.2.0 in c:\\ntu tutorials\\year 1\\sem 2\\data science and ai\\dsai\\anaconda\\lib\\site-packages (3.2.0)\n",
      "Requirement already satisfied: spacy<3.3.0,>=3.2.0 in c:\\ntu tutorials\\year 1\\sem 2\\data science and ai\\dsai\\anaconda\\lib\\site-packages (from en-core-web-sm==3.2.0) (3.2.4)\n",
      "Requirement already satisfied: langcodes<4.0.0,>=3.2.0 in c:\\ntu tutorials\\year 1\\sem 2\\data science and ai\\dsai\\anaconda\\lib\\site-packages (from spacy<3.3.0,>=3.2.0->en-core-web-sm==3.2.0) (3.3.0)\n",
      "Requirement already satisfied: murmurhash<1.1.0,>=0.28.0 in c:\\ntu tutorials\\year 1\\sem 2\\data science and ai\\dsai\\anaconda\\lib\\site-packages (from spacy<3.3.0,>=3.2.0->en-core-web-sm==3.2.0) (1.0.6)\n",
      "Requirement already satisfied: typer<0.5.0,>=0.3.0 in c:\\ntu tutorials\\year 1\\sem 2\\data science and ai\\dsai\\anaconda\\lib\\site-packages (from spacy<3.3.0,>=3.2.0->en-core-web-sm==3.2.0) (0.4.1)\n",
      "Requirement already satisfied: wasabi<1.1.0,>=0.8.1 in c:\\ntu tutorials\\year 1\\sem 2\\data science and ai\\dsai\\anaconda\\lib\\site-packages (from spacy<3.3.0,>=3.2.0->en-core-web-sm==3.2.0) (0.9.1)\n",
      "Requirement already satisfied: tqdm<5.0.0,>=4.38.0 in c:\\ntu tutorials\\year 1\\sem 2\\data science and ai\\dsai\\anaconda\\lib\\site-packages (from spacy<3.3.0,>=3.2.0->en-core-web-sm==3.2.0) (4.50.2)\n",
      "Requirement already satisfied: thinc<8.1.0,>=8.0.12 in c:\\ntu tutorials\\year 1\\sem 2\\data science and ai\\dsai\\anaconda\\lib\\site-packages (from spacy<3.3.0,>=3.2.0->en-core-web-sm==3.2.0) (8.0.15)\n",
      "Requirement already satisfied: requests<3.0.0,>=2.13.0 in c:\\ntu tutorials\\year 1\\sem 2\\data science and ai\\dsai\\anaconda\\lib\\site-packages (from spacy<3.3.0,>=3.2.0->en-core-web-sm==3.2.0) (2.24.0)\n",
      "Requirement already satisfied: blis<0.8.0,>=0.4.0 in c:\\ntu tutorials\\year 1\\sem 2\\data science and ai\\dsai\\anaconda\\lib\\site-packages (from spacy<3.3.0,>=3.2.0->en-core-web-sm==3.2.0) (0.7.7)\n",
      "Requirement already satisfied: pathy>=0.3.5 in c:\\ntu tutorials\\year 1\\sem 2\\data science and ai\\dsai\\anaconda\\lib\\site-packages (from spacy<3.3.0,>=3.2.0->en-core-web-sm==3.2.0) (0.6.1)\n",
      "Requirement already satisfied: setuptools in c:\\ntu tutorials\\year 1\\sem 2\\data science and ai\\dsai\\anaconda\\lib\\site-packages (from spacy<3.3.0,>=3.2.0->en-core-web-sm==3.2.0) (50.3.1.post20201107)\n",
      "Requirement already satisfied: cymem<2.1.0,>=2.0.2 in c:\\ntu tutorials\\year 1\\sem 2\\data science and ai\\dsai\\anaconda\\lib\\site-packages (from spacy<3.3.0,>=3.2.0->en-core-web-sm==3.2.0) (2.0.6)\n",
      "Requirement already satisfied: catalogue<2.1.0,>=2.0.6 in c:\\ntu tutorials\\year 1\\sem 2\\data science and ai\\dsai\\anaconda\\lib\\site-packages (from spacy<3.3.0,>=3.2.0->en-core-web-sm==3.2.0) (2.0.7)\n",
      "Requirement already satisfied: jinja2 in c:\\ntu tutorials\\year 1\\sem 2\\data science and ai\\dsai\\anaconda\\lib\\site-packages (from spacy<3.3.0,>=3.2.0->en-core-web-sm==3.2.0) (2.11.2)\n",
      "Requirement already satisfied: packaging>=20.0 in c:\\ntu tutorials\\year 1\\sem 2\\data science and ai\\dsai\\anaconda\\lib\\site-packages (from spacy<3.3.0,>=3.2.0->en-core-web-sm==3.2.0) (21.3)\n",
      "Requirement already satisfied: srsly<3.0.0,>=2.4.1 in c:\\ntu tutorials\\year 1\\sem 2\\data science and ai\\dsai\\anaconda\\lib\\site-packages (from spacy<3.3.0,>=3.2.0->en-core-web-sm==3.2.0) (2.4.2)\n",
      "Requirement already satisfied: click<8.1.0 in c:\\ntu tutorials\\year 1\\sem 2\\data science and ai\\dsai\\anaconda\\lib\\site-packages (from spacy<3.3.0,>=3.2.0->en-core-web-sm==3.2.0) (7.1.2)\n",
      "Requirement already satisfied: preshed<3.1.0,>=3.0.2 in c:\\ntu tutorials\\year 1\\sem 2\\data science and ai\\dsai\\anaconda\\lib\\site-packages (from spacy<3.3.0,>=3.2.0->en-core-web-sm==3.2.0) (3.0.6)\n",
      "Requirement already satisfied: numpy>=1.15.0 in c:\\ntu tutorials\\year 1\\sem 2\\data science and ai\\dsai\\anaconda\\lib\\site-packages (from spacy<3.3.0,>=3.2.0->en-core-web-sm==3.2.0) (1.22.3)\n",
      "Requirement already satisfied: spacy-loggers<2.0.0,>=1.0.0 in c:\\ntu tutorials\\year 1\\sem 2\\data science and ai\\dsai\\anaconda\\lib\\site-packages (from spacy<3.3.0,>=3.2.0->en-core-web-sm==3.2.0) (1.0.2)\n",
      "Requirement already satisfied: spacy-legacy<3.1.0,>=3.0.8 in c:\\ntu tutorials\\year 1\\sem 2\\data science and ai\\dsai\\anaconda\\lib\\site-packages (from spacy<3.3.0,>=3.2.0->en-core-web-sm==3.2.0) (3.0.9)\n",
      "Requirement already satisfied: pydantic!=1.8,!=1.8.1,<1.9.0,>=1.7.4 in c:\\ntu tutorials\\year 1\\sem 2\\data science and ai\\dsai\\anaconda\\lib\\site-packages (from spacy<3.3.0,>=3.2.0->en-core-web-sm==3.2.0) (1.8.2)\n",
      "Requirement already satisfied: idna<3,>=2.5 in c:\\ntu tutorials\\year 1\\sem 2\\data science and ai\\dsai\\anaconda\\lib\\site-packages (from requests<3.0.0,>=2.13.0->spacy<3.3.0,>=3.2.0->en-core-web-sm==3.2.0) (2.10)\n",
      "Requirement already satisfied: urllib3!=1.25.0,!=1.25.1,<1.26,>=1.21.1 in c:\\ntu tutorials\\year 1\\sem 2\\data science and ai\\dsai\\anaconda\\lib\\site-packages (from requests<3.0.0,>=2.13.0->spacy<3.3.0,>=3.2.0->en-core-web-sm==3.2.0) (1.25.11)\n",
      "Requirement already satisfied: chardet<4,>=3.0.2 in c:\\ntu tutorials\\year 1\\sem 2\\data science and ai\\dsai\\anaconda\\lib\\site-packages (from requests<3.0.0,>=2.13.0->spacy<3.3.0,>=3.2.0->en-core-web-sm==3.2.0) (3.0.4)\n",
      "Requirement already satisfied: certifi>=2017.4.17 in c:\\ntu tutorials\\year 1\\sem 2\\data science and ai\\dsai\\anaconda\\lib\\site-packages (from requests<3.0.0,>=2.13.0->spacy<3.3.0,>=3.2.0->en-core-web-sm==3.2.0) (2020.6.20)\n",
      "Requirement already satisfied: smart-open<6.0.0,>=5.0.0 in c:\\ntu tutorials\\year 1\\sem 2\\data science and ai\\dsai\\anaconda\\lib\\site-packages (from pathy>=0.3.5->spacy<3.3.0,>=3.2.0->en-core-web-sm==3.2.0) (5.2.1)\n",
      "Requirement already satisfied: MarkupSafe>=0.23 in c:\\ntu tutorials\\year 1\\sem 2\\data science and ai\\dsai\\anaconda\\lib\\site-packages (from jinja2->spacy<3.3.0,>=3.2.0->en-core-web-sm==3.2.0) (1.1.1)\n",
      "Requirement already satisfied: pyparsing!=3.0.5,>=2.0.2 in c:\\ntu tutorials\\year 1\\sem 2\\data science and ai\\dsai\\anaconda\\lib\\site-packages (from packaging>=20.0->spacy<3.3.0,>=3.2.0->en-core-web-sm==3.2.0) (2.4.7)\n",
      "Requirement already satisfied: typing-extensions>=3.7.4.3 in c:\\ntu tutorials\\year 1\\sem 2\\data science and ai\\dsai\\anaconda\\lib\\site-packages (from pydantic!=1.8,!=1.8.1,<1.9.0,>=1.7.4->spacy<3.3.0,>=3.2.0->en-core-web-sm==3.2.0) (3.7.4.3)\n",
      "[+] Download and installation successful\n",
      "You can now load the package via spacy.load('en_core_web_sm')\n"
     ]
    }
   ],
   "source": [
    "!python -m spacy download en_core_web_sm"
   ]
  },
  {
   "cell_type": "markdown",
   "metadata": {},
   "source": [
    "# Section A : Extract texts from PDF files to create document repository"
   ]
  },
  {
   "cell_type": "code",
   "execution_count": 23,
   "metadata": {
    "execution": {
     "iopub.execute_input": "2022-04-01T15:09:11.162277Z",
     "iopub.status.busy": "2022-04-01T15:09:11.161882Z",
     "iopub.status.idle": "2022-04-01T15:09:18.278756Z",
     "shell.execute_reply": "2022-04-01T15:09:18.277811Z",
     "shell.execute_reply.started": "2022-04-01T15:09:11.162243Z"
    }
   },
   "outputs": [
    {
     "name": "stderr",
     "output_type": "stream",
     "text": [
      "C:\\NTU Tutorials\\Year 1\\Sem 2\\Data Science and AI\\DSAI\\Anaconda\\lib\\site-packages\\ipykernel\\ipkernel.py:287: DeprecationWarning: `should_run_async` will not call `transform_cell` automatically in the future. Please pass the result to `transformed_cell` argument and any exception that happen during thetransform in `preprocessing_exc_tuple` in IPython 7.17 and above.\n",
      "  and should_run_async(code)\n"
     ]
    },
    {
     "name": "stdout",
     "output_type": "stream",
     "text": [
      "Collecting pdfplumber\n",
      "  Downloading pdfplumber-0.6.0.tar.gz (46 kB)\n",
      "Collecting pdfminer.six==20211012\n",
      "  Downloading pdfminer.six-20211012-py3-none-any.whl (5.6 MB)\n",
      "Collecting Pillow>=8.4\n",
      "  Downloading Pillow-9.1.0-cp38-cp38-win_amd64.whl (3.3 MB)\n",
      "Collecting Wand>=0.6.7\n",
      "  Downloading Wand-0.6.7-py2.py3-none-any.whl (139 kB)\n",
      "Requirement already satisfied: chardet; python_version > \"3.0\" in c:\\ntu tutorials\\year 1\\sem 2\\data science and ai\\dsai\\anaconda\\lib\\site-packages (from pdfminer.six==20211012->pdfplumber) (3.0.4)\n",
      "Requirement already satisfied: cryptography in c:\\ntu tutorials\\year 1\\sem 2\\data science and ai\\dsai\\anaconda\\lib\\site-packages (from pdfminer.six==20211012->pdfplumber) (3.1.1)\n",
      "Requirement already satisfied: cffi!=1.11.3,>=1.8 in c:\\ntu tutorials\\year 1\\sem 2\\data science and ai\\dsai\\anaconda\\lib\\site-packages (from cryptography->pdfminer.six==20211012->pdfplumber) (1.14.3)\n",
      "Requirement already satisfied: six>=1.4.1 in c:\\users\\roydo\\appdata\\roaming\\python\\python38\\site-packages (from cryptography->pdfminer.six==20211012->pdfplumber) (1.15.0)\n",
      "Requirement already satisfied: pycparser in c:\\ntu tutorials\\year 1\\sem 2\\data science and ai\\dsai\\anaconda\\lib\\site-packages (from cffi!=1.11.3,>=1.8->cryptography->pdfminer.six==20211012->pdfplumber) (2.20)\n",
      "Building wheels for collected packages: pdfplumber\n",
      "  Building wheel for pdfplumber (setup.py): started\n",
      "  Building wheel for pdfplumber (setup.py): finished with status 'done'\n",
      "  Created wheel for pdfplumber: filename=pdfplumber-0.6.0-py3-none-any.whl size=33674 sha256=8dee7c10b16d8836b4d29df16a563f4597a0b432c8317d1caa0de05a2da6b457\n",
      "  Stored in directory: c:\\users\\roydo\\appdata\\local\\pip\\cache\\wheels\\42\\74\\b8\\c95f716311b9ee587844cd73381fc19079bccfc05110378c61\n",
      "Successfully built pdfplumber\n",
      "Installing collected packages: pdfminer.six, Pillow, Wand, pdfplumber\n",
      "  Attempting uninstall: Pillow\n",
      "    Found existing installation: Pillow 8.0.1\n",
      "    Uninstalling Pillow-8.0.1:\n",
      "      Successfully uninstalled Pillow-8.0.1\n",
      "Successfully installed Pillow-9.1.0 Wand-0.6.7 pdfminer.six-20211012 pdfplumber-0.6.0\n"
     ]
    }
   ],
   "source": [
    "!pip install pdfplumber"
   ]
  },
  {
   "cell_type": "code",
   "execution_count": 3,
   "metadata": {
    "execution": {
     "iopub.execute_input": "2022-04-01T15:09:18.282666Z",
     "iopub.status.busy": "2022-04-01T15:09:18.282333Z",
     "iopub.status.idle": "2022-04-01T15:09:22.239072Z",
     "shell.execute_reply": "2022-04-01T15:09:22.238165Z",
     "shell.execute_reply.started": "2022-04-01T15:09:18.282629Z"
    }
   },
   "outputs": [
    {
     "name": "stderr",
     "output_type": "stream",
     "text": [
      "C:\\NTU Tutorials\\Year 1\\Sem 2\\Data Science and AI\\DSAI\\Anaconda\\lib\\site-packages\\ipykernel\\ipkernel.py:287: DeprecationWarning: `should_run_async` will not call `transform_cell` automatically in the future. Please pass the result to `transformed_cell` argument and any exception that happen during thetransform in `preprocessing_exc_tuple` in IPython 7.17 and above.\n",
      "  and should_run_async(code)\n",
      "<ipython-input-3-0fc2efeadd2a>:33: FutureWarning: The frame.append method is deprecated and will be removed from pandas in a future version. Use pandas.concat instead.\n",
      "  pdf_text_df = pdf_text_df.append(pdf_text_dict, ignore_index=True, sort=False)\n"
     ]
    },
    {
     "name": "stdout",
     "output_type": "stream",
     "text": [
      "Texts can be extracted from 8 pages in 'HogRider_Champion Agent of Microsoft Malmo Collaborative AI Challenge.pdf'\n",
      "----------------------------------------------------------------------------------------------------\n",
      "Texts can be extracted from 8 pages in 'LDAvis.pdf'\n",
      "----------------------------------------------------------------------------------------------------\n"
     ]
    },
    {
     "name": "stderr",
     "output_type": "stream",
     "text": [
      "<ipython-input-3-0fc2efeadd2a>:33: FutureWarning: The frame.append method is deprecated and will be removed from pandas in a future version. Use pandas.concat instead.\n",
      "  pdf_text_df = pdf_text_df.append(pdf_text_dict, ignore_index=True, sort=False)\n"
     ]
    },
    {
     "data": {
      "text/html": [
       "<div>\n",
       "<style scoped>\n",
       "    .dataframe tbody tr th:only-of-type {\n",
       "        vertical-align: middle;\n",
       "    }\n",
       "\n",
       "    .dataframe tbody tr th {\n",
       "        vertical-align: top;\n",
       "    }\n",
       "\n",
       "    .dataframe thead th {\n",
       "        text-align: right;\n",
       "    }\n",
       "</style>\n",
       "<table border=\"1\" class=\"dataframe\">\n",
       "  <thead>\n",
       "    <tr style=\"text-align: right;\">\n",
       "      <th></th>\n",
       "      <th>pdf_name</th>\n",
       "      <th>total_pages</th>\n",
       "      <th>doc_text</th>\n",
       "      <th>chars</th>\n",
       "    </tr>\n",
       "  </thead>\n",
       "  <tbody>\n",
       "    <tr>\n",
       "      <th>0</th>\n",
       "      <td>HogRider_Champion Agent of Microsoft Malmo Col...</td>\n",
       "      <td>8</td>\n",
       "      <td>HogRider: Champion Agent of Microsoft Malmo Co...</td>\n",
       "      <td>40377</td>\n",
       "    </tr>\n",
       "    <tr>\n",
       "      <th>1</th>\n",
       "      <td>LDAvis.pdf</td>\n",
       "      <td>8</td>\n",
       "      <td>LDAvis: A method for visualizing and interpret...</td>\n",
       "      <td>31350</td>\n",
       "    </tr>\n",
       "  </tbody>\n",
       "</table>\n",
       "</div>"
      ],
      "text/plain": [
       "                                            pdf_name total_pages  \\\n",
       "0  HogRider_Champion Agent of Microsoft Malmo Col...           8   \n",
       "1                                         LDAvis.pdf           8   \n",
       "\n",
       "                                            doc_text  chars  \n",
       "0  HogRider: Champion Agent of Microsoft Malmo Co...  40377  \n",
       "1  LDAvis: A method for visualizing and interpret...  31350  "
      ]
     },
     "execution_count": 3,
     "metadata": {},
     "output_type": "execute_result"
    }
   ],
   "source": [
    "# https://github.com/jsvine/pdfplumber\n",
    "import pdfplumber\n",
    "\n",
    "pdfToText = ''\n",
    "# pdf_filename = '/kaggle/input/nips-papers/LDAvis.pdf'\n",
    "PDF_DIR_PATH = 'C:/Users/roydo/Desktop/Goldman Sachs/Data downloaded/'\n",
    "pdf_text_df = pd.DataFrame(columns=['pdf_name', 'total_pages', 'doc_text', 'chars'])\n",
    "\n",
    "pdf_text_dict = {}\n",
    "\n",
    "filenames = [fname for fname in listdir(PDF_DIR_PATH) if os.path.isfile(PDF_DIR_PATH+fname)]\n",
    "pdf_filenames = filter(lambda fname: fname.endswith(('.pdf','.PDF')), filenames)\n",
    "list_pdf_filenames = list(pdf_filenames)\n",
    "\n",
    "for pdf_filename in list_pdf_filenames:\n",
    "    with pdfplumber.open(PDF_DIR_PATH + pdf_filename) as pdf:\n",
    "        # Reset the extracted text\n",
    "        pdfToText = ''\n",
    "        for page in pdf.pages:\n",
    "            pdfToText += page.extract_text()\n",
    "\n",
    "        # Extract single page\n",
    "        # first_page = pdf.pages[0]\n",
    "        # print(first_page.extract_text())\n",
    "        # type(pdf), type(first_page)\n",
    "\n",
    "        # Store extracted texts for each pdf file\n",
    "        pdf_text_dict['pdf_name'] = pdf_filename\n",
    "        pdf_text_dict['total_pages'] = len(pdf.pages)\n",
    "        pdf_text_dict['doc_text'] = pdfToText\n",
    "        pdf_text_dict['chars'] = len(pdfToText)\n",
    "\n",
    "        pdf_text_df = pdf_text_df.append(pdf_text_dict, ignore_index=True, sort=False)\n",
    "        # Some texts are joint into a word and column texts need to be manipulated\n",
    "        print(\"Texts can be extracted from {} pages in \\'{}\\'\".format(len(pdf.pages), pdf_filename))\n",
    "        print(\"-\" * 100)\n",
    "\n",
    "pdf_text_df"
   ]
  },
  {
   "cell_type": "markdown",
   "metadata": {},
   "source": [
    "# Section B : Data Mining"
   ]
  },
  {
   "cell_type": "markdown",
   "metadata": {
    "papermill": {
     "duration": 0.020909,
     "end_time": "2022-03-19T15:32:09.685702",
     "exception": false,
     "start_time": "2022-03-19T15:32:09.664793",
     "status": "completed"
    },
    "tags": []
   },
   "source": [
    "## 1. Load Data"
   ]
  },
  {
   "cell_type": "code",
   "execution_count": 4,
   "metadata": {
    "execution": {
     "iopub.execute_input": "2022-04-01T15:09:22.241122Z",
     "iopub.status.busy": "2022-04-01T15:09:22.240416Z",
     "iopub.status.idle": "2022-04-01T15:09:24.110002Z",
     "shell.execute_reply": "2022-04-01T15:09:24.109418Z",
     "shell.execute_reply.started": "2022-04-01T15:09:22.241080Z"
    },
    "papermill": {
     "duration": 3.364084,
     "end_time": "2022-03-19T15:32:13.071154",
     "exception": false,
     "start_time": "2022-03-19T15:32:09.70707",
     "status": "completed"
    },
    "tags": []
   },
   "outputs": [
    {
     "name": "stderr",
     "output_type": "stream",
     "text": [
      "C:\\NTU Tutorials\\Year 1\\Sem 2\\Data Science and AI\\DSAI\\Anaconda\\lib\\site-packages\\ipykernel\\ipkernel.py:287: DeprecationWarning: `should_run_async` will not call `transform_cell` automatically in the future. Please pass the result to `transformed_cell` argument and any exception that happen during thetransform in `preprocessing_exc_tuple` in IPython 7.17 and above.\n",
      "  and should_run_async(code)\n"
     ]
    },
    {
     "data": {
      "text/html": [
       "<div>\n",
       "<style scoped>\n",
       "    .dataframe tbody tr th:only-of-type {\n",
       "        vertical-align: middle;\n",
       "    }\n",
       "\n",
       "    .dataframe tbody tr th {\n",
       "        vertical-align: top;\n",
       "    }\n",
       "\n",
       "    .dataframe thead th {\n",
       "        text-align: right;\n",
       "    }\n",
       "</style>\n",
       "<table border=\"1\" class=\"dataframe\">\n",
       "  <thead>\n",
       "    <tr style=\"text-align: right;\">\n",
       "      <th></th>\n",
       "      <th>id</th>\n",
       "      <th>year</th>\n",
       "      <th>title</th>\n",
       "      <th>event_type</th>\n",
       "      <th>pdf_name</th>\n",
       "      <th>abstract</th>\n",
       "      <th>paper_text</th>\n",
       "    </tr>\n",
       "  </thead>\n",
       "  <tbody>\n",
       "    <tr>\n",
       "      <th>0</th>\n",
       "      <td>1</td>\n",
       "      <td>1987</td>\n",
       "      <td>Self-Organization of Associative Database and ...</td>\n",
       "      <td>NaN</td>\n",
       "      <td>1-self-organization-of-associative-database-an...</td>\n",
       "      <td>Abstract Missing</td>\n",
       "      <td>767\\n\\nSELF-ORGANIZATION OF ASSOCIATIVE DATABA...</td>\n",
       "    </tr>\n",
       "    <tr>\n",
       "      <th>1</th>\n",
       "      <td>10</td>\n",
       "      <td>1987</td>\n",
       "      <td>A Mean Field Theory of Layer IV of Visual Cort...</td>\n",
       "      <td>NaN</td>\n",
       "      <td>10-a-mean-field-theory-of-layer-iv-of-visual-c...</td>\n",
       "      <td>Abstract Missing</td>\n",
       "      <td>683\\n\\nA MEAN FIELD THEORY OF LAYER IV OF VISU...</td>\n",
       "    </tr>\n",
       "    <tr>\n",
       "      <th>2</th>\n",
       "      <td>100</td>\n",
       "      <td>1988</td>\n",
       "      <td>Storing Covariance by the Associative Long-Ter...</td>\n",
       "      <td>NaN</td>\n",
       "      <td>100-storing-covariance-by-the-associative-long...</td>\n",
       "      <td>Abstract Missing</td>\n",
       "      <td>394\\n\\nSTORING COVARIANCE BY THE ASSOCIATIVE\\n...</td>\n",
       "    </tr>\n",
       "    <tr>\n",
       "      <th>3</th>\n",
       "      <td>1000</td>\n",
       "      <td>1994</td>\n",
       "      <td>Bayesian Query Construction for Neural Network...</td>\n",
       "      <td>NaN</td>\n",
       "      <td>1000-bayesian-query-construction-for-neural-ne...</td>\n",
       "      <td>Abstract Missing</td>\n",
       "      <td>Bayesian Query Construction for Neural\\nNetwor...</td>\n",
       "    </tr>\n",
       "    <tr>\n",
       "      <th>4</th>\n",
       "      <td>1001</td>\n",
       "      <td>1994</td>\n",
       "      <td>Neural Network Ensembles, Cross Validation, an...</td>\n",
       "      <td>NaN</td>\n",
       "      <td>1001-neural-network-ensembles-cross-validation...</td>\n",
       "      <td>Abstract Missing</td>\n",
       "      <td>Neural Network Ensembles, Cross\\nValidation, a...</td>\n",
       "    </tr>\n",
       "  </tbody>\n",
       "</table>\n",
       "</div>"
      ],
      "text/plain": [
       "     id  year                                              title event_type  \\\n",
       "0     1  1987  Self-Organization of Associative Database and ...        NaN   \n",
       "1    10  1987  A Mean Field Theory of Layer IV of Visual Cort...        NaN   \n",
       "2   100  1988  Storing Covariance by the Associative Long-Ter...        NaN   \n",
       "3  1000  1994  Bayesian Query Construction for Neural Network...        NaN   \n",
       "4  1001  1994  Neural Network Ensembles, Cross Validation, an...        NaN   \n",
       "\n",
       "                                            pdf_name          abstract  \\\n",
       "0  1-self-organization-of-associative-database-an...  Abstract Missing   \n",
       "1  10-a-mean-field-theory-of-layer-iv-of-visual-c...  Abstract Missing   \n",
       "2  100-storing-covariance-by-the-associative-long...  Abstract Missing   \n",
       "3  1000-bayesian-query-construction-for-neural-ne...  Abstract Missing   \n",
       "4  1001-neural-network-ensembles-cross-validation...  Abstract Missing   \n",
       "\n",
       "                                          paper_text  \n",
       "0  767\\n\\nSELF-ORGANIZATION OF ASSOCIATIVE DATABA...  \n",
       "1  683\\n\\nA MEAN FIELD THEORY OF LAYER IV OF VISU...  \n",
       "2  394\\n\\nSTORING COVARIANCE BY THE ASSOCIATIVE\\n...  \n",
       "3  Bayesian Query Construction for Neural\\nNetwor...  \n",
       "4  Neural Network Ensembles, Cross\\nValidation, a...  "
      ]
     },
     "execution_count": 4,
     "metadata": {},
     "output_type": "execute_result"
    }
   ],
   "source": [
    "# Load data into papers\n",
    "papers = pd.read_csv('C:/Users/roydo/Desktop/Goldman Sachs/Data downloaded/papers.csv')\n",
    "\n",
    "# papers.shape : (6560, 8)\n",
    "papers.head()"
   ]
  },
  {
   "cell_type": "markdown",
   "metadata": {
    "papermill": {
     "duration": 0.022054,
     "end_time": "2022-03-19T15:32:13.115864",
     "exception": false,
     "start_time": "2022-03-19T15:32:13.09381",
     "status": "completed"
    },
    "tags": []
   },
   "source": [
    "## 2. Data Cleaning for NLP"
   ]
  },
  {
   "cell_type": "code",
   "execution_count": 5,
   "metadata": {
    "execution": {
     "iopub.execute_input": "2022-04-01T15:09:24.111517Z",
     "iopub.status.busy": "2022-04-01T15:09:24.110950Z",
     "iopub.status.idle": "2022-04-01T15:09:24.128125Z",
     "shell.execute_reply": "2022-04-01T15:09:24.127238Z",
     "shell.execute_reply.started": "2022-04-01T15:09:24.111482Z"
    },
    "papermill": {
     "duration": 0.048472,
     "end_time": "2022-03-19T15:32:13.186483",
     "exception": false,
     "start_time": "2022-03-19T15:32:13.138011",
     "status": "completed"
    },
    "tags": []
   },
   "outputs": [
    {
     "name": "stderr",
     "output_type": "stream",
     "text": [
      "C:\\NTU Tutorials\\Year 1\\Sem 2\\Data Science and AI\\DSAI\\Anaconda\\lib\\site-packages\\ipykernel\\ipkernel.py:287: DeprecationWarning: `should_run_async` will not call `transform_cell` automatically in the future. Please pass the result to `transformed_cell` argument and any exception that happen during thetransform in `preprocessing_exc_tuple` in IPython 7.17 and above.\n",
      "  and should_run_async(code)\n"
     ]
    },
    {
     "data": {
      "text/html": [
       "<div>\n",
       "<style scoped>\n",
       "    .dataframe tbody tr th:only-of-type {\n",
       "        vertical-align: middle;\n",
       "    }\n",
       "\n",
       "    .dataframe tbody tr th {\n",
       "        vertical-align: top;\n",
       "    }\n",
       "\n",
       "    .dataframe thead th {\n",
       "        text-align: right;\n",
       "    }\n",
       "</style>\n",
       "<table border=\"1\" class=\"dataframe\">\n",
       "  <thead>\n",
       "    <tr style=\"text-align: right;\">\n",
       "      <th></th>\n",
       "      <th>year</th>\n",
       "      <th>title</th>\n",
       "      <th>abstract</th>\n",
       "      <th>paper_text</th>\n",
       "    </tr>\n",
       "  </thead>\n",
       "  <tbody>\n",
       "    <tr>\n",
       "      <th>0</th>\n",
       "      <td>1987</td>\n",
       "      <td>Self-Organization of Associative Database and ...</td>\n",
       "      <td>Abstract Missing</td>\n",
       "      <td>767\\n\\nSELF-ORGANIZATION OF ASSOCIATIVE DATABA...</td>\n",
       "    </tr>\n",
       "    <tr>\n",
       "      <th>1</th>\n",
       "      <td>1987</td>\n",
       "      <td>A Mean Field Theory of Layer IV of Visual Cort...</td>\n",
       "      <td>Abstract Missing</td>\n",
       "      <td>683\\n\\nA MEAN FIELD THEORY OF LAYER IV OF VISU...</td>\n",
       "    </tr>\n",
       "    <tr>\n",
       "      <th>2</th>\n",
       "      <td>1988</td>\n",
       "      <td>Storing Covariance by the Associative Long-Ter...</td>\n",
       "      <td>Abstract Missing</td>\n",
       "      <td>394\\n\\nSTORING COVARIANCE BY THE ASSOCIATIVE\\n...</td>\n",
       "    </tr>\n",
       "    <tr>\n",
       "      <th>3</th>\n",
       "      <td>1994</td>\n",
       "      <td>Bayesian Query Construction for Neural Network...</td>\n",
       "      <td>Abstract Missing</td>\n",
       "      <td>Bayesian Query Construction for Neural\\nNetwor...</td>\n",
       "    </tr>\n",
       "    <tr>\n",
       "      <th>4</th>\n",
       "      <td>1994</td>\n",
       "      <td>Neural Network Ensembles, Cross Validation, an...</td>\n",
       "      <td>Abstract Missing</td>\n",
       "      <td>Neural Network Ensembles, Cross\\nValidation, a...</td>\n",
       "    </tr>\n",
       "  </tbody>\n",
       "</table>\n",
       "</div>"
      ],
      "text/plain": [
       "   year                                              title          abstract  \\\n",
       "0  1987  Self-Organization of Associative Database and ...  Abstract Missing   \n",
       "1  1987  A Mean Field Theory of Layer IV of Visual Cort...  Abstract Missing   \n",
       "2  1988  Storing Covariance by the Associative Long-Ter...  Abstract Missing   \n",
       "3  1994  Bayesian Query Construction for Neural Network...  Abstract Missing   \n",
       "4  1994  Neural Network Ensembles, Cross Validation, an...  Abstract Missing   \n",
       "\n",
       "                                          paper_text  \n",
       "0  767\\n\\nSELF-ORGANIZATION OF ASSOCIATIVE DATABA...  \n",
       "1  683\\n\\nA MEAN FIELD THEORY OF LAYER IV OF VISU...  \n",
       "2  394\\n\\nSTORING COVARIANCE BY THE ASSOCIATIVE\\n...  \n",
       "3  Bayesian Query Construction for Neural\\nNetwor...  \n",
       "4  Neural Network Ensembles, Cross\\nValidation, a...  "
      ]
     },
     "execution_count": 5,
     "metadata": {},
     "output_type": "execute_result"
    }
   ],
   "source": [
    "# Keep only the required columns and obtain first 500 samples [:500]\n",
    "samples = papers.shape[0]\n",
    "papers_text_df = papers.drop(columns=['id', 'event_type', 'pdf_name'], axis=1)\n",
    "\n",
    "# Or get random samples with papers.sample(samples)\n",
    "papers_text_df.head()"
   ]
  },
  {
   "cell_type": "markdown",
   "metadata": {
    "papermill": {
     "duration": 0.026319,
     "end_time": "2022-03-19T15:32:13.236479",
     "exception": false,
     "start_time": "2022-03-19T15:32:13.21016",
     "status": "completed"
    },
    "tags": []
   },
   "source": [
    "### Remove punctuations and lower casing\n",
    "* Perform a simple preprocessing on the content of \"paper_text\" column to make them more amenable for analysis. Use a regular expression to remove any punctuations and lowercase text.  We might also want to remove plurality."
   ]
  },
  {
   "cell_type": "code",
   "execution_count": 6,
   "metadata": {
    "execution": {
     "iopub.execute_input": "2022-04-01T15:09:24.129996Z",
     "iopub.status.busy": "2022-04-01T15:09:24.129576Z",
     "iopub.status.idle": "2022-04-01T15:09:26.678477Z",
     "shell.execute_reply": "2022-04-01T15:09:26.677648Z",
     "shell.execute_reply.started": "2022-04-01T15:09:24.129927Z"
    },
    "papermill": {
     "duration": 5.3881,
     "end_time": "2022-03-19T15:32:18.648522",
     "exception": false,
     "start_time": "2022-03-19T15:32:13.260422",
     "status": "completed"
    },
    "tags": []
   },
   "outputs": [
    {
     "name": "stderr",
     "output_type": "stream",
     "text": [
      "C:\\NTU Tutorials\\Year 1\\Sem 2\\Data Science and AI\\DSAI\\Anaconda\\lib\\site-packages\\ipykernel\\ipkernel.py:287: DeprecationWarning: `should_run_async` will not call `transform_cell` automatically in the future. Please pass the result to `transformed_cell` argument and any exception that happen during thetransform in `preprocessing_exc_tuple` in IPython 7.17 and above.\n",
      "  and should_run_async(code)\n"
     ]
    },
    {
     "data": {
      "text/plain": [
       "0    767\\n\\nself-organization of associative databa...\n",
       "1    683\\n\\na mean field theory of layer iv of visu...\n",
       "2    394\\n\\nstoring covariance by the associative\\n...\n",
       "3    bayesian query construction for neural\\nnetwor...\n",
       "4    neural network ensembles cross\\nvalidation and...\n",
       "Name: paper_text_processed, dtype: object"
      ]
     },
     "execution_count": 6,
     "metadata": {},
     "output_type": "execute_result"
    }
   ],
   "source": [
    "# Remove punctuation\n",
    "papers['paper_text_processed'] = papers['paper_text'].map(lambda x: re.sub('[,\\\\.!?]', '', x)) # replace \\ with \\\\\n",
    "\n",
    "# Convert the titles to lowercase\n",
    "papers['paper_text_processed'] = papers['paper_text_processed'].map(lambda x: x.lower())\n",
    "\n",
    "# Print out the first rows of papers\n",
    "papers['paper_text_processed'].head()\n",
    "\n",
    "# papers['paper_text_processed'].iloc[0]"
   ]
  },
  {
   "cell_type": "markdown",
   "metadata": {
    "papermill": {
     "duration": 0.024508,
     "end_time": "2022-03-19T15:32:18.697609",
     "exception": false,
     "start_time": "2022-03-19T15:32:18.673101",
     "status": "completed"
    },
    "tags": []
   },
   "source": [
    "## 3. Exploratory Data Analysis (EDA)\n",
    "\n",
    "* Using the wordcloud package to have a visual representation of most common words.  It is important to understand the data and ensure that we are on the right track.  Further preprocessing might be required before training the model."
   ]
  },
  {
   "cell_type": "code",
   "execution_count": 7,
   "metadata": {
    "execution": {
     "iopub.execute_input": "2022-04-01T15:09:26.680495Z",
     "iopub.status.busy": "2022-04-01T15:09:26.680022Z",
     "iopub.status.idle": "2022-04-01T15:10:54.149474Z",
     "shell.execute_reply": "2022-04-01T15:10:54.148660Z",
     "shell.execute_reply.started": "2022-04-01T15:09:26.680454Z"
    },
    "papermill": {
     "duration": 114.01257,
     "end_time": "2022-03-19T15:34:12.733818",
     "exception": false,
     "start_time": "2022-03-19T15:32:18.721248",
     "status": "completed"
    },
    "tags": []
   },
   "outputs": [
    {
     "name": "stderr",
     "output_type": "stream",
     "text": [
      "C:\\NTU Tutorials\\Year 1\\Sem 2\\Data Science and AI\\DSAI\\Anaconda\\lib\\site-packages\\ipykernel\\ipkernel.py:287: DeprecationWarning: `should_run_async` will not call `transform_cell` automatically in the future. Please pass the result to `transformed_cell` argument and any exception that happen during thetransform in `preprocessing_exc_tuple` in IPython 7.17 and above.\n",
      "  and should_run_async(code)\n",
      "C:\\NTU Tutorials\\Year 1\\Sem 2\\Data Science and AI\\DSAI\\Anaconda\\lib\\site-packages\\wordcloud\\wordcloud.py:512: DeprecationWarning: ROTATE_90 is deprecated and will be removed in Pillow 10 (2023-07-01). Use Transpose.ROTATE_90 instead.\n",
      "  orientation = (Image.ROTATE_90 if orientation is None else\n",
      "C:\\NTU Tutorials\\Year 1\\Sem 2\\Data Science and AI\\DSAI\\Anaconda\\lib\\site-packages\\wordcloud\\wordcloud.py:512: DeprecationWarning: ROTATE_90 is deprecated and will be removed in Pillow 10 (2023-07-01). Use Transpose.ROTATE_90 instead.\n",
      "  orientation = (Image.ROTATE_90 if orientation is None else\n",
      "C:\\NTU Tutorials\\Year 1\\Sem 2\\Data Science and AI\\DSAI\\Anaconda\\lib\\site-packages\\wordcloud\\wordcloud.py:512: DeprecationWarning: ROTATE_90 is deprecated and will be removed in Pillow 10 (2023-07-01). Use Transpose.ROTATE_90 instead.\n",
      "  orientation = (Image.ROTATE_90 if orientation is None else\n",
      "C:\\NTU Tutorials\\Year 1\\Sem 2\\Data Science and AI\\DSAI\\Anaconda\\lib\\site-packages\\wordcloud\\wordcloud.py:512: DeprecationWarning: ROTATE_90 is deprecated and will be removed in Pillow 10 (2023-07-01). Use Transpose.ROTATE_90 instead.\n",
      "  orientation = (Image.ROTATE_90 if orientation is None else\n",
      "C:\\NTU Tutorials\\Year 1\\Sem 2\\Data Science and AI\\DSAI\\Anaconda\\lib\\site-packages\\wordcloud\\wordcloud.py:512: DeprecationWarning: ROTATE_90 is deprecated and will be removed in Pillow 10 (2023-07-01). Use Transpose.ROTATE_90 instead.\n",
      "  orientation = (Image.ROTATE_90 if orientation is None else\n",
      "C:\\NTU Tutorials\\Year 1\\Sem 2\\Data Science and AI\\DSAI\\Anaconda\\lib\\site-packages\\wordcloud\\wordcloud.py:512: DeprecationWarning: ROTATE_90 is deprecated and will be removed in Pillow 10 (2023-07-01). Use Transpose.ROTATE_90 instead.\n",
      "  orientation = (Image.ROTATE_90 if orientation is None else\n",
      "C:\\NTU Tutorials\\Year 1\\Sem 2\\Data Science and AI\\DSAI\\Anaconda\\lib\\site-packages\\wordcloud\\wordcloud.py:512: DeprecationWarning: ROTATE_90 is deprecated and will be removed in Pillow 10 (2023-07-01). Use Transpose.ROTATE_90 instead.\n",
      "  orientation = (Image.ROTATE_90 if orientation is None else\n",
      "C:\\NTU Tutorials\\Year 1\\Sem 2\\Data Science and AI\\DSAI\\Anaconda\\lib\\site-packages\\wordcloud\\wordcloud.py:512: DeprecationWarning: ROTATE_90 is deprecated and will be removed in Pillow 10 (2023-07-01). Use Transpose.ROTATE_90 instead.\n",
      "  orientation = (Image.ROTATE_90 if orientation is None else\n",
      "C:\\NTU Tutorials\\Year 1\\Sem 2\\Data Science and AI\\DSAI\\Anaconda\\lib\\site-packages\\wordcloud\\wordcloud.py:512: DeprecationWarning: ROTATE_90 is deprecated and will be removed in Pillow 10 (2023-07-01). Use Transpose.ROTATE_90 instead.\n",
      "  orientation = (Image.ROTATE_90 if orientation is None else\n",
      "C:\\NTU Tutorials\\Year 1\\Sem 2\\Data Science and AI\\DSAI\\Anaconda\\lib\\site-packages\\wordcloud\\wordcloud.py:512: DeprecationWarning: ROTATE_90 is deprecated and will be removed in Pillow 10 (2023-07-01). Use Transpose.ROTATE_90 instead.\n",
      "  orientation = (Image.ROTATE_90 if orientation is None else\n",
      "C:\\NTU Tutorials\\Year 1\\Sem 2\\Data Science and AI\\DSAI\\Anaconda\\lib\\site-packages\\wordcloud\\wordcloud.py:512: DeprecationWarning: ROTATE_90 is deprecated and will be removed in Pillow 10 (2023-07-01). Use Transpose.ROTATE_90 instead.\n",
      "  orientation = (Image.ROTATE_90 if orientation is None else\n",
      "C:\\NTU Tutorials\\Year 1\\Sem 2\\Data Science and AI\\DSAI\\Anaconda\\lib\\site-packages\\wordcloud\\wordcloud.py:492: DeprecationWarning: ROTATE_90 is deprecated and will be removed in Pillow 10 (2023-07-01). Use Transpose.ROTATE_90 instead.\n",
      "  orientation = Image.ROTATE_90\n",
      "C:\\NTU Tutorials\\Year 1\\Sem 2\\Data Science and AI\\DSAI\\Anaconda\\lib\\site-packages\\wordcloud\\wordcloud.py:513: DeprecationWarning: ROTATE_90 is deprecated and will be removed in Pillow 10 (2023-07-01). Use Transpose.ROTATE_90 instead.\n",
      "  Image.ROTATE_90)\n",
      "C:\\NTU Tutorials\\Year 1\\Sem 2\\Data Science and AI\\DSAI\\Anaconda\\lib\\site-packages\\wordcloud\\wordcloud.py:512: DeprecationWarning: ROTATE_90 is deprecated and will be removed in Pillow 10 (2023-07-01). Use Transpose.ROTATE_90 instead.\n",
      "  orientation = (Image.ROTATE_90 if orientation is None else\n",
      "C:\\NTU Tutorials\\Year 1\\Sem 2\\Data Science and AI\\DSAI\\Anaconda\\lib\\site-packages\\wordcloud\\wordcloud.py:512: DeprecationWarning: ROTATE_90 is deprecated and will be removed in Pillow 10 (2023-07-01). Use Transpose.ROTATE_90 instead.\n",
      "  orientation = (Image.ROTATE_90 if orientation is None else\n",
      "C:\\NTU Tutorials\\Year 1\\Sem 2\\Data Science and AI\\DSAI\\Anaconda\\lib\\site-packages\\wordcloud\\wordcloud.py:512: DeprecationWarning: ROTATE_90 is deprecated and will be removed in Pillow 10 (2023-07-01). Use Transpose.ROTATE_90 instead.\n",
      "  orientation = (Image.ROTATE_90 if orientation is None else\n",
      "C:\\NTU Tutorials\\Year 1\\Sem 2\\Data Science and AI\\DSAI\\Anaconda\\lib\\site-packages\\wordcloud\\wordcloud.py:512: DeprecationWarning: ROTATE_90 is deprecated and will be removed in Pillow 10 (2023-07-01). Use Transpose.ROTATE_90 instead.\n",
      "  orientation = (Image.ROTATE_90 if orientation is None else\n",
      "C:\\NTU Tutorials\\Year 1\\Sem 2\\Data Science and AI\\DSAI\\Anaconda\\lib\\site-packages\\wordcloud\\wordcloud.py:512: DeprecationWarning: ROTATE_90 is deprecated and will be removed in Pillow 10 (2023-07-01). Use Transpose.ROTATE_90 instead.\n",
      "  orientation = (Image.ROTATE_90 if orientation is None else\n",
      "C:\\NTU Tutorials\\Year 1\\Sem 2\\Data Science and AI\\DSAI\\Anaconda\\lib\\site-packages\\wordcloud\\wordcloud.py:512: DeprecationWarning: ROTATE_90 is deprecated and will be removed in Pillow 10 (2023-07-01). Use Transpose.ROTATE_90 instead.\n",
      "  orientation = (Image.ROTATE_90 if orientation is None else\n",
      "C:\\NTU Tutorials\\Year 1\\Sem 2\\Data Science and AI\\DSAI\\Anaconda\\lib\\site-packages\\wordcloud\\wordcloud.py:512: DeprecationWarning: ROTATE_90 is deprecated and will be removed in Pillow 10 (2023-07-01). Use Transpose.ROTATE_90 instead.\n",
      "  orientation = (Image.ROTATE_90 if orientation is None else\n",
      "C:\\NTU Tutorials\\Year 1\\Sem 2\\Data Science and AI\\DSAI\\Anaconda\\lib\\site-packages\\wordcloud\\wordcloud.py:492: DeprecationWarning: ROTATE_90 is deprecated and will be removed in Pillow 10 (2023-07-01). Use Transpose.ROTATE_90 instead.\n",
      "  orientation = Image.ROTATE_90\n",
      "C:\\NTU Tutorials\\Year 1\\Sem 2\\Data Science and AI\\DSAI\\Anaconda\\lib\\site-packages\\wordcloud\\wordcloud.py:492: DeprecationWarning: ROTATE_90 is deprecated and will be removed in Pillow 10 (2023-07-01). Use Transpose.ROTATE_90 instead.\n",
      "  orientation = Image.ROTATE_90\n",
      "C:\\NTU Tutorials\\Year 1\\Sem 2\\Data Science and AI\\DSAI\\Anaconda\\lib\\site-packages\\wordcloud\\wordcloud.py:492: DeprecationWarning: ROTATE_90 is deprecated and will be removed in Pillow 10 (2023-07-01). Use Transpose.ROTATE_90 instead.\n",
      "  orientation = Image.ROTATE_90\n",
      "C:\\NTU Tutorials\\Year 1\\Sem 2\\Data Science and AI\\DSAI\\Anaconda\\lib\\site-packages\\wordcloud\\wordcloud.py:512: DeprecationWarning: ROTATE_90 is deprecated and will be removed in Pillow 10 (2023-07-01). Use Transpose.ROTATE_90 instead.\n",
      "  orientation = (Image.ROTATE_90 if orientation is None else\n",
      "C:\\NTU Tutorials\\Year 1\\Sem 2\\Data Science and AI\\DSAI\\Anaconda\\lib\\site-packages\\wordcloud\\wordcloud.py:512: DeprecationWarning: ROTATE_90 is deprecated and will be removed in Pillow 10 (2023-07-01). Use Transpose.ROTATE_90 instead.\n",
      "  orientation = (Image.ROTATE_90 if orientation is None else\n",
      "C:\\NTU Tutorials\\Year 1\\Sem 2\\Data Science and AI\\DSAI\\Anaconda\\lib\\site-packages\\wordcloud\\wordcloud.py:492: DeprecationWarning: ROTATE_90 is deprecated and will be removed in Pillow 10 (2023-07-01). Use Transpose.ROTATE_90 instead.\n",
      "  orientation = Image.ROTATE_90\n",
      "C:\\NTU Tutorials\\Year 1\\Sem 2\\Data Science and AI\\DSAI\\Anaconda\\lib\\site-packages\\wordcloud\\wordcloud.py:512: DeprecationWarning: ROTATE_90 is deprecated and will be removed in Pillow 10 (2023-07-01). Use Transpose.ROTATE_90 instead.\n",
      "  orientation = (Image.ROTATE_90 if orientation is None else\n",
      "C:\\NTU Tutorials\\Year 1\\Sem 2\\Data Science and AI\\DSAI\\Anaconda\\lib\\site-packages\\wordcloud\\wordcloud.py:492: DeprecationWarning: ROTATE_90 is deprecated and will be removed in Pillow 10 (2023-07-01). Use Transpose.ROTATE_90 instead.\n",
      "  orientation = Image.ROTATE_90\n",
      "C:\\NTU Tutorials\\Year 1\\Sem 2\\Data Science and AI\\DSAI\\Anaconda\\lib\\site-packages\\wordcloud\\wordcloud.py:512: DeprecationWarning: ROTATE_90 is deprecated and will be removed in Pillow 10 (2023-07-01). Use Transpose.ROTATE_90 instead.\n",
      "  orientation = (Image.ROTATE_90 if orientation is None else\n",
      "C:\\NTU Tutorials\\Year 1\\Sem 2\\Data Science and AI\\DSAI\\Anaconda\\lib\\site-packages\\wordcloud\\wordcloud.py:512: DeprecationWarning: ROTATE_90 is deprecated and will be removed in Pillow 10 (2023-07-01). Use Transpose.ROTATE_90 instead.\n",
      "  orientation = (Image.ROTATE_90 if orientation is None else\n",
      "C:\\NTU Tutorials\\Year 1\\Sem 2\\Data Science and AI\\DSAI\\Anaconda\\lib\\site-packages\\wordcloud\\wordcloud.py:492: DeprecationWarning: ROTATE_90 is deprecated and will be removed in Pillow 10 (2023-07-01). Use Transpose.ROTATE_90 instead.\n",
      "  orientation = Image.ROTATE_90\n",
      "C:\\NTU Tutorials\\Year 1\\Sem 2\\Data Science and AI\\DSAI\\Anaconda\\lib\\site-packages\\wordcloud\\wordcloud.py:492: DeprecationWarning: ROTATE_90 is deprecated and will be removed in Pillow 10 (2023-07-01). Use Transpose.ROTATE_90 instead.\n",
      "  orientation = Image.ROTATE_90\n",
      "C:\\NTU Tutorials\\Year 1\\Sem 2\\Data Science and AI\\DSAI\\Anaconda\\lib\\site-packages\\wordcloud\\wordcloud.py:492: DeprecationWarning: ROTATE_90 is deprecated and will be removed in Pillow 10 (2023-07-01). Use Transpose.ROTATE_90 instead.\n",
      "  orientation = Image.ROTATE_90\n",
      "C:\\NTU Tutorials\\Year 1\\Sem 2\\Data Science and AI\\DSAI\\Anaconda\\lib\\site-packages\\wordcloud\\wordcloud.py:512: DeprecationWarning: ROTATE_90 is deprecated and will be removed in Pillow 10 (2023-07-01). Use Transpose.ROTATE_90 instead.\n",
      "  orientation = (Image.ROTATE_90 if orientation is None else\n",
      "C:\\NTU Tutorials\\Year 1\\Sem 2\\Data Science and AI\\DSAI\\Anaconda\\lib\\site-packages\\wordcloud\\wordcloud.py:492: DeprecationWarning: ROTATE_90 is deprecated and will be removed in Pillow 10 (2023-07-01). Use Transpose.ROTATE_90 instead.\n",
      "  orientation = Image.ROTATE_90\n"
     ]
    },
    {
     "name": "stderr",
     "output_type": "stream",
     "text": [
      "C:\\NTU Tutorials\\Year 1\\Sem 2\\Data Science and AI\\DSAI\\Anaconda\\lib\\site-packages\\wordcloud\\wordcloud.py:492: DeprecationWarning: ROTATE_90 is deprecated and will be removed in Pillow 10 (2023-07-01). Use Transpose.ROTATE_90 instead.\n",
      "  orientation = Image.ROTATE_90\n",
      "C:\\NTU Tutorials\\Year 1\\Sem 2\\Data Science and AI\\DSAI\\Anaconda\\lib\\site-packages\\wordcloud\\wordcloud.py:492: DeprecationWarning: ROTATE_90 is deprecated and will be removed in Pillow 10 (2023-07-01). Use Transpose.ROTATE_90 instead.\n",
      "  orientation = Image.ROTATE_90\n",
      "C:\\NTU Tutorials\\Year 1\\Sem 2\\Data Science and AI\\DSAI\\Anaconda\\lib\\site-packages\\wordcloud\\wordcloud.py:512: DeprecationWarning: ROTATE_90 is deprecated and will be removed in Pillow 10 (2023-07-01). Use Transpose.ROTATE_90 instead.\n",
      "  orientation = (Image.ROTATE_90 if orientation is None else\n",
      "C:\\NTU Tutorials\\Year 1\\Sem 2\\Data Science and AI\\DSAI\\Anaconda\\lib\\site-packages\\wordcloud\\wordcloud.py:512: DeprecationWarning: ROTATE_90 is deprecated and will be removed in Pillow 10 (2023-07-01). Use Transpose.ROTATE_90 instead.\n",
      "  orientation = (Image.ROTATE_90 if orientation is None else\n",
      "C:\\NTU Tutorials\\Year 1\\Sem 2\\Data Science and AI\\DSAI\\Anaconda\\lib\\site-packages\\wordcloud\\wordcloud.py:512: DeprecationWarning: ROTATE_90 is deprecated and will be removed in Pillow 10 (2023-07-01). Use Transpose.ROTATE_90 instead.\n",
      "  orientation = (Image.ROTATE_90 if orientation is None else\n",
      "C:\\NTU Tutorials\\Year 1\\Sem 2\\Data Science and AI\\DSAI\\Anaconda\\lib\\site-packages\\wordcloud\\wordcloud.py:492: DeprecationWarning: ROTATE_90 is deprecated and will be removed in Pillow 10 (2023-07-01). Use Transpose.ROTATE_90 instead.\n",
      "  orientation = Image.ROTATE_90\n",
      "C:\\NTU Tutorials\\Year 1\\Sem 2\\Data Science and AI\\DSAI\\Anaconda\\lib\\site-packages\\wordcloud\\wordcloud.py:492: DeprecationWarning: ROTATE_90 is deprecated and will be removed in Pillow 10 (2023-07-01). Use Transpose.ROTATE_90 instead.\n",
      "  orientation = Image.ROTATE_90\n",
      "C:\\NTU Tutorials\\Year 1\\Sem 2\\Data Science and AI\\DSAI\\Anaconda\\lib\\site-packages\\wordcloud\\wordcloud.py:512: DeprecationWarning: ROTATE_90 is deprecated and will be removed in Pillow 10 (2023-07-01). Use Transpose.ROTATE_90 instead.\n",
      "  orientation = (Image.ROTATE_90 if orientation is None else\n",
      "C:\\NTU Tutorials\\Year 1\\Sem 2\\Data Science and AI\\DSAI\\Anaconda\\lib\\site-packages\\wordcloud\\wordcloud.py:492: DeprecationWarning: ROTATE_90 is deprecated and will be removed in Pillow 10 (2023-07-01). Use Transpose.ROTATE_90 instead.\n",
      "  orientation = Image.ROTATE_90\n",
      "C:\\NTU Tutorials\\Year 1\\Sem 2\\Data Science and AI\\DSAI\\Anaconda\\lib\\site-packages\\wordcloud\\wordcloud.py:512: DeprecationWarning: ROTATE_90 is deprecated and will be removed in Pillow 10 (2023-07-01). Use Transpose.ROTATE_90 instead.\n",
      "  orientation = (Image.ROTATE_90 if orientation is None else\n",
      "C:\\NTU Tutorials\\Year 1\\Sem 2\\Data Science and AI\\DSAI\\Anaconda\\lib\\site-packages\\wordcloud\\wordcloud.py:492: DeprecationWarning: ROTATE_90 is deprecated and will be removed in Pillow 10 (2023-07-01). Use Transpose.ROTATE_90 instead.\n",
      "  orientation = Image.ROTATE_90\n",
      "C:\\NTU Tutorials\\Year 1\\Sem 2\\Data Science and AI\\DSAI\\Anaconda\\lib\\site-packages\\wordcloud\\wordcloud.py:512: DeprecationWarning: ROTATE_90 is deprecated and will be removed in Pillow 10 (2023-07-01). Use Transpose.ROTATE_90 instead.\n",
      "  orientation = (Image.ROTATE_90 if orientation is None else\n"
     ]
    },
    {
     "name": "stdout",
     "output_type": "stream",
     "text": [
      "Wall time: 1min 50s\n"
     ]
    },
    {
     "data": {
      "image/png": "[encoded data removed]",
      "text/plain": [
       "<PIL.Image.Image image mode=RGB size=400x200>"
      ]
     },
     "execution_count": 7,
     "metadata": {},
     "output_type": "execute_result"
    }
   ],
   "source": [
    "%%time\n",
    "# Join the different processed titles together.\n",
    "long_string = ','.join(list(papers['paper_text_processed'].values))\n",
    "\n",
    "# Create a WordCloud object\n",
    "wordcloud = WordCloud(background_color=\"white\", max_words=1000, contour_width=3, contour_color='steelblue')\n",
    "\n",
    "# Generate a word cloud\n",
    "wordcloud.generate(long_string)\n",
    "\n",
    "# Save in default kaggle directory, \"/kaggle/working/\"\n",
    "wordcloud.to_file('wordcloud_' + str(samples) + '_samples.png')\n",
    "\n",
    "# Visualize the word cloud\n",
    "wordcloud.to_image()\n",
    "\n",
    "# Ref : https://www.datacamp.com/community/tutorials/wordcloud-python"
   ]
  },
  {
   "cell_type": "markdown",
   "metadata": {
    "papermill": {
     "duration": 0.028934,
     "end_time": "2022-03-19T15:34:12.794888",
     "exception": false,
     "start_time": "2022-03-19T15:34:12.765954",
     "status": "completed"
    },
    "tags": []
   },
   "source": [
    "## 4. Prepare text for Latent Dirichlet Allocation (LDA)\n",
    "\n",
    "* Transform the textual data in a format that will serve as an input for training a LDA model.\n",
    "> * Tokenizing the text and removing stopwords\n",
    "> * Convert the tokenized object into a corpus and dictionary"
   ]
  },
  {
   "cell_type": "code",
   "execution_count": 8,
   "metadata": {
    "execution": {
     "iopub.execute_input": "2022-04-01T15:10:54.151043Z",
     "iopub.status.busy": "2022-04-01T15:10:54.150802Z",
     "iopub.status.idle": "2022-04-01T15:10:58.092447Z",
     "shell.execute_reply": "2022-04-01T15:10:58.091680Z",
     "shell.execute_reply.started": "2022-04-01T15:10:54.151014Z"
    }
   },
   "outputs": [
    {
     "name": "stderr",
     "output_type": "stream",
     "text": [
      "C:\\NTU Tutorials\\Year 1\\Sem 2\\Data Science and AI\\DSAI\\Anaconda\\lib\\site-packages\\ipykernel\\ipkernel.py:287: DeprecationWarning: `should_run_async` will not call `transform_cell` automatically in the future. Please pass the result to `transformed_cell` argument and any exception that happen during thetransform in `preprocessing_exc_tuple` in IPython 7.17 and above.\n",
      "  and should_run_async(code)\n"
     ]
    }
   ],
   "source": [
    "with warnings.catch_warnings():\n",
    "    warnings.filterwarnings(\"ignore\", category=DeprecationWarning)\n",
    "    import spacy\n",
    "    # Initialize spacy 'en' model, keeping only tagger component (for efficiency)\n",
    "    nlp = spacy.load(\"en_core_web_sm\", disable=['parser', 'ner'])"
   ]
  },
  {
   "cell_type": "code",
   "execution_count": 9,
   "metadata": {
    "execution": {
     "iopub.execute_input": "2022-04-01T15:10:58.095008Z",
     "iopub.status.busy": "2022-04-01T15:10:58.093926Z",
     "iopub.status.idle": "2022-04-01T15:10:58.108026Z",
     "shell.execute_reply": "2022-04-01T15:10:58.107194Z",
     "shell.execute_reply.started": "2022-04-01T15:10:58.094955Z"
    }
   },
   "outputs": [
    {
     "name": "stderr",
     "output_type": "stream",
     "text": [
      "C:\\NTU Tutorials\\Year 1\\Sem 2\\Data Science and AI\\DSAI\\Anaconda\\lib\\site-packages\\ipykernel\\ipkernel.py:287: DeprecationWarning: `should_run_async` will not call `transform_cell` automatically in the future. Please pass the result to `transformed_cell` argument and any exception that happen during thetransform in `preprocessing_exc_tuple` in IPython 7.17 and above.\n",
      "  and should_run_async(code)\n"
     ]
    }
   ],
   "source": [
    "stop_words = stopwords.words('english')\n",
    "\n",
    "# Customise to included other stop words\n",
    "stop_words.extend(['from', 'subject', 're', 'edu', 'use',\n",
    "                   'hisashi', 'suzuki', 'suguru', 'arimoto', 'university']) # Remove some author names\n",
    "\n",
    "# Exracting words from sentences and preprocessing\n",
    "def sent_to_words(sentences):\n",
    "    for sentence in sentences:\n",
    "        # deacc=True will remove punctuations\n",
    "        # yield returns a generator that produces the words for each paper_text\n",
    "        yield(gensim.utils.simple_preprocess(str(sentence), deacc=True))\n",
    "\n",
    "def remove_stopwords(texts):\n",
    "    return [[word for word in simple_preprocess(str(doc)) \n",
    "             if word not in stop_words] for doc in texts]\n",
    "\n",
    "def make_bigrams(texts):\n",
    "    return [bigram_mod[doc] for doc in texts]\n",
    "\n",
    "def make_trigrams(texts):\n",
    "    return [trigram_mod[bigram_mod[doc]] for doc in texts]\n",
    "\n",
    "def lemmatization(texts, allowed_postags=['NOUN', 'ADJ', 'VERB', 'ADV']):\n",
    "    \"\"\"https://spacy.io/api/annotation\"\"\"\n",
    "    texts_out = []\n",
    "    for sent in texts:\n",
    "        doc = nlp(\" \".join(sent)) \n",
    "        texts_out.append([token.lemma_ for token in doc if token.pos_ in allowed_postags])\n",
    "    return texts_out\n",
    "\n",
    "\n",
    "# Peform n-grams and lemmatization\n",
    "def get_data(data_words):\n",
    "    \"\"\"\n",
    "    Get Bigram Model, lemmatization mapping\n",
    "    \"\"\"\n",
    "    # Remove stop words from data_words\n",
    "    data_words_nostops = remove_stopwords(data_words)\n",
    "    print(\"After removing stop words :\\n\", data_words_nostops[:1][0][:30])\n",
    "    print()\n",
    "\n",
    "    # Form Bigrams\n",
    "    data_words_bigrams = make_bigrams(data_words_nostops)\n",
    "    print(\"After making bigrams :\\n\", data_words_bigrams[:1][0][:30])\n",
    "    print()\n",
    "    \n",
    "    # Do lemmatization keeping only noun, adj, vb, adv\n",
    "    data_words_lemmatized = lemmatization(data_words_bigrams, allowed_postags=['NOUN', 'ADJ', 'VERB', 'ADV'])\n",
    "    print(\"After lemmatization :\\n\", data_words_lemmatized[:1][0][:30])\n",
    "\n",
    "    return data_words_bigrams, data_words_lemmatized"
   ]
  },
  {
   "cell_type": "code",
   "execution_count": 10,
   "metadata": {
    "execution": {
     "iopub.execute_input": "2022-04-01T15:10:58.109995Z",
     "iopub.status.busy": "2022-04-01T15:10:58.109272Z",
     "iopub.status.idle": "2022-04-01T15:12:03.646274Z",
     "shell.execute_reply": "2022-04-01T15:12:03.645673Z",
     "shell.execute_reply.started": "2022-04-01T15:10:58.109960Z"
    }
   },
   "outputs": [
    {
     "name": "stderr",
     "output_type": "stream",
     "text": [
      "C:\\NTU Tutorials\\Year 1\\Sem 2\\Data Science and AI\\DSAI\\Anaconda\\lib\\site-packages\\ipykernel\\ipkernel.py:287: DeprecationWarning: `should_run_async` will not call `transform_cell` automatically in the future. Please pass the result to `transformed_cell` argument and any exception that happen during thetransform in `preprocessing_exc_tuple` in IPython 7.17 and above.\n",
      "  and should_run_async(code)\n"
     ]
    },
    {
     "name": "stdout",
     "output_type": "stream",
     "text": [
      "Before removing stop words for 6560 documents with sample :\n",
      "['self', 'organization', 'of', 'associative', 'database', 'and', 'its', 'applications', 'hisashi', 'suzuki', 'and', 'suguru', 'arimoto', 'osaka', 'university', 'toyonaka', 'osaka', 'japan', 'abstract', 'an', 'efficient', 'method', 'of', 'self', 'organizing', 'associative', 'databases', 'is', 'proposed', 'together']\n",
      "Wall time: 1min 17s\n"
     ]
    }
   ],
   "source": [
    "%%time\n",
    "# Store all paper_text from samples into list\n",
    "data = papers.paper_text_processed.values.tolist()\n",
    "data_words = list(sent_to_words(data))\n",
    "print(\"Before removing stop words for {} documents with sample :\\n{}\".format(len(data_words), data_words[:1][0][:30]))"
   ]
  },
  {
   "cell_type": "markdown",
   "metadata": {
    "papermill": {
     "duration": 0.026786,
     "end_time": "2022-03-19T15:36:15.581777",
     "exception": false,
     "start_time": "2022-03-19T15:36:15.554991",
     "status": "completed"
    },
    "tags": []
   },
   "source": [
    "## 4.1 Phrase Modeling: Bigram and Trigram Models\n",
    "* Bigrams and Trigrams are 2 and 3 words frequently occurring together in the document.\n",
    "* Gensim's Phrases model can build and implement the bigrams, trigrams, quadgrams and more.  The two important arguments to Phrases model are min_count and threshold."
   ]
  },
  {
   "cell_type": "code",
   "execution_count": 11,
   "metadata": {
    "execution": {
     "iopub.execute_input": "2022-04-01T15:12:03.648070Z",
     "iopub.status.busy": "2022-04-01T15:12:03.647406Z",
     "iopub.status.idle": "2022-04-01T15:14:32.220527Z",
     "shell.execute_reply": "2022-04-01T15:14:32.219668Z",
     "shell.execute_reply.started": "2022-04-01T15:12:03.648033Z"
    },
    "papermill": {
     "duration": 215.416725,
     "end_time": "2022-03-19T15:39:51.025682",
     "exception": false,
     "start_time": "2022-03-19T15:36:15.608957",
     "status": "completed"
    },
    "tags": []
   },
   "outputs": [
    {
     "name": "stderr",
     "output_type": "stream",
     "text": [
      "C:\\NTU Tutorials\\Year 1\\Sem 2\\Data Science and AI\\DSAI\\Anaconda\\lib\\site-packages\\ipykernel\\ipkernel.py:287: DeprecationWarning: `should_run_async` will not call `transform_cell` automatically in the future. Please pass the result to `transformed_cell` argument and any exception that happen during thetransform in `preprocessing_exc_tuple` in IPython 7.17 and above.\n",
      "  and should_run_async(code)\n"
     ]
    },
    {
     "name": "stdout",
     "output_type": "stream",
     "text": [
      "Wall time: 3min 3s\n"
     ]
    }
   ],
   "source": [
    "%%time\n",
    "# Build the bigram and trigram models\n",
    "bigram = gensim.models.Phrases(data_words, min_count=5, threshold=100) # higher threshold gives fewer phrases.\n",
    "trigram = gensim.models.Phrases(bigram[data_words], threshold=100)  \n",
    "\n",
    "# Faster way to get a sentence clubbed as a bigram or trigram\n",
    "bigram_mod = gensim.models.phrases.Phraser(bigram)\n",
    "trigram_mod = gensim.models.phrases.Phraser(trigram)"
   ]
  },
  {
   "cell_type": "code",
   "execution_count": 12,
   "metadata": {
    "execution": {
     "iopub.execute_input": "2022-04-01T15:14:32.246953Z",
     "iopub.status.busy": "2022-04-01T15:14:32.246665Z",
     "iopub.status.idle": "2022-04-01T15:28:32.855873Z",
     "shell.execute_reply": "2022-04-01T15:28:32.854724Z",
     "shell.execute_reply.started": "2022-04-01T15:14:32.246923Z"
    }
   },
   "outputs": [
    {
     "name": "stderr",
     "output_type": "stream",
     "text": [
      "C:\\NTU Tutorials\\Year 1\\Sem 2\\Data Science and AI\\DSAI\\Anaconda\\lib\\site-packages\\ipykernel\\ipkernel.py:287: DeprecationWarning: `should_run_async` will not call `transform_cell` automatically in the future. Please pass the result to `transformed_cell` argument and any exception that happen during thetransform in `preprocessing_exc_tuple` in IPython 7.17 and above.\n",
      "  and should_run_async(code)\n"
     ]
    },
    {
     "name": "stdout",
     "output_type": "stream",
     "text": [
      "After removing stop words :\n",
      " ['self', 'organization', 'associative', 'database', 'applications', 'osaka', 'toyonaka', 'osaka', 'japan', 'abstract', 'efficient', 'method', 'self', 'organizing', 'associative', 'databases', 'proposed', 'together', 'applications', 'robot', 'eyesight', 'systems', 'proposed', 'databases', 'associate', 'input', 'output', 'first', 'half', 'part']\n",
      "\n",
      "After making bigrams :\n",
      " ['self_organization', 'associative', 'database', 'applications', 'osaka', 'toyonaka', 'osaka_japan', 'abstract', 'efficient', 'method', 'self_organizing', 'associative', 'databases', 'proposed', 'together', 'applications', 'robot', 'eyesight', 'systems', 'proposed', 'databases', 'associate', 'input', 'output', 'first', 'half', 'part', 'discussion', 'algorithm', 'self_organization']\n",
      "\n",
      "After lemmatization :\n",
      " ['self_organization', 'associative', 'database', 'application', 'abstract', 'efficient', 'method', 'self_organize', 'associative', 'database', 'propose', 'together', 'application', 'robot', 'eyesight', 'system', 'propose', 'database', 'associate', 'input', 'output', 'first', 'half', 'part', 'discussion', 'propose', 'aspect', 'hardware', 'produce', 'new']\n",
      "Wall time: 19min 40s\n"
     ]
    }
   ],
   "source": [
    "%%time\n",
    "train_bigrams, train_lemmatized = get_data(data_words)\n",
    "\n",
    "# train_bigrams[0], train_lemmatized[0]"
   ]
  },
  {
   "cell_type": "code",
   "execution_count": 13,
   "metadata": {
    "execution": {
     "iopub.execute_input": "2022-04-01T15:28:32.858648Z",
     "iopub.status.busy": "2022-04-01T15:28:32.857577Z",
     "iopub.status.idle": "2022-04-01T15:28:32.865560Z",
     "shell.execute_reply": "2022-04-01T15:28:32.864330Z",
     "shell.execute_reply.started": "2022-04-01T15:28:32.858574Z"
    }
   },
   "outputs": [
    {
     "name": "stdout",
     "output_type": "stream",
     "text": [
      "\n",
      "Dimension of train_lemmatized : (6560, 1570, 17)\n"
     ]
    },
    {
     "name": "stderr",
     "output_type": "stream",
     "text": [
      "C:\\NTU Tutorials\\Year 1\\Sem 2\\Data Science and AI\\DSAI\\Anaconda\\lib\\site-packages\\ipykernel\\ipkernel.py:287: DeprecationWarning: `should_run_async` will not call `transform_cell` automatically in the future. Please pass the result to `transformed_cell` argument and any exception that happen during thetransform in `preprocessing_exc_tuple` in IPython 7.17 and above.\n",
      "  and should_run_async(code)\n"
     ]
    }
   ],
   "source": [
    "print(\"\\nDimension of train_lemmatized : ({}, {}, {})\".format(len(train_lemmatized),\n",
    "                                                              len(train_lemmatized[0]),\n",
    "                                                              len(train_lemmatized[0][0])))"
   ]
  },
  {
   "cell_type": "markdown",
   "metadata": {
    "papermill": {
     "duration": 0.037795,
     "end_time": "2022-03-19T16:01:29.289845",
     "exception": false,
     "start_time": "2022-03-19T16:01:29.25205",
     "status": "completed"
    },
    "tags": []
   },
   "source": [
    "## 4.2 Data transformation: Corpus and Dictionary\n",
    "* The two main inputs to the LDA topic model are the dictionary(id2word) and the corpus."
   ]
  },
  {
   "cell_type": "code",
   "execution_count": 14,
   "metadata": {
    "execution": {
     "iopub.execute_input": "2022-04-01T15:28:32.867718Z",
     "iopub.status.busy": "2022-04-01T15:28:32.867226Z",
     "iopub.status.idle": "2022-04-01T15:28:32.877893Z",
     "shell.execute_reply": "2022-04-01T15:28:32.876644Z",
     "shell.execute_reply.started": "2022-04-01T15:28:32.867672Z"
    }
   },
   "outputs": [
    {
     "name": "stderr",
     "output_type": "stream",
     "text": [
      "C:\\NTU Tutorials\\Year 1\\Sem 2\\Data Science and AI\\DSAI\\Anaconda\\lib\\site-packages\\ipykernel\\ipkernel.py:287: DeprecationWarning: `should_run_async` will not call `transform_cell` automatically in the future. Please pass the result to `transformed_cell` argument and any exception that happen during thetransform in `preprocessing_exc_tuple` in IPython 7.17 and above.\n",
      "  and should_run_async(code)\n"
     ]
    }
   ],
   "source": [
    "import gensim.corpora as corpora\n",
    "\n",
    "def get_corpus(data_lemmatized):\n",
    "    \"\"\"\n",
    "    Get id2word, corpus mapping\n",
    "    \"\"\"\n",
    "    # Ref : https://tedboy.github.io/nlps/generated/generated/gensim.corpora.Dictionary.doc2bow.html\n",
    "    # Convert document (a list of words) into the bag-of-words format = list of (token_id, token_count) 2-tuples.\n",
    "    # Each word is assumed to be a tokenized and normalized string.\n",
    "    # No further preprocessing is done on the words in document; apply tokenization, stemming etc. before calling this method.\n",
    "\n",
    "    # Create Dictionary\n",
    "    id2word = corpora.Dictionary(data_lemmatized) # data_words_nostops, data_words\n",
    "    print(\"Created dictionary of size {} with sample word : \\'{}\\'\".format(len(id2word), id2word[0]))\n",
    "    \n",
    "    # Filter out tokens that appear in < no_below documents or more than no_above documents (fraction of total corpus size)\n",
    "    id2word.filter_extremes(no_below=10, no_above=0.35)\n",
    "    # Calling this method will remove the gaps and make the ids more compact (eg. after some tokens have been removed via filter_extremes)\n",
    "    id2word.compactify()\n",
    "\n",
    "    # Create Corpus\n",
    "    texts =  data_lemmatized # data_words_nostops\n",
    "\n",
    "    # Term Document Frequency\n",
    "    corpus = [id2word.doc2bow(text) for text in texts]\n",
    "\n",
    "    # Show the id with the respective frequency\n",
    "    print(\"Corpus of {} documents with sample :\\n{}\".format(len(data_words), corpus[:1][0][:30]))\n",
    "\n",
    "    return id2word, corpus"
   ]
  },
  {
   "cell_type": "code",
   "execution_count": 15,
   "metadata": {
    "execution": {
     "iopub.execute_input": "2022-04-01T15:28:32.880258Z",
     "iopub.status.busy": "2022-04-01T15:28:32.879356Z",
     "iopub.status.idle": "2022-04-01T15:28:48.150500Z",
     "shell.execute_reply": "2022-04-01T15:28:48.148450Z",
     "shell.execute_reply.started": "2022-04-01T15:28:32.880208Z"
    }
   },
   "outputs": [
    {
     "name": "stderr",
     "output_type": "stream",
     "text": [
      "C:\\NTU Tutorials\\Year 1\\Sem 2\\Data Science and AI\\DSAI\\Anaconda\\lib\\site-packages\\ipykernel\\ipkernel.py:287: DeprecationWarning: `should_run_async` will not call `transform_cell` automatically in the future. Please pass the result to `transformed_cell` argument and any exception that happen during thetransform in `preprocessing_exc_tuple` in IPython 7.17 and above.\n",
      "  and should_run_async(code)\n"
     ]
    },
    {
     "name": "stdout",
     "output_type": "stream",
     "text": [
      "Created dictionary of size 128091 with sample word : 'abolish'\n",
      "Corpus of 6560 documents with sample :\n",
      "[(0, 1), (1, 1), (2, 2), (3, 1), (4, 6), (5, 3), (6, 1), (7, 1), (8, 1), (9, 1), (10, 1), (11, 1), (12, 2), (13, 1), (14, 1), (15, 2), (16, 7), (17, 1), (18, 1), (19, 1), (20, 1), (21, 1), (22, 1), (23, 1), (24, 13), (25, 1), (26, 3), (27, 2), (28, 1), (29, 1)]\n",
      "Wall time: 18.4 s\n"
     ]
    }
   ],
   "source": [
    "%%time\n",
    "train_id2word, train_corpus = get_corpus(train_lemmatized)"
   ]
  },
  {
   "cell_type": "code",
   "execution_count": 16,
   "metadata": {
    "execution": {
     "iopub.execute_input": "2022-04-01T15:28:48.152864Z",
     "iopub.status.busy": "2022-04-01T15:28:48.151964Z",
     "iopub.status.idle": "2022-04-01T15:28:48.161619Z",
     "shell.execute_reply": "2022-04-01T15:28:48.160701Z",
     "shell.execute_reply.started": "2022-04-01T15:28:48.152821Z"
    },
    "papermill": {
     "duration": 0.049436,
     "end_time": "2022-03-19T16:01:57.814911",
     "exception": false,
     "start_time": "2022-03-19T16:01:57.765475",
     "status": "completed"
    },
    "tags": []
   },
   "outputs": [
    {
     "name": "stdout",
     "output_type": "stream",
     "text": [
      "[(0, 1), (1, 1), (2, 2), (3, 1), (4, 6), (5, 3), (6, 1), (7, 1), (8, 1), (9, 1), (10, 1), (11, 1), (12, 2), (13, 1), (14, 1), (15, 2), (16, 7), (17, 1), (18, 1), (19, 1), (20, 1), (21, 1), (22, 1), (23, 1), (24, 13), (25, 1), (26, 3), (27, 2), (28, 1), (29, 1)]\n",
      "\n",
      "Dimension of corpus : (6560, 395, 2)\n"
     ]
    },
    {
     "name": "stderr",
     "output_type": "stream",
     "text": [
      "C:\\NTU Tutorials\\Year 1\\Sem 2\\Data Science and AI\\DSAI\\Anaconda\\lib\\site-packages\\ipykernel\\ipkernel.py:287: DeprecationWarning: `should_run_async` will not call `transform_cell` automatically in the future. Please pass the result to `transformed_cell` argument and any exception that happen during thetransform in `preprocessing_exc_tuple` in IPython 7.17 and above.\n",
      "  and should_run_async(code)\n"
     ]
    }
   ],
   "source": [
    "#  list of (token_id, token_count) 2-tuples\n",
    "print(train_corpus[:1][0][:30][:])\n",
    "\n",
    "print(\"\\nDimension of corpus : ({}, {}, {})\".format(len(train_corpus), len(train_corpus[0]),\n",
    "                                                    len(train_corpus[0][0])))"
   ]
  },
  {
   "cell_type": "code",
   "execution_count": 17,
   "metadata": {
    "execution": {
     "iopub.execute_input": "2022-04-01T15:28:48.163545Z",
     "iopub.status.busy": "2022-04-01T15:28:48.163060Z",
     "iopub.status.idle": "2022-04-01T15:28:48.179294Z",
     "shell.execute_reply": "2022-04-01T15:28:48.177779Z",
     "shell.execute_reply.started": "2022-04-01T15:28:48.163479Z"
    }
   },
   "outputs": [
    {
     "name": "stdout",
     "output_type": "stream",
     "text": [
      "Size of dictionary, 'train_id2word' : 16056 with 12352849 processed words\n"
     ]
    },
    {
     "name": "stderr",
     "output_type": "stream",
     "text": [
      "C:\\NTU Tutorials\\Year 1\\Sem 2\\Data Science and AI\\DSAI\\Anaconda\\lib\\site-packages\\ipykernel\\ipkernel.py:287: DeprecationWarning: `should_run_async` will not call `transform_cell` automatically in the future. Please pass the result to `transformed_cell` argument and any exception that happen during thetransform in `preprocessing_exc_tuple` in IPython 7.17 and above.\n",
      "  and should_run_async(code)\n"
     ]
    }
   ],
   "source": [
    "# https://radimrehurek.com/gensim/corpora/dictionary.html\n",
    "# Vocabulary size, word<->id mappings\n",
    "print(\"Size of dictionary, \\'train_id2word\\' : {} with {} processed words\".format(len(train_id2word),\n",
    "                                                                                  train_id2word.num_pos))"
   ]
  },
  {
   "cell_type": "code",
   "execution_count": 18,
   "metadata": {
    "execution": {
     "iopub.execute_input": "2022-04-01T15:28:48.180725Z",
     "iopub.status.busy": "2022-04-01T15:28:48.180484Z",
     "iopub.status.idle": "2022-04-01T15:28:48.201746Z",
     "shell.execute_reply": "2022-04-01T15:28:48.200884Z",
     "shell.execute_reply.started": "2022-04-01T15:28:48.180696Z"
    }
   },
   "outputs": [
    {
     "name": "stderr",
     "output_type": "stream",
     "text": [
      "C:\\NTU Tutorials\\Year 1\\Sem 2\\Data Science and AI\\DSAI\\Anaconda\\lib\\site-packages\\ipykernel\\ipkernel.py:287: DeprecationWarning: `should_run_async` will not call `transform_cell` automatically in the future. Please pass the result to `transformed_cell` argument and any exception that happen during thetransform in `preprocessing_exc_tuple` in IPython 7.17 and above.\n",
      "  and should_run_async(code)\n"
     ]
    },
    {
     "data": {
      "text/plain": [
       "{0: 'abolish',\n",
       " 1: 'accelerate',\n",
       " 2: 'acceptable',\n",
       " 3: 'accomplish',\n",
       " 4: 'accordingly',\n",
       " 5: 'actual',\n",
       " 6: 'addressing',\n",
       " 7: 'adjacent',\n",
       " 8: 'adopt',\n",
       " 9: 'already'}"
      ]
     },
     "execution_count": 18,
     "metadata": {},
     "output_type": "execute_result"
    }
   ],
   "source": [
    "# token -> token_id\n",
    "# train_id2word.token2id\n",
    "\n",
    "# 'token_id' is the dictionary key\n",
    "show_dict_items = {token_id: train_id2word[token_id] for token_id in list(train_id2word)[:10]}\n",
    "show_dict_items"
   ]
  },
  {
   "cell_type": "code",
   "execution_count": 19,
   "metadata": {
    "execution": {
     "iopub.execute_input": "2022-04-01T15:28:48.203738Z",
     "iopub.status.busy": "2022-04-01T15:28:48.203467Z",
     "iopub.status.idle": "2022-04-01T15:28:48.215497Z",
     "shell.execute_reply": "2022-04-01T15:28:48.214627Z",
     "shell.execute_reply.started": "2022-04-01T15:28:48.203705Z"
    }
   },
   "outputs": [
    {
     "name": "stderr",
     "output_type": "stream",
     "text": [
      "C:\\NTU Tutorials\\Year 1\\Sem 2\\Data Science and AI\\DSAI\\Anaconda\\lib\\site-packages\\ipykernel\\ipkernel.py:287: DeprecationWarning: `should_run_async` will not call `transform_cell` automatically in the future. Please pass the result to `transformed_cell` argument and any exception that happen during thetransform in `preprocessing_exc_tuple` in IPython 7.17 and above.\n",
      "  and should_run_async(code)\n"
     ]
    },
    {
     "data": {
      "text/plain": [
       "'self_organization'"
      ]
     },
     "execution_count": 19,
     "metadata": {},
     "output_type": "execute_result"
    }
   ],
   "source": [
    "train_id2word[316]"
   ]
  },
  {
   "cell_type": "code",
   "execution_count": 20,
   "metadata": {
    "execution": {
     "iopub.execute_input": "2022-04-01T15:28:48.216941Z",
     "iopub.status.busy": "2022-04-01T15:28:48.216531Z",
     "iopub.status.idle": "2022-04-01T15:28:48.269274Z",
     "shell.execute_reply": "2022-04-01T15:28:48.268512Z",
     "shell.execute_reply.started": "2022-04-01T15:28:48.216909Z"
    }
   },
   "outputs": [
    {
     "name": "stderr",
     "output_type": "stream",
     "text": [
      "C:\\NTU Tutorials\\Year 1\\Sem 2\\Data Science and AI\\DSAI\\Anaconda\\lib\\site-packages\\ipykernel\\ipkernel.py:287: DeprecationWarning: `should_run_async` will not call `transform_cell` automatically in the future. Please pass the result to `transformed_cell` argument and any exception that happen during thetransform in `preprocessing_exc_tuple` in IPython 7.17 and above.\n",
      "  and should_run_async(code)\n"
     ]
    }
   ],
   "source": [
    "# Save Dictionary to a text file\n",
    "train_id2word.save_as_text('doc_dictionary.csv')"
   ]
  },
  {
   "cell_type": "code",
   "execution_count": 21,
   "metadata": {
    "execution": {
     "iopub.execute_input": "2022-04-01T15:28:48.270924Z",
     "iopub.status.busy": "2022-04-01T15:28:48.270221Z",
     "iopub.status.idle": "2022-04-01T15:28:48.276952Z",
     "shell.execute_reply": "2022-04-01T15:28:48.276001Z",
     "shell.execute_reply.started": "2022-04-01T15:28:48.270884Z"
    }
   },
   "outputs": [
    {
     "name": "stderr",
     "output_type": "stream",
     "text": [
      "C:\\NTU Tutorials\\Year 1\\Sem 2\\Data Science and AI\\DSAI\\Anaconda\\lib\\site-packages\\ipykernel\\ipkernel.py:287: DeprecationWarning: `should_run_async` will not call `transform_cell` automatically in the future. Please pass the result to `transformed_cell` argument and any exception that happen during thetransform in `preprocessing_exc_tuple` in IPython 7.17 and above.\n",
      "  and should_run_async(code)\n"
     ]
    },
    {
     "data": {
      "text/plain": [
       "gensim.corpora.dictionary.Dictionary"
      ]
     },
     "execution_count": 21,
     "metadata": {},
     "output_type": "execute_result"
    }
   ],
   "source": [
    "type(train_id2word)"
   ]
  },
  {
   "cell_type": "markdown",
   "metadata": {},
   "source": [
    "* HDP Model - infers the number of topics from the data\n",
    "1. > Gensim provides a Hierarchical Dirichlet Process (HDP) class which is similar to LDA, except it learns the correct number of topics from the data via Online Variational Bayes Inference.  Thus, we do not need to provide a fixed number of topics (https://radimrehurek.com/gensim/models/hdpmodel.html).\n",
    "2. > Running HDP on the 100 (or 6,560) papers few times and we use the number of topics it was learning; which is always 20 topics for this dataset.  It does not give a good coherence score compared to manual hyperparameter tuning with number of topics."
   ]
  },
  {
   "cell_type": "code",
   "execution_count": 22,
   "metadata": {
    "execution": {
     "iopub.execute_input": "2022-04-01T15:28:48.279043Z",
     "iopub.status.busy": "2022-04-01T15:28:48.278400Z",
     "iopub.status.idle": "2022-04-01T15:29:41.098596Z",
     "shell.execute_reply": "2022-04-01T15:29:41.097767Z",
     "shell.execute_reply.started": "2022-04-01T15:28:48.278998Z"
    }
   },
   "outputs": [
    {
     "name": "stderr",
     "output_type": "stream",
     "text": [
      "C:\\NTU Tutorials\\Year 1\\Sem 2\\Data Science and AI\\DSAI\\Anaconda\\lib\\site-packages\\ipykernel\\ipkernel.py:287: DeprecationWarning: `should_run_async` will not call `transform_cell` automatically in the future. Please pass the result to `transformed_cell` argument and any exception that happen during thetransform in `preprocessing_exc_tuple` in IPython 7.17 and above.\n",
      "  and should_run_async(code)\n"
     ]
    },
    {
     "name": "stdout",
     "output_type": "stream",
     "text": [
      "Wall time: 40.1 s\n"
     ]
    },
    {
     "data": {
      "text/plain": [
       "20"
      ]
     },
     "execution_count": 22,
     "metadata": {},
     "output_type": "execute_result"
    }
   ],
   "source": [
    "%%time\n",
    "from gensim.models import HdpModel\n",
    "hdp = HdpModel(train_corpus, train_id2word, chunksize=10000)\n",
    "len(hdp.print_topics())"
   ]
  },
  {
   "cell_type": "code",
   "execution_count": 23,
   "metadata": {
    "execution": {
     "iopub.execute_input": "2022-04-01T15:29:41.100096Z",
     "iopub.status.busy": "2022-04-01T15:29:41.099858Z",
     "iopub.status.idle": "2022-04-01T15:29:41.541462Z",
     "shell.execute_reply": "2022-04-01T15:29:41.540591Z",
     "shell.execute_reply.started": "2022-04-01T15:29:41.100068Z"
    }
   },
   "outputs": [
    {
     "name": "stderr",
     "output_type": "stream",
     "text": [
      "C:\\NTU Tutorials\\Year 1\\Sem 2\\Data Science and AI\\DSAI\\Anaconda\\lib\\site-packages\\ipykernel\\ipkernel.py:287: DeprecationWarning: `should_run_async` will not call `transform_cell` automatically in the future. Please pass the result to `transformed_cell` argument and any exception that happen during thetransform in `preprocessing_exc_tuple` in IPython 7.17 and above.\n",
      "  and should_run_async(code)\n"
     ]
    },
    {
     "data": {
      "text/plain": [
       "[(0,\n",
       "  '0.004*kernel + 0.003*cluster + 0.002*layer + 0.002*graph + 0.002*neuron + 0.001*topic + 0.001*object + 0.001*target + 0.001*sparse + 0.001*group'),\n",
       " (1,\n",
       "  '0.002*neuron + 0.002*cluster + 0.002*action + 0.002*reward + 0.002*target + 0.001*sparse + 0.001*visual + 0.001*response + 0.001*object + 0.001*cell'),\n",
       " (2,\n",
       "  '0.002*object + 0.002*policy + 0.002*stimulus + 0.002*response + 0.002*kernel + 0.002*graph + 0.002*cluster + 0.001*fig + 0.001*neuron + 0.001*cell'),\n",
       " (3,\n",
       "  '0.002*policy + 0.002*action + 0.002*kernel + 0.001*cluster + 0.001*object + 0.001*classifier + 0.001*topic + 0.001*tree + 0.001*node + 0.001*density'),\n",
       " (4,\n",
       "  '0.002*object + 0.002*layer + 0.001*classifier + 0.001*visual + 0.001*kernel + 0.001*basis + 0.001*pixel + 0.001*code + 0.001*filter + 0.001*graph'),\n",
       " (5,\n",
       "  '0.002*policy + 0.002*action + 0.002*reward + 0.001*gradient + 0.001*cell + 0.001*object + 0.001*arm + 0.001*regret + 0.001*node + 0.001*tree'),\n",
       " (6,\n",
       "  '0.003*cluster + 0.002*graph + 0.002*object + 0.002*kernel + 0.002*tree + 0.001*node + 0.001*neuron + 0.001*spike + 0.001*mixture + 0.001*posterior'),\n",
       " (7,\n",
       "  '0.002*graph + 0.001*node + 0.001*gradient + 0.001*document + 0.001*regret + 0.001*memory + 0.001*layer + 0.001*sparse + 0.001*maintain + 0.001*fig'),\n",
       " (8,\n",
       "  '0.003*cluster + 0.001*layer + 0.001*graph + 0.001*group + 0.001*kernel + 0.001*object + 0.001*fig + 0.001*neuron + 0.001*node + 0.001*block'),\n",
       " (9,\n",
       "  '0.002*layer + 0.001*object + 0.001*kernel + 0.001*node + 0.001*classifier + 0.001*cluster + 0.001*neuron + 0.001*human + 0.001*deep + 0.001*code'),\n",
       " (10,\n",
       "  '0.002*kernel + 0.001*graph + 0.001*node + 0.001*latent + 0.001*query + 0.001*edge + 0.001*gradient + 0.001*cluster + 0.001*tree + 0.001*rank'),\n",
       " (11,\n",
       "  '0.002*graph + 0.001*object + 0.001*kernel + 0.001*node + 0.001*action + 0.001*layer + 0.001*edge + 0.001*response + 0.001*human + 0.001*cell'),\n",
       " (12,\n",
       "  '0.002*graph + 0.001*kernel + 0.001*gradient + 0.001*sparse + 0.001*rank + 0.001*tree + 0.001*basis + 0.001*node + 0.001*polynomial + 0.001*object'),\n",
       " (13,\n",
       "  '0.001*policy + 0.001*action + 0.001*cluster + 0.001*decision + 0.001*target + 0.001*tree + 0.001*reward + 0.001*user + 0.001*classifier + 0.001*expert'),\n",
       " (14,\n",
       "  '0.002*object + 0.001*topic + 0.001*layer + 0.001*cluster + 0.001*neuron + 0.001*rank + 0.001*kernel + 0.001*spike + 0.001*response + 0.001*node'),\n",
       " (15,\n",
       "  '0.002*rank + 0.001*query + 0.001*document + 0.001*sparse + 0.001*classifier + 0.001*group + 0.001*player + 0.001*regression + 0.001*target + 0.001*code'),\n",
       " (16,\n",
       "  '0.002*policy + 0.002*reward + 0.001*decision + 0.001*agent + 0.001*layer + 0.001*action + 0.001*expert + 0.001*trial + 0.001*object + 0.001*transition'),\n",
       " (17,\n",
       "  '0.002*cluster + 0.001*graph + 0.001*classifier + 0.001*kernel + 0.001*online + 0.001*tree + 0.001*node + 0.001*margin + 0.001*regression + 0.001*bayesian'),\n",
       " (18,\n",
       "  '0.001*cluster + 0.001*graph + 0.001*stimulus + 0.001*latent + 0.001*rank + 0.001*topic + 0.001*spike + 0.001*strategy + 0.001*response + 0.001*mixture'),\n",
       " (19,\n",
       "  '0.001*cell + 0.001*cluster + 0.001*object + 0.001*neuron + 0.001*target + 0.001*tree + 0.001*visual + 0.001*graph + 0.001*edge + 0.001*node')]"
      ]
     },
     "execution_count": 23,
     "metadata": {},
     "output_type": "execute_result"
    }
   ],
   "source": [
    "hdp.print_topics(num_topics=len(hdp.print_topics()))"
   ]
  },
  {
   "cell_type": "markdown",
   "metadata": {
    "papermill": {
     "duration": 0.040827,
     "end_time": "2022-03-19T16:01:57.89756",
     "exception": false,
     "start_time": "2022-03-19T16:01:57.856733",
     "status": "completed"
    },
    "tags": []
   },
   "source": [
    "## 5. Latent Dirichlet Allocation (LDA) model training\n",
    "\n",
    "* Start with default parameters except for specifying the number of topics.\n",
    "> Eg. Build a model with 10 topics whereby each topic is a combination of keywords and each keyword contributes a certain weightage to the topic."
   ]
  },
  {
   "cell_type": "code",
   "execution_count": 24,
   "metadata": {
    "execution": {
     "iopub.execute_input": "2022-04-01T15:29:41.542946Z",
     "iopub.status.busy": "2022-04-01T15:29:41.542719Z",
     "iopub.status.idle": "2022-04-01T15:29:58.935503Z",
     "shell.execute_reply": "2022-04-01T15:29:58.934634Z",
     "shell.execute_reply.started": "2022-04-01T15:29:41.542918Z"
    },
    "papermill": {
     "duration": 17.62676,
     "end_time": "2022-03-19T16:02:15.56612",
     "exception": false,
     "start_time": "2022-03-19T16:01:57.93936",
     "status": "completed"
    },
    "tags": []
   },
   "outputs": [
    {
     "name": "stderr",
     "output_type": "stream",
     "text": [
      "C:\\NTU Tutorials\\Year 1\\Sem 2\\Data Science and AI\\DSAI\\Anaconda\\lib\\site-packages\\ipykernel\\ipkernel.py:287: DeprecationWarning: `should_run_async` will not call `transform_cell` automatically in the future. Please pass the result to `transformed_cell` argument and any exception that happen during thetransform in `preprocessing_exc_tuple` in IPython 7.17 and above.\n",
      "  and should_run_async(code)\n"
     ]
    },
    {
     "name": "stdout",
     "output_type": "stream",
     "text": [
      "num_topics : 20\n",
      "[ ( 0,\n",
      "    '0.006*\"topic\" + 0.006*\"graph\" + 0.005*\"layer\" + 0.004*\"action\" + '\n",
      "    '0.004*\"node\" + 0.004*\"policy\" + 0.004*\"cluster\" + 0.004*\"object\" + '\n",
      "    '0.004*\"neuron\" + 0.003*\"field\"'),\n",
      "  ( 1,\n",
      "    '0.007*\"object\" + 0.007*\"cluster\" + 0.005*\"target\" + 0.004*\"visual\" + '\n",
      "    '0.004*\"filter\" + 0.004*\"node\" + 0.004*\"graph\" + 0.003*\"location\" + '\n",
      "    '0.003*\"neuron\" + 0.003*\"action\"'),\n",
      "  ( 2,\n",
      "    '0.007*\"kernel\" + 0.005*\"code\" + 0.005*\"query\" + 0.004*\"object\" + '\n",
      "    '0.004*\"group\" + 0.004*\"neuron\" + 0.003*\"graph\" + 0.003*\"edge\" + '\n",
      "    '0.003*\"rank\" + 0.003*\"stimulus\"'),\n",
      "  ( 3,\n",
      "    '0.006*\"rank\" + 0.005*\"graph\" + 0.005*\"kernel\" + 0.004*\"neuron\" + '\n",
      "    '0.004*\"action\" + 0.003*\"layer\" + 0.003*\"target\" + 0.003*\"classifier\" + '\n",
      "    '0.003*\"sparse\" + 0.003*\"object\"'),\n",
      "  ( 4,\n",
      "    '0.005*\"cluster\" + 0.004*\"agent\" + 0.004*\"layer\" + 0.004*\"gradient\" + '\n",
      "    '0.004*\"topic\" + 0.004*\"target\" + 0.004*\"policy\" + 0.003*\"kernel\" + '\n",
      "    '0.003*\"group\" + 0.003*\"face\"'),\n",
      "  ( 5,\n",
      "    '0.006*\"action\" + 0.005*\"policy\" + 0.004*\"reward\" + 0.004*\"norm\" + '\n",
      "    '0.004*\"gradient\" + 0.004*\"graph\" + 0.003*\"object\" + 0.003*\"rank\" + '\n",
      "    '0.003*\"regression\" + 0.003*\"layer\"'),\n",
      "  ( 6,\n",
      "    '0.014*\"kernel\" + 0.011*\"tree\" + 0.005*\"graph\" + 0.005*\"node\" + '\n",
      "    '0.004*\"cluster\" + 0.004*\"posterior\" + 0.004*\"layer\" + 0.004*\"density\" + '\n",
      "    '0.004*\"object\" + 0.003*\"decision\"'),\n",
      "  ( 7,\n",
      "    '0.010*\"cluster\" + 0.006*\"object\" + 0.005*\"neuron\" + 0.005*\"graph\" + '\n",
      "    '0.005*\"response\" + 0.004*\"dynamic\" + 0.003*\"classifier\" + 0.003*\"tree\" + '\n",
      "    '0.003*\"stimulus\" + 0.003*\"node\"'),\n",
      "  ( 8,\n",
      "    '0.005*\"layer\" + 0.005*\"policy\" + 0.005*\"decision\" + 0.004*\"reward\" + '\n",
      "    '0.004*\"action\" + 0.004*\"regret\" + 0.003*\"cluster\" + 0.003*\"classifier\" + '\n",
      "    '0.003*\"threshold\" + 0.003*\"fig\"'),\n",
      "  ( 9,\n",
      "    '0.012*\"cluster\" + 0.006*\"spike\" + 0.005*\"kernel\" + 0.004*\"neuron\" + '\n",
      "    '0.004*\"graph\" + 0.004*\"latent\" + 0.003*\"fig\" + 0.003*\"mixture\" + '\n",
      "    '0.003*\"source\" + 0.003*\"density\"'),\n",
      "  ( 10,\n",
      "    '0.007*\"layer\" + 0.006*\"policy\" + 0.006*\"node\" + 0.006*\"gradient\" + '\n",
      "    '0.004*\"posterior\" + 0.004*\"object\" + 0.004*\"code\" + 0.004*\"cluster\" + '\n",
      "    '0.004*\"variational\" + 0.004*\"neuron\"'),\n",
      "  ( 11,\n",
      "    '0.005*\"sparse\" + 0.004*\"kernel\" + 0.004*\"object\" + 0.004*\"neuron\" + '\n",
      "    '0.003*\"rank\" + 0.003*\"layer\" + 0.003*\"target\" + 0.003*\"code\" + '\n",
      "    '0.003*\"density\" + 0.003*\"dynamic\"'),\n",
      "  ( 12,\n",
      "    '0.005*\"cluster\" + 0.004*\"rank\" + 0.004*\"policy\" + 0.003*\"gradient\" + '\n",
      "    '0.003*\"cell\" + 0.003*\"boost\" + 0.003*\"action\" + 0.003*\"kernel\" + '\n",
      "    '0.003*\"norm\" + 0.003*\"sparse\"'),\n",
      "  ( 13,\n",
      "    '0.004*\"spike\" + 0.004*\"rank\" + 0.004*\"tree\" + 0.004*\"kernel\" + '\n",
      "    '0.004*\"neuron\" + 0.004*\"latent\" + 0.003*\"estimator\" + 0.003*\"node\" + '\n",
      "    '0.003*\"source\" + 0.003*\"mixture\"'),\n",
      "  ( 14,\n",
      "    '0.004*\"target\" + 0.004*\"node\" + 0.004*\"gradient\" + 0.004*\"object\" + '\n",
      "    '0.003*\"policy\" + 0.003*\"graph\" + 0.003*\"neuron\" + 0.003*\"cluster\" + '\n",
      "    '0.003*\"kernel\" + 0.003*\"dynamic\"'),\n",
      "  ( 15,\n",
      "    '0.011*\"cluster\" + 0.006*\"layer\" + 0.005*\"rank\" + 0.005*\"object\" + '\n",
      "    '0.004*\"graph\" + 0.004*\"dynamic\" + 0.004*\"response\" + 0.004*\"cell\" + '\n",
      "    '0.003*\"stimulus\" + 0.003*\"action\"'),\n",
      "  ( 16,\n",
      "    '0.008*\"kernel\" + 0.007*\"action\" + 0.006*\"policy\" + 0.006*\"object\" + '\n",
      "    '0.004*\"graph\" + 0.004*\"agent\" + 0.004*\"tree\" + 0.004*\"node\" + '\n",
      "    '0.003*\"reward\" + 0.003*\"cluster\"'),\n",
      "  ( 17,\n",
      "    '0.005*\"topic\" + 0.005*\"dynamic\" + 0.004*\"kernel\" + 0.004*\"object\" + '\n",
      "    '0.004*\"neuron\" + 0.003*\"policy\" + 0.003*\"source\" + 0.003*\"graph\" + '\n",
      "    '0.003*\"action\" + 0.003*\"target\"'),\n",
      "  ( 18,\n",
      "    '0.006*\"kernel\" + 0.006*\"graph\" + 0.005*\"tree\" + 0.004*\"query\" + '\n",
      "    '0.004*\"edge\" + 0.004*\"estimator\" + 0.004*\"layer\" + 0.004*\"cluster\" + '\n",
      "    '0.004*\"margin\" + 0.003*\"sparse\"'),\n",
      "  ( 19,\n",
      "    '0.006*\"classifier\" + 0.006*\"kernel\" + 0.004*\"code\" + 0.004*\"node\" + '\n",
      "    '0.003*\"memory\" + 0.003*\"density\" + 0.003*\"graph\" + 0.003*\"layer\" + '\n",
      "    '0.003*\"cell\" + 0.003*\"sparse\"')]\n",
      "Wall time: 12.8 s\n"
     ]
    },
    {
     "data": {
      "text/plain": [
       "[(0, 0.38979474),\n",
       " (2, 0.023851257),\n",
       " (3, 0.021251809),\n",
       " (8, 0.102287784),\n",
       " (10, 0.118981175),\n",
       " (11, 0.0634381),\n",
       " (15, 0.0805405),\n",
       " (17, 0.016491104),\n",
       " (18, 0.070074394),\n",
       " (19, 0.09940002)]"
      ]
     },
     "execution_count": 24,
     "metadata": {},
     "output_type": "execute_result"
    }
   ],
   "source": [
    "%%time\n",
    "# number of topics that need to experiment with based on the documents\n",
    "num_topics = len(hdp.print_topics()) # 7\n",
    "print(\"num_topics :\", num_topics)\n",
    "\n",
    "# Build LDA model\n",
    "lda_model = gensim.models.LdaMulticore(corpus=train_corpus,\n",
    "                                       id2word=train_id2word,\n",
    "                                       num_topics=num_topics)\n",
    "\n",
    "# Print the Keyword in the number of topics\n",
    "pp = pprint.PrettyPrinter(indent=2)\n",
    "pp.pprint(lda_model.print_topics())\n",
    "\n",
    "doc_lda = lda_model[train_corpus]\n",
    "\n",
    "doc_lda[0]"
   ]
  },
  {
   "cell_type": "code",
   "execution_count": 25,
   "metadata": {
    "execution": {
     "iopub.execute_input": "2022-04-01T15:29:58.937416Z",
     "iopub.status.busy": "2022-04-01T15:29:58.937173Z",
     "iopub.status.idle": "2022-04-01T15:29:58.951212Z",
     "shell.execute_reply": "2022-04-01T15:29:58.950521Z",
     "shell.execute_reply.started": "2022-04-01T15:29:58.937386Z"
    },
    "papermill": {
     "duration": 0.065004,
     "end_time": "2022-03-19T16:02:15.671788",
     "exception": false,
     "start_time": "2022-03-19T16:02:15.606784",
     "status": "completed"
    },
    "tags": []
   },
   "outputs": [
    {
     "name": "stdout",
     "output_type": "stream",
     "text": [
      "[(0, 0.3428241), (2, 0.015707495), (3, 0.030928997), (8, 0.119675204), (10, 0.15931739), (11, 0.063959144), (15, 0.069264635), (17, 0.042654675), (18, 0.06189545), (19, 0.06686293)]\n",
      "\n",
      "[(0, 0.2582448), (2, 0.44102967), (7, 0.28489572), (15, 0.010281351)]\n",
      "\n",
      "[(2, 0.055934854), (3, 0.27824938), (13, 0.6590893)]\n",
      "\n",
      "[(2, 0.2448557), (10, 0.32425457), (18, 0.42088312)]\n",
      "\n",
      "[(1, 0.066972405), (2, 0.10325027), (7, 0.16465542), (8, 0.59652984), (14, 0.04002878), (18, 0.02559241)]\n",
      "\n"
     ]
    },
    {
     "name": "stderr",
     "output_type": "stream",
     "text": [
      "C:\\NTU Tutorials\\Year 1\\Sem 2\\Data Science and AI\\DSAI\\Anaconda\\lib\\site-packages\\ipykernel\\ipkernel.py:287: DeprecationWarning: `should_run_async` will not call `transform_cell` automatically in the future. Please pass the result to `transformed_cell` argument and any exception that happen during thetransform in `preprocessing_exc_tuple` in IPython 7.17 and above.\n",
      "  and should_run_async(code)\n"
     ]
    }
   ],
   "source": [
    "# Show topics for each pdf document\n",
    "for i in range(5):\n",
    "    print(doc_lda[i][:][:])\n",
    "    print()"
   ]
  },
  {
   "cell_type": "code",
   "execution_count": 26,
   "metadata": {
    "execution": {
     "iopub.execute_input": "2022-04-01T15:29:58.952673Z",
     "iopub.status.busy": "2022-04-01T15:29:58.952353Z",
     "iopub.status.idle": "2022-04-01T15:31:33.640079Z",
     "shell.execute_reply": "2022-04-01T15:31:33.638991Z",
     "shell.execute_reply.started": "2022-04-01T15:29:58.952634Z"
    }
   },
   "outputs": [
    {
     "name": "stderr",
     "output_type": "stream",
     "text": [
      "C:\\NTU Tutorials\\Year 1\\Sem 2\\Data Science and AI\\DSAI\\Anaconda\\lib\\site-packages\\ipykernel\\ipkernel.py:287: DeprecationWarning: `should_run_async` will not call `transform_cell` automatically in the future. Please pass the result to `transformed_cell` argument and any exception that happen during thetransform in `preprocessing_exc_tuple` in IPython 7.17 and above.\n",
      "  and should_run_async(code)\n"
     ]
    },
    {
     "name": "stdout",
     "output_type": "stream",
     "text": [
      "Coherence Score of LDA with default values : 0.2192595688343899\n",
      "Wall time: 54.4 s\n"
     ]
    }
   ],
   "source": [
    "%%time\n",
    "from gensim.models import CoherenceModel\n",
    "\n",
    "# Compute Coherence Score for LDA with default values and HPA suggested num_topics = 20\n",
    "#  'c_v topic coherence' measures how often the topic words appear together in the corpus\n",
    "coherence_model_lda = CoherenceModel(model=lda_model, texts=train_lemmatized,\n",
    "                                     dictionary=train_id2word, coherence='c_v')\n",
    "\n",
    "# Value changed with every execution\n",
    "coherence_lda = coherence_model_lda.get_coherence()\n",
    "print('Coherence Score of LDA with default values :', coherence_lda)\n",
    "\n",
    "# Might want to explore C_p, C_npmi or C_uci for evaluating topics.\n",
    "# https://github.com/dice-group/Palmetto/issues/12"
   ]
  },
  {
   "cell_type": "code",
   "execution_count": 27,
   "metadata": {
    "execution": {
     "iopub.execute_input": "2022-04-01T15:31:33.641914Z",
     "iopub.status.busy": "2022-04-01T15:31:33.641675Z",
     "iopub.status.idle": "2022-04-01T15:31:33.664560Z",
     "shell.execute_reply": "2022-04-01T15:31:33.663845Z",
     "shell.execute_reply.started": "2022-04-01T15:31:33.641884Z"
    }
   },
   "outputs": [
    {
     "name": "stderr",
     "output_type": "stream",
     "text": [
      "C:\\NTU Tutorials\\Year 1\\Sem 2\\Data Science and AI\\DSAI\\Anaconda\\lib\\site-packages\\ipykernel\\ipkernel.py:287: DeprecationWarning: `should_run_async` will not call `transform_cell` automatically in the future. Please pass the result to `transformed_cell` argument and any exception that happen during thetransform in `preprocessing_exc_tuple` in IPython 7.17 and above.\n",
      "  and should_run_async(code)\n"
     ]
    }
   ],
   "source": [
    "lda_model.save('lda_basic_train.model')"
   ]
  },
  {
   "cell_type": "markdown",
   "metadata": {},
   "source": [
    "* Save data for future explorations"
   ]
  },
  {
   "cell_type": "code",
   "execution_count": 28,
   "metadata": {
    "execution": {
     "iopub.execute_input": "2022-04-01T15:31:33.666708Z",
     "iopub.status.busy": "2022-04-01T15:31:33.666137Z",
     "iopub.status.idle": "2022-04-01T15:31:47.282154Z",
     "shell.execute_reply": "2022-04-01T15:31:47.280948Z",
     "shell.execute_reply.started": "2022-04-01T15:31:33.666665Z"
    }
   },
   "outputs": [
    {
     "name": "stderr",
     "output_type": "stream",
     "text": [
      "C:\\NTU Tutorials\\Year 1\\Sem 2\\Data Science and AI\\DSAI\\Anaconda\\lib\\site-packages\\ipykernel\\ipkernel.py:287: DeprecationWarning: `should_run_async` will not call `transform_cell` automatically in the future. Please pass the result to `transformed_cell` argument and any exception that happen during thetransform in `preprocessing_exc_tuple` in IPython 7.17 and above.\n",
      "  and should_run_async(code)\n"
     ]
    }
   ],
   "source": [
    "with open('train_bigrams.pkl', 'wb') as output_fname:\n",
    "    pickle.dump(train_bigrams, output_fname)\n",
    "with open('train_lemmatized.pkl', 'wb') as output_fname:\n",
    "    pickle.dump(train_lemmatized, output_fname)\n",
    "with open('train_id2word.pkl', 'wb') as output_fname:\n",
    "    pickle.dump(train_id2word, output_fname)\n",
    "with open('train_corpus.pkl', 'wb') as output_fname:\n",
    "    pickle.dump(train_corpus, output_fname)"
   ]
  },
  {
   "cell_type": "code",
   "execution_count": 29,
   "metadata": {
    "execution": {
     "iopub.execute_input": "2022-04-01T15:31:47.284244Z",
     "iopub.status.busy": "2022-04-01T15:31:47.283929Z",
     "iopub.status.idle": "2022-04-01T15:31:52.132015Z",
     "shell.execute_reply": "2022-04-01T15:31:52.131160Z",
     "shell.execute_reply.started": "2022-04-01T15:31:47.284199Z"
    }
   },
   "outputs": [
    {
     "name": "stderr",
     "output_type": "stream",
     "text": [
      "C:\\NTU Tutorials\\Year 1\\Sem 2\\Data Science and AI\\DSAI\\Anaconda\\lib\\site-packages\\ipykernel\\ipkernel.py:287: DeprecationWarning: `should_run_async` will not call `transform_cell` automatically in the future. Please pass the result to `transformed_cell` argument and any exception that happen during thetransform in `preprocessing_exc_tuple` in IPython 7.17 and above.\n",
      "  and should_run_async(code)\n"
     ]
    }
   ],
   "source": [
    "with open('train_bigrams.pkl', 'rb') as input_fname:\n",
    "    train_bigrams = pickle.load(input_fname)\n",
    "with open('train_lemmatized.pkl', 'rb') as input_fname:\n",
    "    train_lemmatized = pickle.load(input_fname)\n",
    "with open('train_id2word.pkl', 'rb') as input_fname:\n",
    "    train_id2word = pickle.load(input_fname)\n",
    "with open('train_corpus.pkl', 'rb') as input_fname:\n",
    "    train_corpus = pickle.load(input_fname)"
   ]
  },
  {
   "cell_type": "markdown",
   "metadata": {},
   "source": [
    "## 5.1 Latent Dirichlet Allocation (LDA) Base model\n",
    "\n",
    "In addition to the corpus and dictionary, you need to provide the number of topics which can also be explored with Hierarchical Dirichlet Process (HDP).  The alpha and eta are hyperparameters that affect sparsity of the topics.  With reference to the Gensim docs, both defaults to 1.0/num_topics prior (default values are used for the base model) :\n",
    "\n",
    "1. **chunksize** controls how many documents are processed at a time in the training algorithm. Increasing chunksize will speed up training, at least as long as the chunk of documents easily fit into memory.\n",
    "2. **passes** controls how often we train the model on the entire corpus (set to 10). Another word for passes might be \"epochs\". iterations is somewhat technical, but essentially it controls how often we repeat a particular loop over each document. It is important to set the number of \"passes\" and \"iterations\" high enough.\n"
   ]
  },
  {
   "cell_type": "code",
   "execution_count": 31,
   "metadata": {
    "execution": {
     "iopub.execute_input": "2022-04-01T15:31:52.134051Z",
     "iopub.status.busy": "2022-04-01T15:31:52.133744Z",
     "iopub.status.idle": "2022-04-01T15:56:29.819494Z",
     "shell.execute_reply": "2022-04-01T15:56:29.818379Z",
     "shell.execute_reply.started": "2022-04-01T15:31:52.133999Z"
    }
   },
   "outputs": [],
   "source": [
    "%%time\n",
    "batch = 100\n",
    "epochs = 10\n",
    "iteration_coherence_scores = {}\n",
    "max_coherence_score = 0.5\n",
    "optimal_num_topics = 20\n",
    "\n",
    "# 9 samples\n",
    "for num_topics in range(7, 16):\n",
    "    print(\"num_topics :\", num_topics)\n",
    "\n",
    "    # Build LDA baseline model with parameters which produces better words for describing the document\n",
    "    # With 'random_state', results can still vary due to non-determinism in OS scheduling of the worker processes\n",
    "    lda_baselined_model = gensim.models.LdaMulticore(corpus=train_corpus,\n",
    "                                                     id2word=train_id2word,\n",
    "                                                     num_topics=num_topics,\n",
    "                                                     random_state=100,       # attempt reproducibility\n",
    "                                                     chunksize=batch,\n",
    "                                                     passes=epochs, \n",
    "                                                     per_word_topics=True)\n",
    "\n",
    "    # Compute Coherence Score with chunksize and passes values\n",
    "    coherence_model_lda = CoherenceModel(model=lda_baselined_model,texts=train_lemmatized,\n",
    "                                         dictionary=train_id2word, coherence='c_v')\n",
    "\n",
    "    coherence_lda = coherence_model_lda.get_coherence()\n",
    "    print('For num_topics = {}, Coherence Score = {}'.format(num_topics, coherence_lda))\n",
    "        \n",
    "    iteration_coherence_scores[num_topics] = round(coherence_lda, 3)\n",
    "\n",
    "    if coherence_lda > max_coherence_score:\n",
    "        max_coherence_score = coherence_lda\n",
    "        optimal_num_topics = num_topics\n",
    "        print(\"Current max coherence score :\", max_coherence_score)\n",
    "    \n",
    "    # Save model with k topics\n",
    "    # Need to download \".expElogbeta.npy\", \".id2word\" and \".state\" for saving\n",
    "    if (num_topics >= 11 and num_topics <=13): \n",
    "        print(\"Saving LDA model with {} topics\".format(num_topics))\n",
    "        lda_model_filename = 'lda_baselined_' + str(num_topics) + '_topics.model'\n",
    "        lda_baselined_model.save(lda_model_filename)\n",
    "    \n",
    "    print(\"-\"*70)\n",
    "\n",
    "print()\n",
    "print(\"Optimal number of topics for LDA model :\", optimal_num_topics)\n",
    "iteration_coherence_scores"
   ]
  },
  {
   "cell_type": "code",
   "execution_count": 32,
   "metadata": {
    "execution": {
     "iopub.execute_input": "2022-04-01T15:56:29.822233Z",
     "iopub.status.busy": "2022-04-01T15:56:29.821899Z",
     "iopub.status.idle": "2022-04-01T15:56:29.828867Z",
     "shell.execute_reply": "2022-04-01T15:56:29.828058Z",
     "shell.execute_reply.started": "2022-04-01T15:56:29.822188Z"
    }
   },
   "outputs": [],
   "source": [
    "# Different in each run even with 'random_state' because of the probabilistic nature of LDA\n",
    "# Compare to Coherence Score of LDA with default values and num_topics = 20 : 0.2126938524226747\n",
    "# For num_topics = 15, Coherence Score = 0.5805951970705756\n",
    "# For num_topics = 14, Coherence Score = 0.5886360771545663\n",
    "# For num_topics = 13, Coherence Score = 0.5989756758451199\n",
    "# For num_topics = 12, Coherence Score = 0.5915691739022426\n",
    "# For num_topics = 11, Coherence Score = 0.6015678202499711 <---\n",
    "# For num_topics = 10, Coherence Score = 0.5790276563252841\n",
    "# For num_topics = 9, Coherence Score = 0.5594170876634762\n",
    "# For num_topics = 8, Coherence Score = 0.5773567490827142\n",
    "# For num_topics = 7, Coherence Score = 0.5710087036365089\n",
    "\n",
    "# iteration_coherence_scores = {7 : 0.571, 8 : 0.577, 9 : 0.560,\n",
    "#                               10 : 0.579, 11 : 0.602, 12 : 0.592,\n",
    "#                               13 : 0.599, 14 : 0.589, 15 : 0.581}\n",
    "\n",
    "iteration_coherence_scores"
   ]
  },
  {
   "cell_type": "code",
   "execution_count": 33,
   "metadata": {
    "execution": {
     "iopub.execute_input": "2022-04-01T15:56:29.830477Z",
     "iopub.status.busy": "2022-04-01T15:56:29.830082Z",
     "iopub.status.idle": "2022-04-01T15:56:30.278267Z",
     "shell.execute_reply": "2022-04-01T15:56:30.277632Z",
     "shell.execute_reply.started": "2022-04-01T15:56:29.830446Z"
    }
   },
   "outputs": [],
   "source": [
    "def plot_coherence_vs_topics(iteration_coherence_scores, save_file_name=None):\n",
    "    \"\"\"\n",
    "    params:\n",
    "    - iteration_scores: {\n",
    "        num_topics : Coherence Score for number of topics\n",
    "    }\n",
    "    - save_file_name (str): file name with directory path to save plot; default is None (which is not saved)\n",
    "    \"\"\"\n",
    "    plt.figure(figsize=(16, 8))\n",
    "    \n",
    "    # key-value pair\n",
    "    num_topics_min_coherence_score = min(iteration_coherence_scores, key=lambda item: iteration_coherence_scores[item])\n",
    "    num_topics_max_coherence_score = max(iteration_coherence_scores, key=lambda item: iteration_coherence_scores[item])\n",
    "    min_coherence_score = iteration_coherence_scores[num_topics_min_coherence_score]\n",
    "    max_coherence_score = iteration_coherence_scores[num_topics_max_coherence_score]\n",
    "\n",
    "    print(\"No. of topics {} with min coherence_score : {}\".format(num_topics_min_coherence_score, min_coherence_score))\n",
    "    print(\"No. of topics {} with min coherence_score : {}\".format(num_topics_max_coherence_score, max_coherence_score))\n",
    "    \n",
    "    plt.xlim([7, 15])\n",
    "    plt.ylim([min_coherence_score - 0.005, max_coherence_score + 0.005])\n",
    "    \n",
    "    x = list(iteration_coherence_scores.keys())\n",
    "    y = list(iteration_coherence_scores.values())\n",
    "    \n",
    "    plt.plot(x, y, '-g*', label='Topic Coherence Score')\n",
    "    plt.legend(loc='center left', bbox_to_anchor=(0.82, 0.95))\n",
    "\n",
    "    plt.title('Topic Coherence : Determining the optimal number of topics')\n",
    "    plt.xlabel('Number of topics')\n",
    "    plt.ylabel('Coherence Score')\n",
    "\n",
    "    if save_file_name is not None:\n",
    "        plt.savefig(save_file_name, facecolor='w')\n",
    "    \n",
    "    plt.show()\n",
    "\n",
    "# Save with jpg extension; otherwise, save without axes or use facecolor to set the borders in white\n",
    "plot_coherence_vs_topics(iteration_coherence_scores, 'coherence_vs_topics')"
   ]
  },
  {
   "cell_type": "markdown",
   "metadata": {},
   "source": [
    "## 5.2 Hyperparameter tuning on LDA model (Optional)\n",
    "\n",
    "* ***Model hyperparameters*** are settings for a machine learning algorithms that are can be tuned by data scientist before training. It can be referred as the variables for a machine learning architecture.  For example, the number of trees in the random forest and number of topics, k for LDA\n",
    "\n",
    "* ***Model parameters*** are what the machine learning algorithms learns during training.  For example, the weights for each word in a given topic.\n",
    "\n",
    "With reference to the coherence score for the baseline LDA model, we can perform a series of sensitivity tests to help determine the following model hyperparameters:\n",
    "\n",
    "* Number of Topics (K)\n",
    "* Dirichlet hyperparameter alpha: Document-Topic Density\n",
    "* Dirichlet hyperparameter beta: Word-Topic Density\n",
    "\n",
    "We will perform these tests in sequence, one parameter at a time by keeping others constant and run them over the two difference validation corpus sets. We have selected \"c_v\" as the choice of metric for performance comparison and could consider the other metrics"
   ]
  },
  {
   "cell_type": "code",
   "execution_count": 34,
   "metadata": {
    "execution": {
     "iopub.execute_input": "2022-04-01T15:56:30.280499Z",
     "iopub.status.busy": "2022-04-01T15:56:30.279521Z",
     "iopub.status.idle": "2022-04-01T15:56:30.285297Z",
     "shell.execute_reply": "2022-04-01T15:56:30.284346Z",
     "shell.execute_reply.started": "2022-04-01T15:56:30.280453Z"
    }
   },
   "outputs": [],
   "source": [
    "# supporting function\n",
    "# def compute_coherence_values(corpus, dictionary, k, a, b):\n",
    "    \n",
    "#     lda_model = gensim.models.LdaMulticore(corpus=corpus,\n",
    "#                                            id2word=dictionary,\n",
    "#                                            num_topics=k, \n",
    "#                                            random_state=100,\n",
    "#                                            chunksize=100,\n",
    "#                                            passes=10,\n",
    "#                                            alpha=a,\n",
    "#                                            eta=b)\n",
    "    \n",
    "#     coherence_model_lda = CoherenceModel(model=lda_model, texts=train_lemmatized,\n",
    "#                                          dictionary=train_id2word, coherence='c_v')\n",
    "    \n",
    "#     return coherence_model_lda.get_coherence()"
   ]
  },
  {
   "cell_type": "code",
   "execution_count": 35,
   "metadata": {
    "execution": {
     "iopub.execute_input": "2022-04-01T15:56:30.287013Z",
     "iopub.status.busy": "2022-04-01T15:56:30.286403Z",
     "iopub.status.idle": "2022-04-01T15:56:30.299283Z",
     "shell.execute_reply": "2022-04-01T15:56:30.298688Z",
     "shell.execute_reply.started": "2022-04-01T15:56:30.286969Z"
    }
   },
   "outputs": [],
   "source": [
    "# This takes long time to execute; we decided to use the emphirical approach\n",
    "# %%time\n",
    "# import numpy as np\n",
    "# import tqdm\n",
    "\n",
    "# grid = {}\n",
    "# grid['Validation_Set'] = {}\n",
    "\n",
    "# # Topics range\n",
    "# min_topics = 2\n",
    "# max_topics = 11\n",
    "# step_size = 1\n",
    "# topics_range = range(min_topics, max_topics, step_size)\n",
    "\n",
    "# # Alpha parameter\n",
    "# alpha = list(np.arange(0.01, 1, 0.3))\n",
    "# alpha.append('symmetric')\n",
    "# alpha.append('asymmetric')\n",
    "\n",
    "# # Beta parameter\n",
    "# beta = list(np.arange(0.01, 1, 0.3))\n",
    "# beta.append('symmetric')\n",
    "\n",
    "# # Validation sets\n",
    "# num_of_docs = len(train_corpus)\n",
    "# corpus_sets = [gensim.utils.ClippedCorpus(train_corpus, int(num_of_docs*0.75)), \n",
    "#                train_corpus]\n",
    "\n",
    "# corpus_title = ['75% Corpus', '100% Corpus']\n",
    "\n",
    "# model_results = {'Validation_Set': [],\n",
    "#                  'Topics': [],\n",
    "#                  'Alpha': [],\n",
    "#                  'Beta': [],\n",
    "#                  'Coherence': []\n",
    "#                 }\n",
    "\n",
    "\n",
    "# if True:\n",
    "#     pbar = tqdm.tqdm(total=(len(beta)*len(alpha)*len(topics_range)*len(corpus_title)))\n",
    "    \n",
    "#     # iterate through validation corpuses\n",
    "#     for i in range(len(corpus_sets)):\n",
    "#         # iterate through number of topics\n",
    "#         for k in topics_range:\n",
    "#             # iterate through alpha values\n",
    "#             for a in alpha:\n",
    "#                 # iterare through beta values\n",
    "#                 for b in beta:\n",
    "#                     # get the coherence score for the given parameters\n",
    "#                     cv = compute_coherence_values(corpus=corpus_sets[i],\n",
    "#                                                   dictionary=train_id2word, \n",
    "#                                                   k=k, a=a, b=b)\n",
    "#                     # Save the model results\n",
    "#                     model_results['Validation_Set'].append(corpus_title[i])\n",
    "#                     model_results['Topics'].append(k)\n",
    "#                     model_results['Alpha'].append(a)\n",
    "#                     model_results['Beta'].append(b)\n",
    "#                     model_results['Coherence'].append(cv)\n",
    "                    \n",
    "#                     pbar.update(1)\n",
    "#     pd.DataFrame(model_results).to_csv('./results/lda_tuning_results.csv', index=False)\n",
    "#     pbar.close()"
   ]
  },
  {
   "cell_type": "markdown",
   "metadata": {
    "papermill": {
     "duration": 0.040735,
     "end_time": "2022-03-19T16:02:15.754011",
     "exception": false,
     "start_time": "2022-03-19T16:02:15.713276",
     "status": "completed"
    },
    "tags": []
   },
   "source": [
    "## 6. Analyzing the Latent Dirichlet Allocation (LDA) model\n",
    "\n",
    "Visualize the topics of the LDA model for interpretability with popular visualization package, pyLDAvis :\n",
    "\n",
    "1. Better understanding and interpreting individual topics and\n",
    "2. Better understanding the relationships between the topics.\n",
    "\n",
    "For (1), manually select each topic to view its top most frequent and/or “relevant” terms, using different values of the λ parameter.  This can be helpful to assign a human interpretable name or “meaning” to each topic.\n",
    "\n",
    "For (2), exploring the Intertopic Distance Plot can help you learn about how topics are related to each other, including potential higher-level structure between groups of topics."
   ]
  },
  {
   "cell_type": "code",
   "execution_count": 36,
   "metadata": {
    "execution": {
     "iopub.execute_input": "2022-04-01T15:56:30.300759Z",
     "iopub.status.busy": "2022-04-01T15:56:30.300256Z",
     "iopub.status.idle": "2022-04-01T15:56:30.333397Z",
     "shell.execute_reply": "2022-04-01T15:56:30.332578Z",
     "shell.execute_reply.started": "2022-04-01T15:56:30.300726Z"
    }
   },
   "outputs": [],
   "source": [
    "doc_lda_baselined = lda_baselined_model[train_corpus]\n",
    "\n",
    "print(\"No. of lda sampled dcouments : \", len(doc_lda_baselined))\n",
    "\n",
    "# Show topics for each pdf document\n",
    "# for i in range(2):\n",
    "#     print(doc_lda_baselined[i][:][:])\n",
    "#     print(\"-\"*100)\n",
    "\n",
    "len(doc_lda_baselined[0][2]) # gives 395"
   ]
  },
  {
   "cell_type": "code",
   "execution_count": 37,
   "metadata": {
    "execution": {
     "iopub.execute_input": "2022-04-01T15:56:30.334861Z",
     "iopub.status.busy": "2022-04-01T15:56:30.334629Z",
     "iopub.status.idle": "2022-04-01T15:56:30.340280Z",
     "shell.execute_reply": "2022-04-01T15:56:30.339721Z",
     "shell.execute_reply.started": "2022-04-01T15:56:30.334834Z"
    }
   },
   "outputs": [],
   "source": [
    "samples, optimal_num_topics, num_topics"
   ]
  },
  {
   "cell_type": "code",
   "execution_count": 38,
   "metadata": {
    "execution": {
     "iopub.execute_input": "2022-04-01T15:56:30.341931Z",
     "iopub.status.busy": "2022-04-01T15:56:30.341282Z",
     "iopub.status.idle": "2022-04-01T15:56:30.364892Z",
     "shell.execute_reply": "2022-04-01T15:56:30.364052Z",
     "shell.execute_reply.started": "2022-04-01T15:56:30.341888Z"
    }
   },
   "outputs": [],
   "source": [
    "# For gensim models, extra-large numpy arrays are saved as separate files alongside the main model file,\n",
    "# for efficiency and (in some cases) to work around pickle-limitations.\n",
    "# \".expElogbeta.npy\", \".id2word\" and \".state\" are needed\n",
    "\n",
    "# Before LDAvis, we need to load the saved model as the last LDA model is with 15 num_topics\n",
    "lda_model_filename = 'lda_baselined_' + str(optimal_num_topics) + '_topics.model'\n",
    "# Reload pre-trained model\n",
    "lda_baselined_model = gensim.models.LdaMulticore.load(lda_model_filename)\n",
    "print(\"Loaded model file :\", lda_model_filename)"
   ]
  },
  {
   "cell_type": "code",
   "execution_count": 39,
   "metadata": {
    "execution": {
     "iopub.execute_input": "2022-04-01T15:56:30.366450Z",
     "iopub.status.busy": "2022-04-01T15:56:30.366225Z",
     "iopub.status.idle": "2022-04-01T15:56:39.165065Z",
     "shell.execute_reply": "2022-04-01T15:56:39.163964Z",
     "shell.execute_reply.started": "2022-04-01T15:56:30.366422Z"
    },
    "papermill": {
     "duration": 28.979077,
     "end_time": "2022-03-19T16:02:44.773924",
     "exception": false,
     "start_time": "2022-03-19T16:02:15.794847",
     "status": "completed"
    },
    "tags": []
   },
   "outputs": [],
   "source": [
    "%%time\n",
    "# Visualize the topics\n",
    "pyLDAvis.enable_notebook()\n",
    "\n",
    "# Default kaggle directory, \"/kaggle/working/\"\n",
    "LDAvis_data_filepath = os.path.join('./ldavis_prepared_' + str(samples) + '_samples_' +\n",
    "                                    str(optimal_num_topics) + '_topics.pkl')\n",
    "\n",
    "with warnings.catch_warnings():\n",
    "    warnings.filterwarnings(\"ignore\", category=FutureWarning)\n",
    "    # A bit time consuming - make the if statement True\n",
    "    # if you want to execute visualization prep yourself\n",
    "    if True:\n",
    "        LDAvis_prepared = pyLDAvis.gensim_models.prepare(lda_baselined_model, train_corpus, train_id2word)\n",
    "        with open(LDAvis_data_filepath, 'wb') as fname:\n",
    "            print(\"Saving LDAvis_data :\", LDAvis_data_filepath)\n",
    "            pickle.dump(LDAvis_prepared, fname)\n",
    "\n",
    "# load the pre-prepared pyLDAvis data from disk\n",
    "with open(LDAvis_data_filepath, 'rb') as fname:\n",
    "    LDAvis_prepared = pickle.load(fname)\n",
    "\n",
    "LDAvis_html = './ldavis_prepared_'+ str(samples) + '_samples_' + str(optimal_num_topics) +'_topics.html'\n",
    "\n",
    "pyLDAvis.save_html(LDAvis_prepared, LDAvis_html)\n",
    "print()\n",
    "print(\"Saving LDAvis_data :\", LDAvis_data_filepath)\n",
    "\n",
    "LDAvis_prepared"
   ]
  },
  {
   "cell_type": "markdown",
   "metadata": {},
   "source": [
    "# Section C : Text Classification"
   ]
  },
  {
   "cell_type": "markdown",
   "metadata": {},
   "source": [
    "* Execute to load previously saved LDA model without building the model\n",
    "* The path needs to be changed to where the file is stored"
   ]
  },
  {
   "cell_type": "code",
   "execution_count": 31,
   "metadata": {
    "execution": {
     "iopub.execute_input": "2022-04-01T15:56:39.175650Z",
     "iopub.status.busy": "2022-04-01T15:56:39.175226Z",
     "iopub.status.idle": "2022-04-01T15:56:40.929805Z",
     "shell.execute_reply": "2022-04-01T15:56:40.928772Z",
     "shell.execute_reply.started": "2022-04-01T15:56:39.175579Z"
    }
   },
   "outputs": [
    {
     "name": "stderr",
     "output_type": "stream",
     "text": [
      "C:\\NTU Tutorials\\Year 1\\Sem 2\\Data Science and AI\\DSAI\\Anaconda\\lib\\site-packages\\ipykernel\\ipkernel.py:287: DeprecationWarning: `should_run_async` will not call `transform_cell` automatically in the future. Please pass the result to `transformed_cell` argument and any exception that happen during thetransform in `preprocessing_exc_tuple` in IPython 7.17 and above.\n",
      "  and should_run_async(code)\n"
     ]
    },
    {
     "data": {
      "text/html": [
       "<div>\n",
       "<style scoped>\n",
       "    .dataframe tbody tr th:only-of-type {\n",
       "        vertical-align: middle;\n",
       "    }\n",
       "\n",
       "    .dataframe tbody tr th {\n",
       "        vertical-align: top;\n",
       "    }\n",
       "\n",
       "    .dataframe thead th {\n",
       "        text-align: right;\n",
       "    }\n",
       "</style>\n",
       "<table border=\"1\" class=\"dataframe\">\n",
       "  <thead>\n",
       "    <tr style=\"text-align: right;\">\n",
       "      <th></th>\n",
       "      <th>title</th>\n",
       "      <th>pdf_name</th>\n",
       "      <th>paper_text</th>\n",
       "    </tr>\n",
       "  </thead>\n",
       "  <tbody>\n",
       "    <tr>\n",
       "      <th>0</th>\n",
       "      <td>Self-Organization of Associative Database and ...</td>\n",
       "      <td>1-self-organization-of-associative-database-an...</td>\n",
       "      <td>767\\n\\nSELF-ORGANIZATION OF ASSOCIATIVE DATABA...</td>\n",
       "    </tr>\n",
       "    <tr>\n",
       "      <th>1</th>\n",
       "      <td>A Mean Field Theory of Layer IV of Visual Cort...</td>\n",
       "      <td>10-a-mean-field-theory-of-layer-iv-of-visual-c...</td>\n",
       "      <td>683\\n\\nA MEAN FIELD THEORY OF LAYER IV OF VISU...</td>\n",
       "    </tr>\n",
       "    <tr>\n",
       "      <th>2</th>\n",
       "      <td>Storing Covariance by the Associative Long-Ter...</td>\n",
       "      <td>100-storing-covariance-by-the-associative-long...</td>\n",
       "      <td>394\\n\\nSTORING COVARIANCE BY THE ASSOCIATIVE\\n...</td>\n",
       "    </tr>\n",
       "    <tr>\n",
       "      <th>3</th>\n",
       "      <td>Bayesian Query Construction for Neural Network...</td>\n",
       "      <td>1000-bayesian-query-construction-for-neural-ne...</td>\n",
       "      <td>Bayesian Query Construction for Neural\\nNetwor...</td>\n",
       "    </tr>\n",
       "    <tr>\n",
       "      <th>4</th>\n",
       "      <td>Neural Network Ensembles, Cross Validation, an...</td>\n",
       "      <td>1001-neural-network-ensembles-cross-validation...</td>\n",
       "      <td>Neural Network Ensembles, Cross\\nValidation, a...</td>\n",
       "    </tr>\n",
       "  </tbody>\n",
       "</table>\n",
       "</div>"
      ],
      "text/plain": [
       "                                               title  \\\n",
       "0  Self-Organization of Associative Database and ...   \n",
       "1  A Mean Field Theory of Layer IV of Visual Cort...   \n",
       "2  Storing Covariance by the Associative Long-Ter...   \n",
       "3  Bayesian Query Construction for Neural Network...   \n",
       "4  Neural Network Ensembles, Cross Validation, an...   \n",
       "\n",
       "                                            pdf_name  \\\n",
       "0  1-self-organization-of-associative-database-an...   \n",
       "1  10-a-mean-field-theory-of-layer-iv-of-visual-c...   \n",
       "2  100-storing-covariance-by-the-associative-long...   \n",
       "3  1000-bayesian-query-construction-for-neural-ne...   \n",
       "4  1001-neural-network-ensembles-cross-validation...   \n",
       "\n",
       "                                          paper_text  \n",
       "0  767\\n\\nSELF-ORGANIZATION OF ASSOCIATIVE DATABA...  \n",
       "1  683\\n\\nA MEAN FIELD THEORY OF LAYER IV OF VISU...  \n",
       "2  394\\n\\nSTORING COVARIANCE BY THE ASSOCIATIVE\\n...  \n",
       "3  Bayesian Query Construction for Neural\\nNetwor...  \n",
       "4  Neural Network Ensembles, Cross\\nValidation, a...  "
      ]
     },
     "execution_count": 31,
     "metadata": {},
     "output_type": "execute_result"
    }
   ],
   "source": [
    "# After running the common libraries, parsing test documents, text2words methods\n",
    "# Load data into papers\n",
    "papers = pd.read_csv('C:/Users/roydo/Desktop/Goldman Sachs/Data downloaded/papers.csv')\n",
    "samples = papers.shape[0]\n",
    "\n",
    "papers_text_df = papers.drop(columns=['id', 'year', 'event_type', 'abstract'], axis=1)\n",
    "papers_text_df.head()"
   ]
  },
  {
   "cell_type": "code",
   "execution_count": 33,
   "metadata": {
    "execution": {
     "iopub.execute_input": "2022-04-01T15:56:40.931769Z",
     "iopub.status.busy": "2022-04-01T15:56:40.931350Z",
     "iopub.status.idle": "2022-04-01T15:56:40.965175Z",
     "shell.execute_reply": "2022-04-01T15:56:40.964590Z",
     "shell.execute_reply.started": "2022-04-01T15:56:40.931724Z"
    }
   },
   "outputs": [
    {
     "name": "stdout",
     "output_type": "stream",
     "text": [
      "Loaded model file : C:/Users/roydo/Desktop/Goldman Sachs/Data downloaded/lda_baselined_12_topics.model\n"
     ]
    },
    {
     "name": "stderr",
     "output_type": "stream",
     "text": [
      "C:\\NTU Tutorials\\Year 1\\Sem 2\\Data Science and AI\\DSAI\\Anaconda\\lib\\site-packages\\ipykernel\\ipkernel.py:287: DeprecationWarning: `should_run_async` will not call `transform_cell` automatically in the future. Please pass the result to `transformed_cell` argument and any exception that happen during thetransform in `preprocessing_exc_tuple` in IPython 7.17 and above.\n",
      "  and should_run_async(code)\n"
     ]
    },
    {
     "data": {
      "text/plain": [
       "12"
      ]
     },
     "execution_count": 33,
     "metadata": {},
     "output_type": "execute_result"
    }
   ],
   "source": [
    "# For gensim models, extra-large numpy arrays are saved as separate files alongside the main model file,\n",
    "# for efficiency and (in some cases) to work around pickle-limitations.\n",
    "# \".expElogbeta.npy\", \".id2word\" and \".state\" are needed\n",
    "\n",
    "# Reload pre-trained model\n",
    "lda_model_filename = 'C:/Users/roydo/Desktop/Goldman Sachs/Data downloaded/lda_baselined_12_topics.model' # 13\n",
    "lda_baselined_model = gensim.models.LdaMulticore.load(lda_model_filename)\n",
    "print(\"Loaded model file :\", lda_model_filename)\n",
    "\n",
    "# After loading, get the term-topic matrix learned, to obtain the num_topics saved in model\n",
    "optimal_num_topics = len(lda_baselined_model.get_topics()) # 12, 13\n",
    "optimal_num_topics"
   ]
  },
  {
   "cell_type": "code",
   "execution_count": 34,
   "metadata": {
    "execution": {
     "iopub.execute_input": "2022-04-01T15:56:40.966481Z",
     "iopub.status.busy": "2022-04-01T15:56:40.966285Z",
     "iopub.status.idle": "2022-04-01T15:56:40.972375Z",
     "shell.execute_reply": "2022-04-01T15:56:40.971422Z",
     "shell.execute_reply.started": "2022-04-01T15:56:40.966458Z"
    }
   },
   "outputs": [
    {
     "name": "stderr",
     "output_type": "stream",
     "text": [
      "C:\\NTU Tutorials\\Year 1\\Sem 2\\Data Science and AI\\DSAI\\Anaconda\\lib\\site-packages\\ipykernel\\ipkernel.py:287: DeprecationWarning: `should_run_async` will not call `transform_cell` automatically in the future. Please pass the result to `transformed_cell` argument and any exception that happen during thetransform in `preprocessing_exc_tuple` in IPython 7.17 and above.\n",
      "  and should_run_async(code)\n"
     ]
    },
    {
     "data": {
      "text/plain": [
       "(12, 16056)"
      ]
     },
     "execution_count": 34,
     "metadata": {},
     "output_type": "execute_result"
    }
   ],
   "source": [
    "# The probability for each word in each topic, shape (num_topics, vocabulary_size) \n",
    "lda_baselined_model.get_topics().shape"
   ]
  },
  {
   "cell_type": "code",
   "execution_count": 36,
   "metadata": {
    "execution": {
     "iopub.execute_input": "2022-04-01T15:56:40.974250Z",
     "iopub.status.busy": "2022-04-01T15:56:40.973906Z",
     "iopub.status.idle": "2022-04-01T15:56:40.985328Z",
     "shell.execute_reply": "2022-04-01T15:56:40.984474Z",
     "shell.execute_reply.started": "2022-04-01T15:56:40.974210Z"
    }
   },
   "outputs": [
    {
     "name": "stderr",
     "output_type": "stream",
     "text": [
      "C:\\NTU Tutorials\\Year 1\\Sem 2\\Data Science and AI\\DSAI\\Anaconda\\lib\\site-packages\\ipykernel\\ipkernel.py:287: DeprecationWarning: `should_run_async` will not call `transform_cell` automatically in the future. Please pass the result to `transformed_cell` argument and any exception that happen during thetransform in `preprocessing_exc_tuple` in IPython 7.17 and above.\n",
      "  and should_run_async(code)\n"
     ]
    },
    {
     "data": {
      "text/plain": [
       "[('object', 0.04665614),\n",
       " ('visual', 0.014466314),\n",
       " ('detection', 0.011296687),\n",
       " ('segmentation', 0.011075802),\n",
       " ('scene', 0.010700659),\n",
       " ('motion', 0.010123602),\n",
       " ('pixel', 0.010021922),\n",
       " ('shape', 0.009761708),\n",
       " ('human', 0.009625511),\n",
       " ('video', 0.0095889745),\n",
       " ('face', 0.009089722),\n",
       " ('location', 0.008902239),\n",
       " ('frame', 0.008375124),\n",
       " ('spatial', 0.006377166),\n",
       " ('color', 0.0063493047)]"
      ]
     },
     "execution_count": 36,
     "metadata": {},
     "output_type": "execute_result"
    }
   ],
   "source": [
    "# Get the representation for a single topic with topn words.  Words are the actual strings .\n",
    "lda_baselined_model.show_topic(topicid=0, topn=15) # 30"
   ]
  },
  {
   "cell_type": "code",
   "execution_count": 37,
   "metadata": {
    "execution": {
     "iopub.execute_input": "2022-04-01T15:56:40.987509Z",
     "iopub.status.busy": "2022-04-01T15:56:40.986664Z",
     "iopub.status.idle": "2022-04-01T15:56:40.996549Z",
     "shell.execute_reply": "2022-04-01T15:56:40.995683Z",
     "shell.execute_reply.started": "2022-04-01T15:56:40.987467Z"
    }
   },
   "outputs": [
    {
     "name": "stderr",
     "output_type": "stream",
     "text": [
      "C:\\NTU Tutorials\\Year 1\\Sem 2\\Data Science and AI\\DSAI\\Anaconda\\lib\\site-packages\\ipykernel\\ipkernel.py:287: DeprecationWarning: `should_run_async` will not call `transform_cell` automatically in the future. Please pass the result to `transformed_cell` argument and any exception that happen during thetransform in `preprocessing_exc_tuple` in IPython 7.17 and above.\n",
      "  and should_run_async(code)\n"
     ]
    },
    {
     "data": {
      "text/plain": [
       "[(1276, 0.04665614),\n",
       " (386, 0.014466314),\n",
       " (1196, 0.011296687),\n",
       " (2892, 0.011075802),\n",
       " (3628, 0.010700659),\n",
       " (222, 0.010123602),\n",
       " (1286, 0.010021922),\n",
       " (1313, 0.009761708),\n",
       " (165, 0.009625511),\n",
       " (384, 0.0095889745),\n",
       " (130, 0.009089722),\n",
       " (501, 0.008902239),\n",
       " (143, 0.008375124),\n",
       " (572, 0.006377166),\n",
       " (2671, 0.0063493047)]"
      ]
     },
     "execution_count": 37,
     "metadata": {},
     "output_type": "execute_result"
    }
   ],
   "source": [
    "# Get the representation for a single topic.\n",
    "# Words the integer IDs, in contrast to show_topic() that represents words by the actual strings.\n",
    "lda_baselined_model.get_topic_terms(0, topn=15)"
   ]
  },
  {
   "cell_type": "code",
   "execution_count": 38,
   "metadata": {
    "execution": {
     "iopub.execute_input": "2022-04-01T15:56:40.998477Z",
     "iopub.status.busy": "2022-04-01T15:56:40.997792Z",
     "iopub.status.idle": "2022-04-01T15:56:41.006786Z",
     "shell.execute_reply": "2022-04-01T15:56:41.005935Z",
     "shell.execute_reply.started": "2022-04-01T15:56:40.998440Z"
    }
   },
   "outputs": [
    {
     "name": "stderr",
     "output_type": "stream",
     "text": [
      "C:\\NTU Tutorials\\Year 1\\Sem 2\\Data Science and AI\\DSAI\\Anaconda\\lib\\site-packages\\ipykernel\\ipkernel.py:287: DeprecationWarning: `should_run_async` will not call `transform_cell` automatically in the future. Please pass the result to `transformed_cell` argument and any exception that happen during thetransform in `preprocessing_exc_tuple` in IPython 7.17 and above.\n",
      "  and should_run_async(code)\n"
     ]
    },
    {
     "data": {
      "text/plain": [
       "[(0, 0.046642426),\n",
       " (1, 1.5170698e-07),\n",
       " (2, 9.707566e-05),\n",
       " (5, 0.0001684955),\n",
       " (6, 7.457153e-05),\n",
       " (8, 0.00058219966),\n",
       " (9, 0.00010517054),\n",
       " (10, 4.598909e-05),\n",
       " (11, 0.0005475131)]"
      ]
     },
     "execution_count": 38,
     "metadata": {},
     "output_type": "execute_result"
    }
   ],
   "source": [
    "# Get the most relevant topics to the given word (eg. 'object')\n",
    "# Analysis : Use to check which word goes most likely belongs to which topic\n",
    "top_topics = lda_baselined_model.get_term_topics(1276, minimum_probability=0.0)\n",
    "top_topics"
   ]
  },
  {
   "cell_type": "code",
   "execution_count": 39,
   "metadata": {
    "execution": {
     "iopub.execute_input": "2022-04-01T15:56:41.008451Z",
     "iopub.status.busy": "2022-04-01T15:56:41.008010Z",
     "iopub.status.idle": "2022-04-01T15:56:41.019981Z",
     "shell.execute_reply": "2022-04-01T15:56:41.018896Z",
     "shell.execute_reply.started": "2022-04-01T15:56:41.008415Z"
    }
   },
   "outputs": [
    {
     "name": "stdout",
     "output_type": "stream",
     "text": [
      "Maximum probability: 0.046642426 with topicID: 0\n"
     ]
    },
    {
     "name": "stderr",
     "output_type": "stream",
     "text": [
      "C:\\NTU Tutorials\\Year 1\\Sem 2\\Data Science and AI\\DSAI\\Anaconda\\lib\\site-packages\\ipykernel\\ipkernel.py:287: DeprecationWarning: `should_run_async` will not call `transform_cell` automatically in the future. Please pass the result to `transformed_cell` argument and any exception that happen during thetransform in `preprocessing_exc_tuple` in IPython 7.17 and above.\n",
      "  and should_run_async(code)\n"
     ]
    }
   ],
   "source": [
    "# key-value pair within a list; in this case, topic and prob is at position 0 and 1 respectively\n",
    "topic, max_prob = max(top_topics, key=lambda item: item[1])\n",
    "\n",
    "# topic is not the index, it is the value in the first position of top_topics (0, 0.047130343)\n",
    "# Most probable topic (topicid=0 for word_id=1276)\n",
    "print('Maximum probability:', max_prob, \"with topicID:\", topic)"
   ]
  },
  {
   "cell_type": "markdown",
   "metadata": {},
   "source": [
    "## 1. Store topic words from baselined LDA model"
   ]
  },
  {
   "cell_type": "code",
   "execution_count": 40,
   "metadata": {
    "execution": {
     "iopub.execute_input": "2022-04-01T15:56:41.022551Z",
     "iopub.status.busy": "2022-04-01T15:56:41.021744Z",
     "iopub.status.idle": "2022-04-01T15:56:41.042000Z",
     "shell.execute_reply": "2022-04-01T15:56:41.040799Z",
     "shell.execute_reply.started": "2022-04-01T15:56:41.022503Z"
    }
   },
   "outputs": [
    {
     "name": "stderr",
     "output_type": "stream",
     "text": [
      "C:\\NTU Tutorials\\Year 1\\Sem 2\\Data Science and AI\\DSAI\\Anaconda\\lib\\site-packages\\ipykernel\\ipkernel.py:287: DeprecationWarning: `should_run_async` will not call `transform_cell` automatically in the future. Please pass the result to `transformed_cell` argument and any exception that happen during thetransform in `preprocessing_exc_tuple` in IPython 7.17 and above.\n",
      "  and should_run_async(code)\n"
     ]
    },
    {
     "data": {
      "text/plain": [
       "[(0,\n",
       "  [('object', 0.04665614),\n",
       "   ('visual', 0.014466314),\n",
       "   ('detection', 0.011296687),\n",
       "   ('segmentation', 0.011075802),\n",
       "   ('scene', 0.010700659),\n",
       "   ('motion', 0.010123602),\n",
       "   ('pixel', 0.010021922),\n",
       "   ('shape', 0.009761708),\n",
       "   ('human', 0.009625511),\n",
       "   ('video', 0.0095889745)]),\n",
       " (1,\n",
       "  [('estimator', 0.013348695),\n",
       "   ('sparse', 0.012262782),\n",
       "   ('gradient', 0.012069605),\n",
       "   ('norm', 0.0113088),\n",
       "   ('regression', 0.007864123),\n",
       "   ('regularization', 0.0062352237),\n",
       "   ('sparsity', 0.005742124),\n",
       "   ('smooth', 0.0054239975),\n",
       "   ('minimization', 0.005332614),\n",
       "   ('risk', 0.005308477)]),\n",
       " (2,\n",
       "  [('posterior', 0.021011457),\n",
       "   ('latent', 0.020050434),\n",
       "   ('mixture', 0.014628261),\n",
       "   ('variational', 0.013881963),\n",
       "   ('density', 0.013179009),\n",
       "   ('bayesian', 0.013010112),\n",
       "   ('conditional', 0.010098672),\n",
       "   ('topic', 0.009767679),\n",
       "   ('probabilistic', 0.0074673556),\n",
       "   ('covariance', 0.006706545)]),\n",
       " (3,\n",
       "  [('memory', 0.016459856),\n",
       "   ('dynamic', 0.014338039),\n",
       "   ('parallel', 0.00872262),\n",
       "   ('distribute', 0.007974206),\n",
       "   ('bit', 0.006895895),\n",
       "   ('circuit', 0.0068390686),\n",
       "   ('architecture', 0.0066020535),\n",
       "   ('neuron', 0.006527294),\n",
       "   ('simulation', 0.0064784614),\n",
       "   ('communication', 0.0059089763)]),\n",
       " (4,\n",
       "  [('source', 0.029631771),\n",
       "   ('speech', 0.025744608),\n",
       "   ('frequency', 0.017303549),\n",
       "   ('filter', 0.015608045),\n",
       "   ('channel', 0.010425495),\n",
       "   ('speaker', 0.010293587),\n",
       "   ('event', 0.009148221),\n",
       "   ('hmm', 0.009126232),\n",
       "   ('segment', 0.008969885),\n",
       "   ('temporal', 0.008751678)]),\n",
       " (5,\n",
       "  [('item', 0.01647491),\n",
       "   ('user', 0.015042503),\n",
       "   ('language', 0.011749519),\n",
       "   ('document', 0.010756748),\n",
       "   ('human', 0.00934535),\n",
       "   ('score', 0.008396993),\n",
       "   ('sentence', 0.007248083),\n",
       "   ('topic', 0.007171988),\n",
       "   ('group', 0.006940866),\n",
       "   ('category', 0.006802052)]),\n",
       " (6,\n",
       "  [('classifier', 0.029390413),\n",
       "   ('query', 0.0191262),\n",
       "   ('decision', 0.014849572),\n",
       "   ('hypothesis', 0.014107843),\n",
       "   ('target', 0.014018132),\n",
       "   ('margin', 0.013372424),\n",
       "   ('active', 0.011873967),\n",
       "   ('threshold', 0.008599017),\n",
       "   ('boost', 0.008009969),\n",
       "   ('risk', 0.0075945724)]),\n",
       " (7,\n",
       "  [('policy', 0.0333486),\n",
       "   ('action', 0.032303996),\n",
       "   ('regret', 0.022514278),\n",
       "   ('reward', 0.019698417),\n",
       "   ('agent', 0.016915005),\n",
       "   ('arm', 0.011664623),\n",
       "   ('game', 0.0114414655),\n",
       "   ('reinforcement', 0.010325323),\n",
       "   ('strategy', 0.01010651),\n",
       "   ('decision', 0.009834743)]),\n",
       " (8,\n",
       "  [('kernel', 0.041527037),\n",
       "   ('rank', 0.03044215),\n",
       "   ('metric', 0.013593773),\n",
       "   ('tensor', 0.013324805),\n",
       "   ('subspace', 0.010623082),\n",
       "   ('embed', 0.009160269),\n",
       "   ('projection', 0.008693523),\n",
       "   ('column', 0.008321779),\n",
       "   ('spectral', 0.008282309),\n",
       "   ('manifold', 0.00759862)]),\n",
       " (9,\n",
       "  [('layer', 0.06346784),\n",
       "   ('deep', 0.027842002),\n",
       "   ('code', 0.017609207),\n",
       "   ('architecture', 0.017212676),\n",
       "   ('hide', 0.015223297),\n",
       "   ('convolutional', 0.013558446),\n",
       "   ('net', 0.0116079375),\n",
       "   ('hidden', 0.010849133),\n",
       "   ('filter', 0.009389121),\n",
       "   ('recurrent', 0.008457056)]),\n",
       " (10,\n",
       "  [('neuron', 0.027946873),\n",
       "   ('cell', 0.020071285),\n",
       "   ('spike', 0.019299356),\n",
       "   ('response', 0.018463964),\n",
       "   ('stimulus', 0.015615843),\n",
       "   ('activity', 0.014888382),\n",
       "   ('fig', 0.007989404),\n",
       "   ('population', 0.007757193),\n",
       "   ('brain', 0.0075168684),\n",
       "   ('visual', 0.007493914)]),\n",
       " (11,\n",
       "  [('graph', 0.039226092),\n",
       "   ('cluster', 0.03884025),\n",
       "   ('node', 0.028333712),\n",
       "   ('tree', 0.025439585),\n",
       "   ('edge', 0.019199656),\n",
       "   ('partition', 0.013689994),\n",
       "   ('vertex', 0.009949768),\n",
       "   ('submodular', 0.0071816184),\n",
       "   ('graphical', 0.0063520777),\n",
       "   ('path', 0.005802784)])]"
      ]
     },
     "execution_count": 40,
     "metadata": {},
     "output_type": "execute_result"
    }
   ],
   "source": [
    "# https://radimrehurek.com/gensim/models/ldamodel.html\n",
    "# lda_baselined_model.print_topics(num_topics=11, num_words=15) # [:3]\n",
    "\n",
    "# Set to above the optimal number of topics so that show_topics() will display all the topics\n",
    "disp_topics = 15\n",
    "# Set the number of words for exploration\n",
    "disp_words = 10\n",
    "\n",
    "# Get a representation for selected topics\n",
    "# The returned topics subset of all topics is arbitrary unlike LSA and may change between\n",
    "# two LDA training runs unless we show all or more than the available topics\n",
    "# Show topicid from 0 - 5 with [:5]\n",
    "topics_words_prob = lda_baselined_model.show_topics(num_topics=disp_topics,\n",
    "                                                    num_words=disp_words, formatted=False)\n",
    "topics_words_prob\n",
    "\n",
    "# Obtain the words in a topic\n",
    "# topic_idx = 2     # bounded by num_topics\n",
    "# word_list_idx = 1 # Always at the second element is the tuple(word, probability)\n",
    "# word_idx = 5      # bounded by num_words \n",
    "# word_or_prob = 0  # 0: word, 1 : probability\n",
    "# topics_words_prob[topic_idx][word_list_idx][word_idx][word_or_prob] gives 'bayesian'\n",
    "\n",
    "# len(topics_words_prob[topic_idx][1]) defined by 'num_words' in 'show_topics'\n",
    "# topics_words_prob[topic_idx][1]"
   ]
  },
  {
   "cell_type": "code",
   "execution_count": 41,
   "metadata": {
    "execution": {
     "iopub.execute_input": "2022-04-01T15:56:41.044228Z",
     "iopub.status.busy": "2022-04-01T15:56:41.043301Z",
     "iopub.status.idle": "2022-04-01T15:56:41.054469Z",
     "shell.execute_reply": "2022-04-01T15:56:41.053539Z",
     "shell.execute_reply.started": "2022-04-01T15:56:41.044179Z"
    }
   },
   "outputs": [
    {
     "name": "stderr",
     "output_type": "stream",
     "text": [
      "C:\\NTU Tutorials\\Year 1\\Sem 2\\Data Science and AI\\DSAI\\Anaconda\\lib\\site-packages\\ipykernel\\ipkernel.py:287: DeprecationWarning: `should_run_async` will not call `transform_cell` automatically in the future. Please pass the result to `transformed_cell` argument and any exception that happen during thetransform in `preprocessing_exc_tuple` in IPython 7.17 and above.\n",
      "  and should_run_async(code)\n"
     ]
    },
    {
     "data": {
      "text/plain": [
       "[(2,\n",
       "  '0.021*\"posterior\" + 0.020*\"latent\" + 0.015*\"mixture\" + 0.014*\"variational\" + 0.013*\"density\" + 0.013*\"bayesian\" + 0.010*\"conditional\" + 0.010*\"topic\" + 0.007*\"probabilistic\" + 0.007*\"covariance\"'),\n",
       " (6,\n",
       "  '0.029*\"classifier\" + 0.019*\"query\" + 0.015*\"decision\" + 0.014*\"hypothesis\" + 0.014*\"target\" + 0.013*\"margin\" + 0.012*\"active\" + 0.009*\"threshold\" + 0.008*\"boost\" + 0.008*\"risk\"'),\n",
       " (3,\n",
       "  '0.016*\"memory\" + 0.014*\"dynamic\" + 0.009*\"parallel\" + 0.008*\"distribute\" + 0.007*\"bit\" + 0.007*\"circuit\" + 0.007*\"architecture\" + 0.007*\"neuron\" + 0.006*\"simulation\" + 0.006*\"communication\"'),\n",
       " (1,\n",
       "  '0.013*\"estimator\" + 0.012*\"sparse\" + 0.012*\"gradient\" + 0.011*\"norm\" + 0.008*\"regression\" + 0.006*\"regularization\" + 0.006*\"sparsity\" + 0.005*\"smooth\" + 0.005*\"minimization\" + 0.005*\"risk\"'),\n",
       " (8,\n",
       "  '0.042*\"kernel\" + 0.030*\"rank\" + 0.014*\"metric\" + 0.013*\"tensor\" + 0.011*\"subspace\" + 0.009*\"embed\" + 0.009*\"projection\" + 0.008*\"column\" + 0.008*\"spectral\" + 0.008*\"manifold\"'),\n",
       " (5,\n",
       "  '0.016*\"item\" + 0.015*\"user\" + 0.012*\"language\" + 0.011*\"document\" + 0.009*\"human\" + 0.008*\"score\" + 0.007*\"sentence\" + 0.007*\"topic\" + 0.007*\"group\" + 0.007*\"category\"'),\n",
       " (11,\n",
       "  '0.039*\"graph\" + 0.039*\"cluster\" + 0.028*\"node\" + 0.025*\"tree\" + 0.019*\"edge\" + 0.014*\"partition\" + 0.010*\"vertex\" + 0.007*\"submodular\" + 0.006*\"graphical\" + 0.006*\"path\"'),\n",
       " (10,\n",
       "  '0.028*\"neuron\" + 0.020*\"cell\" + 0.019*\"spike\" + 0.018*\"response\" + 0.016*\"stimulus\" + 0.015*\"activity\" + 0.008*\"fig\" + 0.008*\"population\" + 0.008*\"brain\" + 0.007*\"visual\"'),\n",
       " (7,\n",
       "  '0.033*\"policy\" + 0.032*\"action\" + 0.023*\"regret\" + 0.020*\"reward\" + 0.017*\"agent\" + 0.012*\"arm\" + 0.011*\"game\" + 0.010*\"reinforcement\" + 0.010*\"strategy\" + 0.010*\"decision\"'),\n",
       " (4,\n",
       "  '0.030*\"source\" + 0.026*\"speech\" + 0.017*\"frequency\" + 0.016*\"filter\" + 0.010*\"channel\" + 0.010*\"speaker\" + 0.009*\"event\" + 0.009*\"hmm\" + 0.009*\"segment\" + 0.009*\"temporal\"')]"
      ]
     },
     "execution_count": 41,
     "metadata": {},
     "output_type": "execute_result"
    }
   ],
   "source": [
    "# Get a representation for randomly selected topics by default num_topics=10, which is different for every run\n",
    "lda_baselined_model.show_topics()"
   ]
  },
  {
   "cell_type": "code",
   "execution_count": 42,
   "metadata": {
    "execution": {
     "iopub.execute_input": "2022-04-01T15:56:41.057194Z",
     "iopub.status.busy": "2022-04-01T15:56:41.056574Z",
     "iopub.status.idle": "2022-04-01T15:56:41.084526Z",
     "shell.execute_reply": "2022-04-01T15:56:41.083729Z",
     "shell.execute_reply.started": "2022-04-01T15:56:41.057150Z"
    }
   },
   "outputs": [
    {
     "name": "stdout",
     "output_type": "stream",
     "text": [
      "No. of retrieved topics : 12 with 10 words in each topic\n"
     ]
    },
    {
     "name": "stderr",
     "output_type": "stream",
     "text": [
      "C:\\NTU Tutorials\\Year 1\\Sem 2\\Data Science and AI\\DSAI\\Anaconda\\lib\\site-packages\\ipykernel\\ipkernel.py:287: DeprecationWarning: `should_run_async` will not call `transform_cell` automatically in the future. Please pass the result to `transformed_cell` argument and any exception that happen during thetransform in `preprocessing_exc_tuple` in IPython 7.17 and above.\n",
      "  and should_run_async(code)\n"
     ]
    },
    {
     "data": {
      "text/html": [
       "<div>\n",
       "<style scoped>\n",
       "    .dataframe tbody tr th:only-of-type {\n",
       "        vertical-align: middle;\n",
       "    }\n",
       "\n",
       "    .dataframe tbody tr th {\n",
       "        vertical-align: top;\n",
       "    }\n",
       "\n",
       "    .dataframe thead th {\n",
       "        text-align: right;\n",
       "    }\n",
       "</style>\n",
       "<table border=\"1\" class=\"dataframe\">\n",
       "  <thead>\n",
       "    <tr style=\"text-align: right;\">\n",
       "      <th></th>\n",
       "      <th>Topic_0</th>\n",
       "      <th>Topic_1</th>\n",
       "      <th>Topic_2</th>\n",
       "      <th>Topic_3</th>\n",
       "      <th>Topic_4</th>\n",
       "      <th>Topic_5</th>\n",
       "      <th>Topic_6</th>\n",
       "      <th>Topic_7</th>\n",
       "      <th>Topic_8</th>\n",
       "      <th>Topic_9</th>\n",
       "      <th>Topic_10</th>\n",
       "      <th>Topic_11</th>\n",
       "    </tr>\n",
       "  </thead>\n",
       "  <tbody>\n",
       "    <tr>\n",
       "      <th>0</th>\n",
       "      <td>object</td>\n",
       "      <td>estimator</td>\n",
       "      <td>posterior</td>\n",
       "      <td>memory</td>\n",
       "      <td>source</td>\n",
       "      <td>item</td>\n",
       "      <td>classifier</td>\n",
       "      <td>policy</td>\n",
       "      <td>kernel</td>\n",
       "      <td>layer</td>\n",
       "      <td>neuron</td>\n",
       "      <td>graph</td>\n",
       "    </tr>\n",
       "    <tr>\n",
       "      <th>1</th>\n",
       "      <td>visual</td>\n",
       "      <td>sparse</td>\n",
       "      <td>latent</td>\n",
       "      <td>dynamic</td>\n",
       "      <td>speech</td>\n",
       "      <td>user</td>\n",
       "      <td>query</td>\n",
       "      <td>action</td>\n",
       "      <td>rank</td>\n",
       "      <td>deep</td>\n",
       "      <td>cell</td>\n",
       "      <td>cluster</td>\n",
       "    </tr>\n",
       "    <tr>\n",
       "      <th>2</th>\n",
       "      <td>detection</td>\n",
       "      <td>gradient</td>\n",
       "      <td>mixture</td>\n",
       "      <td>parallel</td>\n",
       "      <td>frequency</td>\n",
       "      <td>language</td>\n",
       "      <td>decision</td>\n",
       "      <td>regret</td>\n",
       "      <td>metric</td>\n",
       "      <td>code</td>\n",
       "      <td>spike</td>\n",
       "      <td>node</td>\n",
       "    </tr>\n",
       "    <tr>\n",
       "      <th>3</th>\n",
       "      <td>segmentation</td>\n",
       "      <td>norm</td>\n",
       "      <td>variational</td>\n",
       "      <td>distribute</td>\n",
       "      <td>filter</td>\n",
       "      <td>document</td>\n",
       "      <td>hypothesis</td>\n",
       "      <td>reward</td>\n",
       "      <td>tensor</td>\n",
       "      <td>architecture</td>\n",
       "      <td>response</td>\n",
       "      <td>tree</td>\n",
       "    </tr>\n",
       "    <tr>\n",
       "      <th>4</th>\n",
       "      <td>scene</td>\n",
       "      <td>regression</td>\n",
       "      <td>density</td>\n",
       "      <td>bit</td>\n",
       "      <td>channel</td>\n",
       "      <td>human</td>\n",
       "      <td>target</td>\n",
       "      <td>agent</td>\n",
       "      <td>subspace</td>\n",
       "      <td>hide</td>\n",
       "      <td>stimulus</td>\n",
       "      <td>edge</td>\n",
       "    </tr>\n",
       "    <tr>\n",
       "      <th>5</th>\n",
       "      <td>motion</td>\n",
       "      <td>regularization</td>\n",
       "      <td>bayesian</td>\n",
       "      <td>circuit</td>\n",
       "      <td>speaker</td>\n",
       "      <td>score</td>\n",
       "      <td>margin</td>\n",
       "      <td>arm</td>\n",
       "      <td>embed</td>\n",
       "      <td>convolutional</td>\n",
       "      <td>activity</td>\n",
       "      <td>partition</td>\n",
       "    </tr>\n",
       "    <tr>\n",
       "      <th>6</th>\n",
       "      <td>pixel</td>\n",
       "      <td>sparsity</td>\n",
       "      <td>conditional</td>\n",
       "      <td>architecture</td>\n",
       "      <td>event</td>\n",
       "      <td>sentence</td>\n",
       "      <td>active</td>\n",
       "      <td>game</td>\n",
       "      <td>projection</td>\n",
       "      <td>net</td>\n",
       "      <td>fig</td>\n",
       "      <td>vertex</td>\n",
       "    </tr>\n",
       "    <tr>\n",
       "      <th>7</th>\n",
       "      <td>shape</td>\n",
       "      <td>smooth</td>\n",
       "      <td>topic</td>\n",
       "      <td>neuron</td>\n",
       "      <td>hmm</td>\n",
       "      <td>topic</td>\n",
       "      <td>threshold</td>\n",
       "      <td>reinforcement</td>\n",
       "      <td>column</td>\n",
       "      <td>hidden</td>\n",
       "      <td>population</td>\n",
       "      <td>submodular</td>\n",
       "    </tr>\n",
       "    <tr>\n",
       "      <th>8</th>\n",
       "      <td>human</td>\n",
       "      <td>minimization</td>\n",
       "      <td>probabilistic</td>\n",
       "      <td>simulation</td>\n",
       "      <td>segment</td>\n",
       "      <td>group</td>\n",
       "      <td>boost</td>\n",
       "      <td>strategy</td>\n",
       "      <td>spectral</td>\n",
       "      <td>filter</td>\n",
       "      <td>brain</td>\n",
       "      <td>graphical</td>\n",
       "    </tr>\n",
       "    <tr>\n",
       "      <th>9</th>\n",
       "      <td>video</td>\n",
       "      <td>risk</td>\n",
       "      <td>covariance</td>\n",
       "      <td>communication</td>\n",
       "      <td>temporal</td>\n",
       "      <td>category</td>\n",
       "      <td>risk</td>\n",
       "      <td>decision</td>\n",
       "      <td>manifold</td>\n",
       "      <td>recurrent</td>\n",
       "      <td>visual</td>\n",
       "      <td>path</td>\n",
       "    </tr>\n",
       "  </tbody>\n",
       "</table>\n",
       "</div>"
      ],
      "text/plain": [
       "        Topic_0         Topic_1        Topic_2        Topic_3    Topic_4  \\\n",
       "0        object       estimator      posterior         memory     source   \n",
       "1        visual          sparse         latent        dynamic     speech   \n",
       "2     detection        gradient        mixture       parallel  frequency   \n",
       "3  segmentation            norm    variational     distribute     filter   \n",
       "4         scene      regression        density            bit    channel   \n",
       "5        motion  regularization       bayesian        circuit    speaker   \n",
       "6         pixel        sparsity    conditional   architecture      event   \n",
       "7         shape          smooth          topic         neuron        hmm   \n",
       "8         human    minimization  probabilistic     simulation    segment   \n",
       "9         video            risk     covariance  communication   temporal   \n",
       "\n",
       "    Topic_5     Topic_6        Topic_7     Topic_8        Topic_9    Topic_10  \\\n",
       "0      item  classifier         policy      kernel          layer      neuron   \n",
       "1      user       query         action        rank           deep        cell   \n",
       "2  language    decision         regret      metric           code       spike   \n",
       "3  document  hypothesis         reward      tensor   architecture    response   \n",
       "4     human      target          agent    subspace           hide    stimulus   \n",
       "5     score      margin            arm       embed  convolutional    activity   \n",
       "6  sentence      active           game  projection            net         fig   \n",
       "7     topic   threshold  reinforcement      column         hidden  population   \n",
       "8     group       boost       strategy    spectral         filter       brain   \n",
       "9  category        risk       decision    manifold      recurrent      visual   \n",
       "\n",
       "     Topic_11  \n",
       "0       graph  \n",
       "1     cluster  \n",
       "2        node  \n",
       "3        tree  \n",
       "4        edge  \n",
       "5   partition  \n",
       "6      vertex  \n",
       "7  submodular  \n",
       "8   graphical  \n",
       "9        path  "
      ]
     },
     "execution_count": 42,
     "metadata": {},
     "output_type": "execute_result"
    }
   ],
   "source": [
    "# Extract sentence and include under topic\n",
    "import numpy as np\n",
    "import pandas as pd\n",
    "\n",
    "words_df = pd.DataFrame()\n",
    "\n",
    "# No. of words to be stored is defined by 'num_words' in 'show_topics'\n",
    "actual_num_topics = len(topics_words_prob)\n",
    "print(\"No. of retrieved topics : {} with {} words in each topic\".format(actual_num_topics, disp_words))\n",
    "\n",
    "list_words = []\n",
    "\n",
    "# Retrieve top words from each topic for storing in data frame\n",
    "for topic_ctr in range(actual_num_topics):\n",
    "    for i in range(disp_words):\n",
    "        # print(\"Extracted word :\", topics_words_prob[topic_idx][1][i][0])\n",
    "        list_words.append(topics_words_prob[topic_ctr][1][i][0])\n",
    "    \n",
    "    # Topicid (0-11) instead of the Topic number\n",
    "    words_df['Topic_' + str(topic_ctr)] = list_words\n",
    "    list_words = []\n",
    "\n",
    "words_df"
   ]
  },
  {
   "cell_type": "code",
   "execution_count": 43,
   "metadata": {
    "execution": {
     "iopub.execute_input": "2022-04-01T15:56:41.086415Z",
     "iopub.status.busy": "2022-04-01T15:56:41.086070Z",
     "iopub.status.idle": "2022-04-01T15:56:41.099690Z",
     "shell.execute_reply": "2022-04-01T15:56:41.098771Z",
     "shell.execute_reply.started": "2022-04-01T15:56:41.086383Z"
    }
   },
   "outputs": [
    {
     "name": "stderr",
     "output_type": "stream",
     "text": [
      "C:\\NTU Tutorials\\Year 1\\Sem 2\\Data Science and AI\\DSAI\\Anaconda\\lib\\site-packages\\ipykernel\\ipkernel.py:287: DeprecationWarning: `should_run_async` will not call `transform_cell` automatically in the future. Please pass the result to `transformed_cell` argument and any exception that happen during thetransform in `preprocessing_exc_tuple` in IPython 7.17 and above.\n",
      "  and should_run_async(code)\n"
     ]
    }
   ],
   "source": [
    "def save_csv_file(dataframe, filename):\n",
    "    # Save words dataframe in CSV file with provided filename\n",
    "    dataframe.to_csv(filename, index=False)"
   ]
  },
  {
   "cell_type": "code",
   "execution_count": 44,
   "metadata": {
    "execution": {
     "iopub.execute_input": "2022-04-01T15:56:41.102140Z",
     "iopub.status.busy": "2022-04-01T15:56:41.101492Z",
     "iopub.status.idle": "2022-04-01T15:56:41.116387Z",
     "shell.execute_reply": "2022-04-01T15:56:41.115534Z",
     "shell.execute_reply.started": "2022-04-01T15:56:41.102091Z"
    }
   },
   "outputs": [
    {
     "name": "stderr",
     "output_type": "stream",
     "text": [
      "C:\\NTU Tutorials\\Year 1\\Sem 2\\Data Science and AI\\DSAI\\Anaconda\\lib\\site-packages\\ipykernel\\ipkernel.py:287: DeprecationWarning: `should_run_async` will not call `transform_cell` automatically in the future. Please pass the result to `transformed_cell` argument and any exception that happen during thetransform in `preprocessing_exc_tuple` in IPython 7.17 and above.\n",
      "  and should_run_async(code)\n"
     ]
    }
   ],
   "source": [
    "# Save words dataframe in CSV file for future consumption and analysis\n",
    "save_csv_file(words_df, 'topics_words_data.csv')"
   ]
  },
  {
   "cell_type": "code",
   "execution_count": 46,
   "metadata": {
    "execution": {
     "iopub.execute_input": "2022-04-01T15:56:41.119652Z",
     "iopub.status.busy": "2022-04-01T15:56:41.119023Z",
     "iopub.status.idle": "2022-04-01T15:56:43.170189Z",
     "shell.execute_reply": "2022-04-01T15:56:43.169171Z",
     "shell.execute_reply.started": "2022-04-01T15:56:41.119572Z"
    }
   },
   "outputs": [
    {
     "name": "stderr",
     "output_type": "stream",
     "text": [
      "C:\\NTU Tutorials\\Year 1\\Sem 2\\Data Science and AI\\DSAI\\Anaconda\\lib\\site-packages\\ipykernel\\ipkernel.py:287: DeprecationWarning: `should_run_async` will not call `transform_cell` automatically in the future. Please pass the result to `transformed_cell` argument and any exception that happen during thetransform in `preprocessing_exc_tuple` in IPython 7.17 and above.\n",
      "  and should_run_async(code)\n"
     ]
    }
   ],
   "source": [
    "# Used for topic inference from unseen document/sentence/words without re-creating from all the provided documents\n",
    "# Load the stored dictionary\n",
    "with open('C:/Users/roydo/Desktop/Goldman Sachs/Data downloaded/train_id2word.pkl', 'rb') as input_fname:\n",
    "    train_id2word = pickle.load(input_fname)\n",
    "# Load the stored Term Document Frequency, Corpus\n",
    "with open('C:/Users/roydo/Desktop/Goldman Sachs/Data downloaded/train_corpus.pkl', 'rb') as input_fname:\n",
    "    train_corpus = pickle.load(input_fname)"
   ]
  },
  {
   "cell_type": "markdown",
   "metadata": {},
   "source": [
    "## 2.1 Topic inference on sampled texts\n",
    "> Used second sample of words for inference ('human', 'system', 'computer', 'posterior', 'latent', 'variational', 'bayesian')"
   ]
  },
  {
   "cell_type": "code",
   "execution_count": 47,
   "metadata": {
    "execution": {
     "iopub.execute_input": "2022-04-01T15:56:43.172179Z",
     "iopub.status.busy": "2022-04-01T15:56:43.171812Z",
     "iopub.status.idle": "2022-04-01T15:56:43.184265Z",
     "shell.execute_reply": "2022-04-01T15:56:43.183191Z",
     "shell.execute_reply.started": "2022-04-01T15:56:43.172140Z"
    }
   },
   "outputs": [
    {
     "name": "stderr",
     "output_type": "stream",
     "text": [
      "C:\\NTU Tutorials\\Year 1\\Sem 2\\Data Science and AI\\DSAI\\Anaconda\\lib\\site-packages\\ipykernel\\ipkernel.py:287: DeprecationWarning: `should_run_async` will not call `transform_cell` automatically in the future. Please pass the result to `transformed_cell` argument and any exception that happen during thetransform in `preprocessing_exc_tuple` in IPython 7.17 and above.\n",
      "  and should_run_async(code)\n"
     ]
    },
    {
     "data": {
      "text/plain": [
       "([(0, 0.0119062895),\n",
       "  (1, 0.011905744),\n",
       "  (2, 0.5932721),\n",
       "  (3, 0.011906448),\n",
       "  (4, 0.01190607),\n",
       "  (5, 0.2876686),\n",
       "  (6, 0.011905911),\n",
       "  (7, 0.011905885),\n",
       "  (8, 0.011905785),\n",
       "  (9, 0.011905685),\n",
       "  (10, 0.01190578),\n",
       "  (11, 0.011905717)],\n",
       " [(165, [5]),\n",
       "  (820, [2, 5]),\n",
       "  (922, [2]),\n",
       "  (1176, [5, 2]),\n",
       "  (2111, [2, 5]),\n",
       "  (2173, [2])],\n",
       " [(165, [(5, 0.99173206)]),\n",
       "  (820, [(2, 0.9799965), (5, 0.019987447)]),\n",
       "  (922, [(2, 0.99591935)]),\n",
       "  (1176, [(2, 0.09663243), (5, 0.90293187)]),\n",
       "  (2111, [(2, 0.98825526), (5, 0.011734335)]),\n",
       "  (2173, [(2, 0.9999848)])])"
      ]
     },
     "execution_count": 47,
     "metadata": {},
     "output_type": "execute_result"
    }
   ],
   "source": [
    "# Query, the model using new, unseen documents\n",
    "# Create a new corpus, made of previously unseen documents\n",
    "test_texts = [\n",
    "    ['survey', 'response', 'eps', 'gradient', 'estimator', 'sparse', 'selection'],     # topicid = 1\n",
    "    ['human', 'system', 'computer', 'posterior', 'latent', 'variational', 'bayesian'], # topicid = 2\n",
    "    # ['human', 'system', 'computer', 'posterior', 'latent', 'variational',\n",
    "    #  'method', 'visualize', 'interpret', 'topic', 'tlabsresearch',\n",
    "    # 'thfloor', 'basic', 'question', 'ﬁtte', 'topic'],                                # topicid = 2\n",
    "    ['computer', 'time', 'graph', 'object', 'visual', 'segmentation', 'detection']]    # topicid = 0\n",
    "\n",
    "test_corpus = [train_id2word.doc2bow(text) for text in test_texts]\n",
    "\n",
    "test_sample_doc = test_corpus[1]\n",
    "\n",
    "# # get topic probability distribution for a document\n",
    "vector = lda_baselined_model[test_sample_doc]\n",
    "\n",
    "# Observe high probability of test_texts[1] with topicid=2 given below in vector (2, 0.5932721)\n",
    "vector"
   ]
  },
  {
   "cell_type": "code",
   "execution_count": 48,
   "metadata": {
    "execution": {
     "iopub.execute_input": "2022-04-01T15:56:43.186672Z",
     "iopub.status.busy": "2022-04-01T15:56:43.185944Z",
     "iopub.status.idle": "2022-04-01T15:56:43.198370Z",
     "shell.execute_reply": "2022-04-01T15:56:43.197495Z",
     "shell.execute_reply.started": "2022-04-01T15:56:43.186507Z"
    }
   },
   "outputs": [
    {
     "name": "stderr",
     "output_type": "stream",
     "text": [
      "C:\\NTU Tutorials\\Year 1\\Sem 2\\Data Science and AI\\DSAI\\Anaconda\\lib\\site-packages\\ipykernel\\ipkernel.py:287: DeprecationWarning: `should_run_async` will not call `transform_cell` automatically in the future. Please pass the result to `transformed_cell` argument and any exception that happen during thetransform in `preprocessing_exc_tuple` in IPython 7.17 and above.\n",
      "  and should_run_async(code)\n"
     ]
    },
    {
     "data": {
      "text/plain": [
       "[(165, 1), (820, 1), (922, 1), (1176, 1), (2111, 1), (2173, 1)]"
      ]
     },
     "execution_count": 48,
     "metadata": {},
     "output_type": "execute_result"
    }
   ],
   "source": [
    "# len(test_corpus) gives 3 which are in the test_texts list\n",
    "test_sample_doc"
   ]
  },
  {
   "cell_type": "code",
   "execution_count": 49,
   "metadata": {
    "execution": {
     "iopub.execute_input": "2022-04-01T15:56:43.200427Z",
     "iopub.status.busy": "2022-04-01T15:56:43.199708Z",
     "iopub.status.idle": "2022-04-01T15:56:43.213678Z",
     "shell.execute_reply": "2022-04-01T15:56:43.212967Z",
     "shell.execute_reply.started": "2022-04-01T15:56:43.200373Z"
    }
   },
   "outputs": [
    {
     "name": "stderr",
     "output_type": "stream",
     "text": [
      "C:\\NTU Tutorials\\Year 1\\Sem 2\\Data Science and AI\\DSAI\\Anaconda\\lib\\site-packages\\ipykernel\\ipkernel.py:287: DeprecationWarning: `should_run_async` will not call `transform_cell` automatically in the future. Please pass the result to `transformed_cell` argument and any exception that happen during thetransform in `preprocessing_exc_tuple` in IPython 7.17 and above.\n",
      "  and should_run_async(code)\n"
     ]
    },
    {
     "data": {
      "text/plain": [
       "[(0, 0.011906289),\n",
       " (1, 0.011905744),\n",
       " (2, 0.59324986),\n",
       " (3, 0.011906448),\n",
       " (4, 0.01190607),\n",
       " (5, 0.2876908),\n",
       " (6, 0.011905911),\n",
       " (7, 0.011905885),\n",
       " (8, 0.011905784),\n",
       " (9, 0.011905685),\n",
       " (10, 0.01190578),\n",
       " (11, 0.011905717)]"
      ]
     },
     "execution_count": 49,
     "metadata": {},
     "output_type": "execute_result"
    }
   ],
   "source": [
    "# Get the topic distribution for the given unseen document, LDA inference with probabilities\n",
    "# Observe high probability with topicid = 2\n",
    "top_topics = lda_baselined_model.get_document_topics(test_sample_doc, minimum_probability=0.0)\n",
    "top_topics"
   ]
  },
  {
   "cell_type": "code",
   "execution_count": 50,
   "metadata": {
    "execution": {
     "iopub.execute_input": "2022-04-01T15:56:43.215382Z",
     "iopub.status.busy": "2022-04-01T15:56:43.214742Z",
     "iopub.status.idle": "2022-04-01T15:56:43.238210Z",
     "shell.execute_reply": "2022-04-01T15:56:43.237089Z",
     "shell.execute_reply.started": "2022-04-01T15:56:43.215351Z"
    }
   },
   "outputs": [
    {
     "name": "stdout",
     "output_type": "stream",
     "text": [
      "No. of retrieved topics : 12\n",
      "List of topics :\n",
      " [0, 1, 2, 3, 4, 5, 6, 7, 8, 9, 10, 11]\n",
      "List of probabilities :\n",
      " [0.011906289, 0.011905744, 0.59324986, 0.011906448, 0.01190607, 0.2876908, 0.011905911, 0.011905885, 0.011905784, 0.011905685, 0.01190578, 0.011905717]\n"
     ]
    },
    {
     "name": "stderr",
     "output_type": "stream",
     "text": [
      "C:\\NTU Tutorials\\Year 1\\Sem 2\\Data Science and AI\\DSAI\\Anaconda\\lib\\site-packages\\ipykernel\\ipkernel.py:287: DeprecationWarning: `should_run_async` will not call `transform_cell` automatically in the future. Please pass the result to `transformed_cell` argument and any exception that happen during thetransform in `preprocessing_exc_tuple` in IPython 7.17 and above.\n",
      "  and should_run_async(code)\n"
     ]
    },
    {
     "data": {
      "text/html": [
       "<div>\n",
       "<style scoped>\n",
       "    .dataframe tbody tr th:only-of-type {\n",
       "        vertical-align: middle;\n",
       "    }\n",
       "\n",
       "    .dataframe tbody tr th {\n",
       "        vertical-align: top;\n",
       "    }\n",
       "\n",
       "    .dataframe thead th {\n",
       "        text-align: right;\n",
       "    }\n",
       "</style>\n",
       "<table border=\"1\" class=\"dataframe\">\n",
       "  <thead>\n",
       "    <tr style=\"text-align: right;\">\n",
       "      <th></th>\n",
       "      <th>TopicId</th>\n",
       "      <th>Topic_Prob</th>\n",
       "    </tr>\n",
       "  </thead>\n",
       "  <tbody>\n",
       "    <tr>\n",
       "      <th>0</th>\n",
       "      <td>0</td>\n",
       "      <td>0.011906</td>\n",
       "    </tr>\n",
       "    <tr>\n",
       "      <th>1</th>\n",
       "      <td>1</td>\n",
       "      <td>0.011906</td>\n",
       "    </tr>\n",
       "    <tr>\n",
       "      <th>2</th>\n",
       "      <td>2</td>\n",
       "      <td>0.593250</td>\n",
       "    </tr>\n",
       "    <tr>\n",
       "      <th>3</th>\n",
       "      <td>3</td>\n",
       "      <td>0.011906</td>\n",
       "    </tr>\n",
       "    <tr>\n",
       "      <th>4</th>\n",
       "      <td>4</td>\n",
       "      <td>0.011906</td>\n",
       "    </tr>\n",
       "    <tr>\n",
       "      <th>5</th>\n",
       "      <td>5</td>\n",
       "      <td>0.287691</td>\n",
       "    </tr>\n",
       "    <tr>\n",
       "      <th>6</th>\n",
       "      <td>6</td>\n",
       "      <td>0.011906</td>\n",
       "    </tr>\n",
       "    <tr>\n",
       "      <th>7</th>\n",
       "      <td>7</td>\n",
       "      <td>0.011906</td>\n",
       "    </tr>\n",
       "    <tr>\n",
       "      <th>8</th>\n",
       "      <td>8</td>\n",
       "      <td>0.011906</td>\n",
       "    </tr>\n",
       "    <tr>\n",
       "      <th>9</th>\n",
       "      <td>9</td>\n",
       "      <td>0.011906</td>\n",
       "    </tr>\n",
       "    <tr>\n",
       "      <th>10</th>\n",
       "      <td>10</td>\n",
       "      <td>0.011906</td>\n",
       "    </tr>\n",
       "    <tr>\n",
       "      <th>11</th>\n",
       "      <td>11</td>\n",
       "      <td>0.011906</td>\n",
       "    </tr>\n",
       "  </tbody>\n",
       "</table>\n",
       "</div>"
      ],
      "text/plain": [
       "    TopicId  Topic_Prob\n",
       "0         0    0.011906\n",
       "1         1    0.011906\n",
       "2         2    0.593250\n",
       "3         3    0.011906\n",
       "4         4    0.011906\n",
       "5         5    0.287691\n",
       "6         6    0.011906\n",
       "7         7    0.011906\n",
       "8         8    0.011906\n",
       "9         9    0.011906\n",
       "10       10    0.011906\n",
       "11       11    0.011906"
      ]
     },
     "execution_count": 50,
     "metadata": {},
     "output_type": "execute_result"
    }
   ],
   "source": [
    "top_topics_df = pd.DataFrame()\n",
    "\n",
    "# No. of words to be stored is defined by 'num_words' in 'show_topics' method of the baselined LDA model\n",
    "actual_num_topics = len(topics_words_prob)\n",
    "print(\"No. of retrieved topics : {}\".format(actual_num_topics))\n",
    "\n",
    "list_topics = []\n",
    "list_prob = []\n",
    "\n",
    "# Retrieve topics and the respective probabilities and stored in dataframe (eg. Topicid=2, Topic_Prob=0.593322)\n",
    "for idx in range(actual_num_topics):\n",
    "    # print(\"Extracted word :\", topics_words_prob[topic_idx][1][i][0])\n",
    "    list_topics.append(top_topics[idx][0])\n",
    "    list_prob.append(top_topics[idx][1])\n",
    "\n",
    "print(\"List of topics :\\n\",list_topics)\n",
    "print(\"List of probabilities :\\n\",list_prob)\n",
    "\n",
    "top_topics_df['TopicId'] = list_topics\n",
    "top_topics_df['Topic_Prob'] = list_prob\n",
    "\n",
    "top_topics_df"
   ]
  },
  {
   "cell_type": "code",
   "execution_count": 51,
   "metadata": {
    "execution": {
     "iopub.execute_input": "2022-04-01T15:56:43.240515Z",
     "iopub.status.busy": "2022-04-01T15:56:43.239969Z",
     "iopub.status.idle": "2022-04-01T15:56:43.256972Z",
     "shell.execute_reply": "2022-04-01T15:56:43.255725Z",
     "shell.execute_reply.started": "2022-04-01T15:56:43.240470Z"
    }
   },
   "outputs": [
    {
     "name": "stderr",
     "output_type": "stream",
     "text": [
      "C:\\NTU Tutorials\\Year 1\\Sem 2\\Data Science and AI\\DSAI\\Anaconda\\lib\\site-packages\\ipykernel\\ipkernel.py:287: DeprecationWarning: `should_run_async` will not call `transform_cell` automatically in the future. Please pass the result to `transformed_cell` argument and any exception that happen during thetransform in `preprocessing_exc_tuple` in IPython 7.17 and above.\n",
      "  and should_run_async(code)\n"
     ]
    },
    {
     "data": {
      "text/html": [
       "<div>\n",
       "<style scoped>\n",
       "    .dataframe tbody tr th:only-of-type {\n",
       "        vertical-align: middle;\n",
       "    }\n",
       "\n",
       "    .dataframe tbody tr th {\n",
       "        vertical-align: top;\n",
       "    }\n",
       "\n",
       "    .dataframe thead th {\n",
       "        text-align: right;\n",
       "    }\n",
       "</style>\n",
       "<table border=\"1\" class=\"dataframe\">\n",
       "  <thead>\n",
       "    <tr style=\"text-align: right;\">\n",
       "      <th></th>\n",
       "      <th>Topic_Prob</th>\n",
       "    </tr>\n",
       "    <tr>\n",
       "      <th>TopicId</th>\n",
       "      <th></th>\n",
       "    </tr>\n",
       "  </thead>\n",
       "  <tbody>\n",
       "    <tr>\n",
       "      <th>2</th>\n",
       "      <td>0.593250</td>\n",
       "    </tr>\n",
       "    <tr>\n",
       "      <th>5</th>\n",
       "      <td>0.287691</td>\n",
       "    </tr>\n",
       "    <tr>\n",
       "      <th>3</th>\n",
       "      <td>0.011906</td>\n",
       "    </tr>\n",
       "  </tbody>\n",
       "</table>\n",
       "</div>"
      ],
      "text/plain": [
       "         Topic_Prob\n",
       "TopicId            \n",
       "2          0.593250\n",
       "5          0.287691\n",
       "3          0.011906"
      ]
     },
     "execution_count": 51,
     "metadata": {},
     "output_type": "execute_result"
    }
   ],
   "source": [
    "# Sort the (topic, probability) data frame\n",
    "sorted_top_topics_df = top_topics_df.sort_values(by=['Topic_Prob'], ascending=False)\n",
    "\n",
    "# Make column index\n",
    "sorted_top_topics_df.set_index('TopicId', inplace=True)\n",
    "\n",
    "# Obtain top 3 topics for each sample document\n",
    "sorted_top_topics_df[:3]"
   ]
  },
  {
   "cell_type": "code",
   "execution_count": 52,
   "metadata": {
    "execution": {
     "iopub.execute_input": "2022-04-01T15:56:43.258930Z",
     "iopub.status.busy": "2022-04-01T15:56:43.258390Z",
     "iopub.status.idle": "2022-04-01T15:56:43.270238Z",
     "shell.execute_reply": "2022-04-01T15:56:43.269647Z",
     "shell.execute_reply.started": "2022-04-01T15:56:43.258883Z"
    }
   },
   "outputs": [
    {
     "name": "stdout",
     "output_type": "stream",
     "text": [
      "Inferred topicid is 2 with maximum probability : 0.59324986\n",
      "\n",
      "Sample doc contains : ['human', 'system', 'computer', 'posterior', 'latent', 'variational', 'bayesian']\n",
      "\n",
      "Data storage with topicid, Topic_2 , for verification :\n"
     ]
    },
    {
     "name": "stderr",
     "output_type": "stream",
     "text": [
      "C:\\NTU Tutorials\\Year 1\\Sem 2\\Data Science and AI\\DSAI\\Anaconda\\lib\\site-packages\\ipykernel\\ipkernel.py:287: DeprecationWarning: `should_run_async` will not call `transform_cell` automatically in the future. Please pass the result to `transformed_cell` argument and any exception that happen during thetransform in `preprocessing_exc_tuple` in IPython 7.17 and above.\n",
      "  and should_run_async(code)\n"
     ]
    },
    {
     "data": {
      "text/plain": [
       "0        posterior\n",
       "1           latent\n",
       "2          mixture\n",
       "3      variational\n",
       "4          density\n",
       "5         bayesian\n",
       "6      conditional\n",
       "7            topic\n",
       "8    probabilistic\n",
       "9       covariance\n",
       "Name: Topic_2, dtype: object"
      ]
     },
     "execution_count": 52,
     "metadata": {},
     "output_type": "execute_result"
    }
   ],
   "source": [
    "# key-value pair within a list; in this case, topic and prob is at position 0 and 1 respectively\n",
    "topic_idx, max_prob = max(top_topics, key=lambda item: item[1])\n",
    "\n",
    "# topic is not the index, it is the value in the first position of top_topics (2, 0.59324986)\n",
    "print(\"Inferred topicid is\", (topic_idx), \"with maximum probability :\", max_prob)\n",
    "print()\n",
    "print(\"Sample doc contains :\", test_texts[1])\n",
    "print()\n",
    "\n",
    "topic_key = \"Topic_\"+str(topic_idx) # Topicid\n",
    "print(\"Data storage with topicid,\", topic_key, \", for verification :\")\n",
    "words_df[topic_key]"
   ]
  },
  {
   "cell_type": "markdown",
   "metadata": {},
   "source": [
    "## Optional : Improvement LDA model with new corpus"
   ]
  },
  {
   "cell_type": "code",
   "execution_count": 53,
   "metadata": {
    "execution": {
     "iopub.execute_input": "2022-04-01T15:56:43.272000Z",
     "iopub.status.busy": "2022-04-01T15:56:43.271550Z",
     "iopub.status.idle": "2022-04-01T15:56:43.284380Z",
     "shell.execute_reply": "2022-04-01T15:56:43.283131Z",
     "shell.execute_reply.started": "2022-04-01T15:56:43.271967Z"
    }
   },
   "outputs": [
    {
     "name": "stderr",
     "output_type": "stream",
     "text": [
      "C:\\NTU Tutorials\\Year 1\\Sem 2\\Data Science and AI\\DSAI\\Anaconda\\lib\\site-packages\\ipykernel\\ipkernel.py:287: DeprecationWarning: `should_run_async` will not call `transform_cell` automatically in the future. Please pass the result to `transformed_cell` argument and any exception that happen during thetransform in `preprocessing_exc_tuple` in IPython 7.17 and above.\n",
      "  and should_run_async(code)\n"
     ]
    }
   ],
   "source": [
    "# Update the model by incrementally training on the new corpus\n",
    "# lda_baselined_model.update(test_corpus)\n",
    "\n",
    "# vector = lda_baselined_model[test_sample_doc]\n",
    "\n",
    "# Observe higher probability of test_texts[1] with topicid=2 given below in vector (2, 0.63905424)\n",
    "# vector"
   ]
  },
  {
   "cell_type": "markdown",
   "metadata": {},
   "source": [
    "## 2.2 Topic inference on unseen document\n",
    "> Retrieve extracted texts from \"HogRider_Champion Agent of Microsoft Malmo Collaborative AI Challenge.pdf\""
   ]
  },
  {
   "cell_type": "code",
   "execution_count": 54,
   "metadata": {
    "execution": {
     "iopub.execute_input": "2022-04-01T15:56:43.286916Z",
     "iopub.status.busy": "2022-04-01T15:56:43.286165Z",
     "iopub.status.idle": "2022-04-01T15:56:43.305550Z",
     "shell.execute_reply": "2022-04-01T15:56:43.304379Z",
     "shell.execute_reply.started": "2022-04-01T15:56:43.286870Z"
    }
   },
   "outputs": [
    {
     "name": "stderr",
     "output_type": "stream",
     "text": [
      "C:\\NTU Tutorials\\Year 1\\Sem 2\\Data Science and AI\\DSAI\\Anaconda\\lib\\site-packages\\ipykernel\\ipkernel.py:287: DeprecationWarning: `should_run_async` will not call `transform_cell` automatically in the future. Please pass the result to `transformed_cell` argument and any exception that happen during thetransform in `preprocessing_exc_tuple` in IPython 7.17 and above.\n",
      "  and should_run_async(code)\n"
     ]
    },
    {
     "data": {
      "text/plain": [
       "0    hogrider: champion agent of microsoft malmo co...\n",
       "1    ldavis: a method for visualizing and interpret...\n",
       "Name: doc_text_processed, dtype: object"
      ]
     },
     "execution_count": 54,
     "metadata": {},
     "output_type": "execute_result"
    }
   ],
   "source": [
    "# Remove punctuations\n",
    "pdf_text_df['doc_text_processed'] = pdf_text_df['doc_text'].map(lambda x: re.sub('[,\\\\.!?]', '', x)) # replace \\ with \\\\\n",
    "\n",
    "# Convert the titles to lowercase\n",
    "pdf_text_df['doc_text_processed'] = pdf_text_df['doc_text_processed'].map(lambda x: x.lower())\n",
    "\n",
    "# Processed unseen documents\n",
    "pdf_text_df['doc_text_processed']"
   ]
  },
  {
   "cell_type": "code",
   "execution_count": 55,
   "metadata": {
    "execution": {
     "iopub.execute_input": "2022-04-01T15:56:43.307228Z",
     "iopub.status.busy": "2022-04-01T15:56:43.306658Z",
     "iopub.status.idle": "2022-04-01T15:56:43.893384Z",
     "shell.execute_reply": "2022-04-01T15:56:43.892385Z",
     "shell.execute_reply.started": "2022-04-01T15:56:43.307194Z"
    }
   },
   "outputs": [
    {
     "name": "stderr",
     "output_type": "stream",
     "text": [
      "C:\\NTU Tutorials\\Year 1\\Sem 2\\Data Science and AI\\DSAI\\Anaconda\\lib\\site-packages\\ipykernel\\ipkernel.py:287: DeprecationWarning: `should_run_async` will not call `transform_cell` automatically in the future. Please pass the result to `transformed_cell` argument and any exception that happen during thetransform in `preprocessing_exc_tuple` in IPython 7.17 and above.\n",
      "  and should_run_async(code)\n"
     ]
    },
    {
     "name": "stdout",
     "output_type": "stream",
     "text": [
      "Before removing stop words for 1 documents with sample :\n",
      "['ldavis', 'method', 'for', 'visualizing', 'and', 'interpreting', 'topics', 'carsonsievert', 'kennetheshirley', 'at', 'tlabsresearch', 'snedecorhall', 'thomasstreet', 'thfloor', 'amesia', 'usa', 'newyorkny', 'usa', 'cpsievert', 'gmailcom', 'kshirley', 'researchattcom', 'abstract', 'few', 'basic', 'questions', 'about', 'ﬁtted', 'topic', 'model']\n",
      "After removing stop words :\n",
      " ['ldavis', 'method', 'visualizing', 'interpreting', 'topics', 'carsonsievert', 'kennetheshirley', 'tlabsresearch', 'snedecorhall', 'thomasstreet', 'thfloor', 'amesia', 'usa', 'newyorkny', 'usa', 'cpsievert', 'gmailcom', 'kshirley', 'researchattcom', 'abstract', 'basic', 'questions', 'ﬁtted', 'topic', 'model', 'meaning', 'topic', 'basedinterac', 'howdothetopics', 'relate']\n",
      "\n",
      "After making bigrams :\n",
      " ['ldavis', 'method', 'visualizing', 'interpreting', 'topics', 'carsonsievert', 'kennetheshirley', 'tlabsresearch', 'snedecorhall', 'thomasstreet', 'thfloor', 'amesia', 'usa', 'newyorkny', 'usa', 'cpsievert', 'gmailcom', 'kshirley', 'researchattcom', 'abstract', 'basic', 'questions', 'ﬁtted', 'topic', 'model', 'meaning', 'topic', 'basedinterac', 'howdothetopics', 'relate']\n",
      "\n",
      "After lemmatization :\n",
      " ['method', 'visualize', 'interpret', 'topic', 'tlabsresearch', 'thfloor', 'abstract', 'basic', 'question', 'ﬁtte', 'topic', 'model', 'mean', 'topic', 'basedinterac', 'howdothetopic', 'relate', 'different', 'visual', 'component', 'ourvisu', 'istingtool', 'ic', 'differ', 'visualization', 'illustrate', 'figure', 'twobasicpiece', 'inspection', 'term']\n",
      "Wall time: 7.52 s\n"
     ]
    }
   ],
   "source": [
    "%%time\n",
    "# Preparing the test_data, use one unseen document instead of whole column\n",
    "test_pdf_filename = pdf_text_df['pdf_name'][1]\n",
    "test_data = [pdf_text_df['doc_text_processed'][1]]\n",
    "# test_data = pdf_text_df.doc_text_processed.values.tolist()\n",
    "\n",
    "test_data_words = list(sent_to_words(test_data))\n",
    "print(\"Before removing stop words for {} documents with sample :\\n{}\".format(len(test_data_words),\n",
    "                                                                             test_data_words[:1][0][:30]))\n",
    "# Step 1:\n",
    "test_data_words = list(sent_to_words(test_data))\n",
    "\n",
    "# Step 2:\n",
    "# Build the bigram and trigram models based on the test_data_words\n",
    "bigram = gensim.models.Phrases(test_data_words, min_count=5, threshold=100) # higher threshold gives fewer phrases.\n",
    "# Faster way to get a sentence clubbed as a bigram\n",
    "bigram_mod = gensim.models.phrases.Phraser(bigram)\n",
    "\n",
    "# Step 3:\n",
    "test_bigrams, test_lemmatized = get_data(test_data_words)"
   ]
  },
  {
   "cell_type": "code",
   "execution_count": 56,
   "metadata": {
    "execution": {
     "iopub.execute_input": "2022-04-01T15:56:43.894732Z",
     "iopub.status.busy": "2022-04-01T15:56:43.894505Z",
     "iopub.status.idle": "2022-04-01T15:56:43.900416Z",
     "shell.execute_reply": "2022-04-01T15:56:43.899449Z",
     "shell.execute_reply.started": "2022-04-01T15:56:43.894707Z"
    }
   },
   "outputs": [
    {
     "name": "stdout",
     "output_type": "stream",
     "text": [
      "['method', 'visualize', 'interpret', 'topic', 'tlabsresearch', 'thfloor', 'abstract', 'basic', 'question', 'ﬁtte']\n",
      "No. of lemmatized test words : 1651\n"
     ]
    },
    {
     "name": "stderr",
     "output_type": "stream",
     "text": [
      "C:\\NTU Tutorials\\Year 1\\Sem 2\\Data Science and AI\\DSAI\\Anaconda\\lib\\site-packages\\ipykernel\\ipkernel.py:287: DeprecationWarning: `should_run_async` will not call `transform_cell` automatically in the future. Please pass the result to `transformed_cell` argument and any exception that happen during thetransform in `preprocessing_exc_tuple` in IPython 7.17 and above.\n",
      "  and should_run_async(code)\n"
     ]
    }
   ],
   "source": [
    "# test_lemmatized[0][0] gives first word\n",
    "print(test_lemmatized[0][:10])\n",
    "print(\"No. of lemmatized test words :\", len(test_lemmatized[0]))"
   ]
  },
  {
   "cell_type": "code",
   "execution_count": 57,
   "metadata": {
    "execution": {
     "iopub.execute_input": "2022-04-01T15:56:43.901792Z",
     "iopub.status.busy": "2022-04-01T15:56:43.901528Z",
     "iopub.status.idle": "2022-04-01T15:56:43.916818Z",
     "shell.execute_reply": "2022-04-01T15:56:43.915788Z",
     "shell.execute_reply.started": "2022-04-01T15:56:43.901762Z"
    }
   },
   "outputs": [
    {
     "name": "stderr",
     "output_type": "stream",
     "text": [
      "C:\\NTU Tutorials\\Year 1\\Sem 2\\Data Science and AI\\DSAI\\Anaconda\\lib\\site-packages\\ipykernel\\ipkernel.py:287: DeprecationWarning: `should_run_async` will not call `transform_cell` automatically in the future. Please pass the result to `transformed_cell` argument and any exception that happen during thetransform in `preprocessing_exc_tuple` in IPython 7.17 and above.\n",
      "  and should_run_async(code)\n"
     ]
    },
    {
     "data": {
      "text/plain": [
       "(1, 346)"
      ]
     },
     "execution_count": 57,
     "metadata": {},
     "output_type": "execute_result"
    }
   ],
   "source": [
    "test_corpus = [train_id2word.doc2bow(text) for text in test_lemmatized]\n",
    "# There is only one unseen document for LDA inference\n",
    "len(test_corpus), len(test_corpus[0])"
   ]
  },
  {
   "cell_type": "code",
   "execution_count": 58,
   "metadata": {
    "execution": {
     "iopub.execute_input": "2022-04-01T15:56:43.919062Z",
     "iopub.status.busy": "2022-04-01T15:56:43.918822Z",
     "iopub.status.idle": "2022-04-01T15:56:43.933596Z",
     "shell.execute_reply": "2022-04-01T15:56:43.932703Z",
     "shell.execute_reply.started": "2022-04-01T15:56:43.919035Z"
    }
   },
   "outputs": [
    {
     "name": "stderr",
     "output_type": "stream",
     "text": [
      "C:\\NTU Tutorials\\Year 1\\Sem 2\\Data Science and AI\\DSAI\\Anaconda\\lib\\site-packages\\ipykernel\\ipkernel.py:287: DeprecationWarning: `should_run_async` will not call `transform_cell` automatically in the future. Please pass the result to `transformed_cell` argument and any exception that happen during thetransform in `preprocessing_exc_tuple` in IPython 7.17 and above.\n",
      "  and should_run_async(code)\n"
     ]
    },
    {
     "data": {
      "text/plain": [
       "[(0, 0.064372666),\n",
       " (1, 0.000103416205),\n",
       " (2, 0.2005147),\n",
       " (3, 0.00010341174),\n",
       " (4, 0.00010341109),\n",
       " (5, 0.5829497),\n",
       " (6, 0.0001034111),\n",
       " (7, 0.000103411476),\n",
       " (8, 0.105848394),\n",
       " (9, 0.004206793),\n",
       " (10, 0.0076743034),\n",
       " (11, 0.033916324)]"
      ]
     },
     "execution_count": 58,
     "metadata": {},
     "output_type": "execute_result"
    }
   ],
   "source": [
    "# Get the topic distribution for the given unseen document, LDA inference with probabilities\n",
    "test_top_topics = lda_baselined_model.get_document_topics(test_corpus[0], minimum_probability=0.0)\n",
    "test_top_topics"
   ]
  },
  {
   "cell_type": "code",
   "execution_count": 59,
   "metadata": {
    "execution": {
     "iopub.execute_input": "2022-04-01T15:56:43.935371Z",
     "iopub.status.busy": "2022-04-01T15:56:43.935065Z",
     "iopub.status.idle": "2022-04-01T15:56:43.949700Z",
     "shell.execute_reply": "2022-04-01T15:56:43.948694Z",
     "shell.execute_reply.started": "2022-04-01T15:56:43.935326Z"
    }
   },
   "outputs": [
    {
     "name": "stdout",
     "output_type": "stream",
     "text": [
      "Inferred topic is 5 with maximum probability : 0.5829497\n",
      "\n",
      "Sample doc contains : ['method', 'visualize', 'interpret', 'topic', 'tlabsresearch', 'thfloor', 'abstract', 'basic', 'question', 'ﬁtte', 'topic', 'model', 'mean', 'topic', 'basedinterac', 'howdothetopic', 'relate', 'different', 'visual', 'component', 'ourvisu', 'istingtool', 'ic', 'differ', 'visualization', 'illustrate', 'figure', 'twobasicpiece', 'inspection', 'term']\n",
      "\n",
      "Data storage with topicid, Topic_5 for verification :\n"
     ]
    },
    {
     "name": "stderr",
     "output_type": "stream",
     "text": [
      "C:\\NTU Tutorials\\Year 1\\Sem 2\\Data Science and AI\\DSAI\\Anaconda\\lib\\site-packages\\ipykernel\\ipkernel.py:287: DeprecationWarning: `should_run_async` will not call `transform_cell` automatically in the future. Please pass the result to `transformed_cell` argument and any exception that happen during thetransform in `preprocessing_exc_tuple` in IPython 7.17 and above.\n",
      "  and should_run_async(code)\n"
     ]
    },
    {
     "data": {
      "text/plain": [
       "0        item\n",
       "1        user\n",
       "2    language\n",
       "3    document\n",
       "4       human\n",
       "5       score\n",
       "6    sentence\n",
       "7       topic\n",
       "8       group\n",
       "9    category\n",
       "Name: Topic_5, dtype: object"
      ]
     },
     "execution_count": 59,
     "metadata": {},
     "output_type": "execute_result"
    }
   ],
   "source": [
    "# key-value pair within a list; in this case, topic and prob is at position 0 and 1 respectively\n",
    "topic_idx, max_prob= max(test_top_topics, key=lambda item: item[1])\n",
    "\n",
    "# topic is not the index, it is the value in the first position of top_topics (7, 0.31999895)\n",
    "print(\"Inferred topic is\", (topic_idx), \"with maximum probability :\", max_prob)\n",
    "print()\n",
    "print(\"Sample doc contains :\", test_lemmatized[0][:30])\n",
    "print()\n",
    "\n",
    "topic_key = \"Topic_\"+str(topic_idx) # Topicid\n",
    "print(\"Data storage with topicid,\", topic_key, \"for verification :\")\n",
    "words_df[topic_key]"
   ]
  },
  {
   "cell_type": "code",
   "execution_count": 60,
   "metadata": {
    "execution": {
     "iopub.execute_input": "2022-04-01T15:56:43.951891Z",
     "iopub.status.busy": "2022-04-01T15:56:43.951261Z",
     "iopub.status.idle": "2022-04-01T15:56:43.977338Z",
     "shell.execute_reply": "2022-04-01T15:56:43.976444Z",
     "shell.execute_reply.started": "2022-04-01T15:56:43.951846Z"
    }
   },
   "outputs": [
    {
     "name": "stderr",
     "output_type": "stream",
     "text": [
      "C:\\NTU Tutorials\\Year 1\\Sem 2\\Data Science and AI\\DSAI\\Anaconda\\lib\\site-packages\\ipykernel\\ipkernel.py:287: DeprecationWarning: `should_run_async` will not call `transform_cell` automatically in the future. Please pass the result to `transformed_cell` argument and any exception that happen during thetransform in `preprocessing_exc_tuple` in IPython 7.17 and above.\n",
      "  and should_run_async(code)\n"
     ]
    },
    {
     "data": {
      "text/html": [
       "<div>\n",
       "<style scoped>\n",
       "    .dataframe tbody tr th:only-of-type {\n",
       "        vertical-align: middle;\n",
       "    }\n",
       "\n",
       "    .dataframe tbody tr th {\n",
       "        vertical-align: top;\n",
       "    }\n",
       "\n",
       "    .dataframe thead th {\n",
       "        text-align: right;\n",
       "    }\n",
       "</style>\n",
       "<table border=\"1\" class=\"dataframe\">\n",
       "  <thead>\n",
       "    <tr style=\"text-align: right;\">\n",
       "      <th></th>\n",
       "      <th>Topic_0</th>\n",
       "      <th>Topic_1</th>\n",
       "      <th>Topic_2</th>\n",
       "      <th>Topic_3</th>\n",
       "      <th>Topic_4</th>\n",
       "      <th>Topic_5</th>\n",
       "      <th>Topic_6</th>\n",
       "      <th>Topic_7</th>\n",
       "      <th>Topic_8</th>\n",
       "      <th>Topic_9</th>\n",
       "      <th>Topic_10</th>\n",
       "      <th>Topic_11</th>\n",
       "    </tr>\n",
       "  </thead>\n",
       "  <tbody>\n",
       "    <tr>\n",
       "      <th>0</th>\n",
       "      <td>object</td>\n",
       "      <td>estimator</td>\n",
       "      <td>posterior</td>\n",
       "      <td>memory</td>\n",
       "      <td>source</td>\n",
       "      <td>item</td>\n",
       "      <td>classifier</td>\n",
       "      <td>policy</td>\n",
       "      <td>kernel</td>\n",
       "      <td>layer</td>\n",
       "      <td>neuron</td>\n",
       "      <td>graph</td>\n",
       "    </tr>\n",
       "    <tr>\n",
       "      <th>1</th>\n",
       "      <td>visual</td>\n",
       "      <td>sparse</td>\n",
       "      <td>latent</td>\n",
       "      <td>dynamic</td>\n",
       "      <td>speech</td>\n",
       "      <td>user</td>\n",
       "      <td>query</td>\n",
       "      <td>action</td>\n",
       "      <td>rank</td>\n",
       "      <td>deep</td>\n",
       "      <td>cell</td>\n",
       "      <td>cluster</td>\n",
       "    </tr>\n",
       "    <tr>\n",
       "      <th>2</th>\n",
       "      <td>detection</td>\n",
       "      <td>gradient</td>\n",
       "      <td>mixture</td>\n",
       "      <td>parallel</td>\n",
       "      <td>frequency</td>\n",
       "      <td>language</td>\n",
       "      <td>decision</td>\n",
       "      <td>regret</td>\n",
       "      <td>metric</td>\n",
       "      <td>code</td>\n",
       "      <td>spike</td>\n",
       "      <td>node</td>\n",
       "    </tr>\n",
       "    <tr>\n",
       "      <th>3</th>\n",
       "      <td>segmentation</td>\n",
       "      <td>norm</td>\n",
       "      <td>variational</td>\n",
       "      <td>distribute</td>\n",
       "      <td>filter</td>\n",
       "      <td>document</td>\n",
       "      <td>hypothesis</td>\n",
       "      <td>reward</td>\n",
       "      <td>tensor</td>\n",
       "      <td>architecture</td>\n",
       "      <td>response</td>\n",
       "      <td>tree</td>\n",
       "    </tr>\n",
       "    <tr>\n",
       "      <th>4</th>\n",
       "      <td>scene</td>\n",
       "      <td>regression</td>\n",
       "      <td>density</td>\n",
       "      <td>bit</td>\n",
       "      <td>channel</td>\n",
       "      <td>human</td>\n",
       "      <td>target</td>\n",
       "      <td>agent</td>\n",
       "      <td>subspace</td>\n",
       "      <td>hide</td>\n",
       "      <td>stimulus</td>\n",
       "      <td>edge</td>\n",
       "    </tr>\n",
       "    <tr>\n",
       "      <th>5</th>\n",
       "      <td>motion</td>\n",
       "      <td>regularization</td>\n",
       "      <td>bayesian</td>\n",
       "      <td>circuit</td>\n",
       "      <td>speaker</td>\n",
       "      <td>score</td>\n",
       "      <td>margin</td>\n",
       "      <td>arm</td>\n",
       "      <td>embed</td>\n",
       "      <td>convolutional</td>\n",
       "      <td>activity</td>\n",
       "      <td>partition</td>\n",
       "    </tr>\n",
       "    <tr>\n",
       "      <th>6</th>\n",
       "      <td>pixel</td>\n",
       "      <td>sparsity</td>\n",
       "      <td>conditional</td>\n",
       "      <td>architecture</td>\n",
       "      <td>event</td>\n",
       "      <td>sentence</td>\n",
       "      <td>active</td>\n",
       "      <td>game</td>\n",
       "      <td>projection</td>\n",
       "      <td>net</td>\n",
       "      <td>fig</td>\n",
       "      <td>vertex</td>\n",
       "    </tr>\n",
       "    <tr>\n",
       "      <th>7</th>\n",
       "      <td>shape</td>\n",
       "      <td>smooth</td>\n",
       "      <td>topic</td>\n",
       "      <td>neuron</td>\n",
       "      <td>hmm</td>\n",
       "      <td>topic</td>\n",
       "      <td>threshold</td>\n",
       "      <td>reinforcement</td>\n",
       "      <td>column</td>\n",
       "      <td>hidden</td>\n",
       "      <td>population</td>\n",
       "      <td>submodular</td>\n",
       "    </tr>\n",
       "    <tr>\n",
       "      <th>8</th>\n",
       "      <td>human</td>\n",
       "      <td>minimization</td>\n",
       "      <td>probabilistic</td>\n",
       "      <td>simulation</td>\n",
       "      <td>segment</td>\n",
       "      <td>group</td>\n",
       "      <td>boost</td>\n",
       "      <td>strategy</td>\n",
       "      <td>spectral</td>\n",
       "      <td>filter</td>\n",
       "      <td>brain</td>\n",
       "      <td>graphical</td>\n",
       "    </tr>\n",
       "    <tr>\n",
       "      <th>9</th>\n",
       "      <td>video</td>\n",
       "      <td>risk</td>\n",
       "      <td>covariance</td>\n",
       "      <td>communication</td>\n",
       "      <td>temporal</td>\n",
       "      <td>category</td>\n",
       "      <td>risk</td>\n",
       "      <td>decision</td>\n",
       "      <td>manifold</td>\n",
       "      <td>recurrent</td>\n",
       "      <td>visual</td>\n",
       "      <td>path</td>\n",
       "    </tr>\n",
       "  </tbody>\n",
       "</table>\n",
       "</div>"
      ],
      "text/plain": [
       "        Topic_0         Topic_1        Topic_2        Topic_3    Topic_4  \\\n",
       "0        object       estimator      posterior         memory     source   \n",
       "1        visual          sparse         latent        dynamic     speech   \n",
       "2     detection        gradient        mixture       parallel  frequency   \n",
       "3  segmentation            norm    variational     distribute     filter   \n",
       "4         scene      regression        density            bit    channel   \n",
       "5        motion  regularization       bayesian        circuit    speaker   \n",
       "6         pixel        sparsity    conditional   architecture      event   \n",
       "7         shape          smooth          topic         neuron        hmm   \n",
       "8         human    minimization  probabilistic     simulation    segment   \n",
       "9         video            risk     covariance  communication   temporal   \n",
       "\n",
       "    Topic_5     Topic_6        Topic_7     Topic_8        Topic_9    Topic_10  \\\n",
       "0      item  classifier         policy      kernel          layer      neuron   \n",
       "1      user       query         action        rank           deep        cell   \n",
       "2  language    decision         regret      metric           code       spike   \n",
       "3  document  hypothesis         reward      tensor   architecture    response   \n",
       "4     human      target          agent    subspace           hide    stimulus   \n",
       "5     score      margin            arm       embed  convolutional    activity   \n",
       "6  sentence      active           game  projection            net         fig   \n",
       "7     topic   threshold  reinforcement      column         hidden  population   \n",
       "8     group       boost       strategy    spectral         filter       brain   \n",
       "9  category        risk       decision    manifold      recurrent      visual   \n",
       "\n",
       "     Topic_11  \n",
       "0       graph  \n",
       "1     cluster  \n",
       "2        node  \n",
       "3        tree  \n",
       "4        edge  \n",
       "5   partition  \n",
       "6      vertex  \n",
       "7  submodular  \n",
       "8   graphical  \n",
       "9        path  "
      ]
     },
     "execution_count": 60,
     "metadata": {},
     "output_type": "execute_result"
    }
   ],
   "source": [
    "words_df"
   ]
  },
  {
   "cell_type": "markdown",
   "metadata": {},
   "source": [
    "## 2.3 Placing context with ESG categorical information\n",
    "> * Learn from trained LDA model with visual inspection via LDAvis\n",
    "> * Group and save respective topic words into ESG categories and it can be used to overcome cold-start (without ESG categorical information)\n",
    "> * Use grouped ESG data words to build context in LDA generated topics"
   ]
  },
  {
   "cell_type": "code",
   "execution_count": 61,
   "metadata": {
    "execution": {
     "iopub.execute_input": "2022-04-01T15:56:43.979447Z",
     "iopub.status.busy": "2022-04-01T15:56:43.979109Z",
     "iopub.status.idle": "2022-04-01T15:56:44.006622Z",
     "shell.execute_reply": "2022-04-01T15:56:44.005632Z",
     "shell.execute_reply.started": "2022-04-01T15:56:43.979404Z"
    }
   },
   "outputs": [
    {
     "name": "stdout",
     "output_type": "stream",
     "text": [
      "No.of topic words in 'Environment' category : 30\n",
      "No.of topic words in 'Social' category : 30\n",
      "No.of topic words in 'Governance' category : 30\n"
     ]
    },
    {
     "name": "stderr",
     "output_type": "stream",
     "text": [
      "C:\\NTU Tutorials\\Year 1\\Sem 2\\Data Science and AI\\DSAI\\Anaconda\\lib\\site-packages\\ipykernel\\ipkernel.py:287: DeprecationWarning: `should_run_async` will not call `transform_cell` automatically in the future. Please pass the result to `transformed_cell` argument and any exception that happen during thetransform in `preprocessing_exc_tuple` in IPython 7.17 and above.\n",
      "  and should_run_async(code)\n"
     ]
    },
    {
     "data": {
      "text/html": [
       "<div>\n",
       "<style scoped>\n",
       "    .dataframe tbody tr th:only-of-type {\n",
       "        vertical-align: middle;\n",
       "    }\n",
       "\n",
       "    .dataframe tbody tr th {\n",
       "        vertical-align: top;\n",
       "    }\n",
       "\n",
       "    .dataframe thead th {\n",
       "        text-align: right;\n",
       "    }\n",
       "</style>\n",
       "<table border=\"1\" class=\"dataframe\">\n",
       "  <thead>\n",
       "    <tr style=\"text-align: right;\">\n",
       "      <th></th>\n",
       "      <th>Environment</th>\n",
       "      <th>Social</th>\n",
       "      <th>Governance</th>\n",
       "    </tr>\n",
       "  </thead>\n",
       "  <tbody>\n",
       "    <tr>\n",
       "      <th>0</th>\n",
       "      <td>active</td>\n",
       "      <td>architecture</td>\n",
       "      <td>action</td>\n",
       "    </tr>\n",
       "    <tr>\n",
       "      <th>1</th>\n",
       "      <td>bayesian</td>\n",
       "      <td>channel</td>\n",
       "      <td>agent</td>\n",
       "    </tr>\n",
       "    <tr>\n",
       "      <th>2</th>\n",
       "      <td>boost</td>\n",
       "      <td>code</td>\n",
       "      <td>architecture</td>\n",
       "    </tr>\n",
       "    <tr>\n",
       "      <th>3</th>\n",
       "      <td>classifier</td>\n",
       "      <td>convolutional</td>\n",
       "      <td>arm</td>\n",
       "    </tr>\n",
       "    <tr>\n",
       "      <th>4</th>\n",
       "      <td>conditional</td>\n",
       "      <td>deep</td>\n",
       "      <td>bit</td>\n",
       "    </tr>\n",
       "    <tr>\n",
       "      <th>5</th>\n",
       "      <td>covariance</td>\n",
       "      <td>detection</td>\n",
       "      <td>category</td>\n",
       "    </tr>\n",
       "    <tr>\n",
       "      <th>6</th>\n",
       "      <td>decision</td>\n",
       "      <td>event</td>\n",
       "      <td>circuit</td>\n",
       "    </tr>\n",
       "    <tr>\n",
       "      <th>7</th>\n",
       "      <td>density</td>\n",
       "      <td>filter</td>\n",
       "      <td>communication</td>\n",
       "    </tr>\n",
       "    <tr>\n",
       "      <th>8</th>\n",
       "      <td>estimator</td>\n",
       "      <td>filter</td>\n",
       "      <td>decision</td>\n",
       "    </tr>\n",
       "    <tr>\n",
       "      <th>9</th>\n",
       "      <td>gradient</td>\n",
       "      <td>frequency</td>\n",
       "      <td>distribute</td>\n",
       "    </tr>\n",
       "    <tr>\n",
       "      <th>10</th>\n",
       "      <td>hypothesis</td>\n",
       "      <td>hidden</td>\n",
       "      <td>document</td>\n",
       "    </tr>\n",
       "    <tr>\n",
       "      <th>11</th>\n",
       "      <td>latent</td>\n",
       "      <td>hide</td>\n",
       "      <td>dynamic</td>\n",
       "    </tr>\n",
       "    <tr>\n",
       "      <th>12</th>\n",
       "      <td>margin</td>\n",
       "      <td>hmm</td>\n",
       "      <td>game</td>\n",
       "    </tr>\n",
       "    <tr>\n",
       "      <th>13</th>\n",
       "      <td>minimization</td>\n",
       "      <td>human</td>\n",
       "      <td>group</td>\n",
       "    </tr>\n",
       "    <tr>\n",
       "      <th>14</th>\n",
       "      <td>mixture</td>\n",
       "      <td>layer</td>\n",
       "      <td>human</td>\n",
       "    </tr>\n",
       "    <tr>\n",
       "      <th>15</th>\n",
       "      <td>norm</td>\n",
       "      <td>motion</td>\n",
       "      <td>item</td>\n",
       "    </tr>\n",
       "    <tr>\n",
       "      <th>16</th>\n",
       "      <td>posterior</td>\n",
       "      <td>net</td>\n",
       "      <td>language</td>\n",
       "    </tr>\n",
       "    <tr>\n",
       "      <th>17</th>\n",
       "      <td>probabilistic</td>\n",
       "      <td>object</td>\n",
       "      <td>memory</td>\n",
       "    </tr>\n",
       "    <tr>\n",
       "      <th>18</th>\n",
       "      <td>query</td>\n",
       "      <td>pixel</td>\n",
       "      <td>neuron</td>\n",
       "    </tr>\n",
       "    <tr>\n",
       "      <th>19</th>\n",
       "      <td>regression</td>\n",
       "      <td>recurrent</td>\n",
       "      <td>parallel</td>\n",
       "    </tr>\n",
       "    <tr>\n",
       "      <th>20</th>\n",
       "      <td>regularization</td>\n",
       "      <td>scene</td>\n",
       "      <td>policy</td>\n",
       "    </tr>\n",
       "    <tr>\n",
       "      <th>21</th>\n",
       "      <td>risk</td>\n",
       "      <td>segment</td>\n",
       "      <td>regret</td>\n",
       "    </tr>\n",
       "    <tr>\n",
       "      <th>22</th>\n",
       "      <td>risk</td>\n",
       "      <td>segmentation</td>\n",
       "      <td>reinforcement</td>\n",
       "    </tr>\n",
       "    <tr>\n",
       "      <th>23</th>\n",
       "      <td>smooth</td>\n",
       "      <td>shape</td>\n",
       "      <td>reward</td>\n",
       "    </tr>\n",
       "    <tr>\n",
       "      <th>24</th>\n",
       "      <td>sparse</td>\n",
       "      <td>source</td>\n",
       "      <td>score</td>\n",
       "    </tr>\n",
       "    <tr>\n",
       "      <th>25</th>\n",
       "      <td>sparsity</td>\n",
       "      <td>speaker</td>\n",
       "      <td>sentence</td>\n",
       "    </tr>\n",
       "    <tr>\n",
       "      <th>26</th>\n",
       "      <td>target</td>\n",
       "      <td>speech</td>\n",
       "      <td>simulation</td>\n",
       "    </tr>\n",
       "    <tr>\n",
       "      <th>27</th>\n",
       "      <td>threshold</td>\n",
       "      <td>temporal</td>\n",
       "      <td>strategy</td>\n",
       "    </tr>\n",
       "    <tr>\n",
       "      <th>28</th>\n",
       "      <td>topic</td>\n",
       "      <td>video</td>\n",
       "      <td>topic</td>\n",
       "    </tr>\n",
       "    <tr>\n",
       "      <th>29</th>\n",
       "      <td>variational</td>\n",
       "      <td>visual</td>\n",
       "      <td>user</td>\n",
       "    </tr>\n",
       "  </tbody>\n",
       "</table>\n",
       "</div>"
      ],
      "text/plain": [
       "       Environment         Social     Governance\n",
       "0           active   architecture         action\n",
       "1         bayesian        channel          agent\n",
       "2            boost           code   architecture\n",
       "3       classifier  convolutional            arm\n",
       "4      conditional           deep            bit\n",
       "5       covariance      detection       category\n",
       "6         decision          event        circuit\n",
       "7          density         filter  communication\n",
       "8        estimator         filter       decision\n",
       "9         gradient      frequency     distribute\n",
       "10      hypothesis         hidden       document\n",
       "11          latent           hide        dynamic\n",
       "12          margin            hmm           game\n",
       "13    minimization          human          group\n",
       "14         mixture          layer          human\n",
       "15            norm         motion           item\n",
       "16       posterior            net       language\n",
       "17   probabilistic         object         memory\n",
       "18           query          pixel         neuron\n",
       "19      regression      recurrent       parallel\n",
       "20  regularization          scene         policy\n",
       "21            risk        segment         regret\n",
       "22            risk   segmentation  reinforcement\n",
       "23          smooth          shape         reward\n",
       "24          sparse         source          score\n",
       "25        sparsity        speaker       sentence\n",
       "26          target         speech     simulation\n",
       "27       threshold       temporal       strategy\n",
       "28           topic          video          topic\n",
       "29     variational         visual           user"
      ]
     },
     "execution_count": 61,
     "metadata": {},
     "output_type": "execute_result"
    }
   ],
   "source": [
    "# Stack the DataFrames on top of each other (# https://datacarpentry.org/python-ecology-lesson/05-merging-data)\n",
    "\n",
    "# Obtain the even topic words for each category with a total of 30 words per each E, S and G catergory\n",
    "# The selected topics are based on visual inspection via LDAvis\n",
    "topic_words_E = pd.concat([words_df['Topic_1'], words_df['Topic_2'], words_df['Topic_6']], axis=0, ignore_index=True)\n",
    "topic_words_S = pd.concat([words_df['Topic_0'], words_df['Topic_4'], words_df['Topic_9']], axis=0, ignore_index=True)\n",
    "topic_words_G = pd.concat([words_df['Topic_3'], words_df['Topic_5'], words_df['Topic_7']], axis=0, ignore_index=True)\n",
    "\n",
    "# Sort words in ascending order\n",
    "topic_words_E.sort_values(inplace=True, ignore_index=True)\n",
    "topic_words_S.sort_values(inplace=True, ignore_index=True)\n",
    "topic_words_G.sort_values(inplace=True, ignore_index=True)\n",
    "\n",
    "print(\"No.of topic words in 'Environment' category :\", len(topic_words_E))\n",
    "print(\"No.of topic words in 'Social' category :\", len(topic_words_S))\n",
    "print(\"No.of topic words in 'Governance' category :\", len(topic_words_G))\n",
    "\n",
    "ESG_col_names = ['Environment', 'Social', 'Governance']\n",
    "\n",
    "topic_words_ESG = pd.DataFrame({'Environment' : topic_words_E,\n",
    "                                'Social' : topic_words_S,\n",
    "                                'Governance' : topic_words_G})\n",
    "\n",
    "# topic_words_ESG.sort_values(by=['Environment'], ignore_index = True)\n",
    "topic_words_ESG"
   ]
  },
  {
   "cell_type": "code",
   "execution_count": 63,
   "metadata": {
    "execution": {
     "iopub.execute_input": "2022-04-01T15:56:44.008499Z",
     "iopub.status.busy": "2022-04-01T15:56:44.007824Z",
     "iopub.status.idle": "2022-04-01T15:56:44.018080Z",
     "shell.execute_reply": "2022-04-01T15:56:44.017191Z",
     "shell.execute_reply.started": "2022-04-01T15:56:44.008452Z"
    }
   },
   "outputs": [
    {
     "name": "stderr",
     "output_type": "stream",
     "text": [
      "C:\\NTU Tutorials\\Year 1\\Sem 2\\Data Science and AI\\DSAI\\Anaconda\\lib\\site-packages\\ipykernel\\ipkernel.py:287: DeprecationWarning: `should_run_async` will not call `transform_cell` automatically in the future. Please pass the result to `transformed_cell` argument and any exception that happen during thetransform in `preprocessing_exc_tuple` in IPython 7.17 and above.\n",
      "  and should_run_async(code)\n"
     ]
    }
   ],
   "source": [
    "# Save respective topic words from visual inspections via LDAvis into ESG categories (‘topics_ESG_words_data.csv')\n",
    "# Store ESG words dataframe in CSV file for future consumption (overcome cold start, without ESG categorical information)\n",
    "save_csv_file(topic_words_ESG, 'topics_ESG_words_data.csv')"
   ]
  },
  {
   "cell_type": "markdown",
   "metadata": {},
   "source": [
    "## 2.4 Category inference on unseen document based on provided ESG Category words\n",
    "> * Placing context with ESG categorical information, acquired from domain expertise with provided ESG word data file\n",
    "> * This ESG word data file can be improved over time for improving context (based on knowledge or LDA model updates)"
   ]
  },
  {
   "cell_type": "code",
   "execution_count": 64,
   "metadata": {
    "execution": {
     "iopub.execute_input": "2022-04-01T15:56:44.020058Z",
     "iopub.status.busy": "2022-04-01T15:56:44.019553Z",
     "iopub.status.idle": "2022-04-01T15:56:44.044476Z",
     "shell.execute_reply": "2022-04-01T15:56:44.043264Z",
     "shell.execute_reply.started": "2022-04-01T15:56:44.020015Z"
    }
   },
   "outputs": [
    {
     "name": "stderr",
     "output_type": "stream",
     "text": [
      "C:\\NTU Tutorials\\Year 1\\Sem 2\\Data Science and AI\\DSAI\\Anaconda\\lib\\site-packages\\ipykernel\\ipkernel.py:287: DeprecationWarning: `should_run_async` will not call `transform_cell` automatically in the future. Please pass the result to `transformed_cell` argument and any exception that happen during thetransform in `preprocessing_exc_tuple` in IPython 7.17 and above.\n",
      "  and should_run_async(code)\n"
     ]
    },
    {
     "data": {
      "text/html": [
       "<div>\n",
       "<style scoped>\n",
       "    .dataframe tbody tr th:only-of-type {\n",
       "        vertical-align: middle;\n",
       "    }\n",
       "\n",
       "    .dataframe tbody tr th {\n",
       "        vertical-align: top;\n",
       "    }\n",
       "\n",
       "    .dataframe thead th {\n",
       "        text-align: right;\n",
       "    }\n",
       "</style>\n",
       "<table border=\"1\" class=\"dataframe\">\n",
       "  <thead>\n",
       "    <tr style=\"text-align: right;\">\n",
       "      <th></th>\n",
       "      <th>Environment</th>\n",
       "      <th>Social</th>\n",
       "      <th>Governance</th>\n",
       "    </tr>\n",
       "  </thead>\n",
       "  <tbody>\n",
       "    <tr>\n",
       "      <th>0</th>\n",
       "      <td>active</td>\n",
       "      <td>architecture</td>\n",
       "      <td>action</td>\n",
       "    </tr>\n",
       "    <tr>\n",
       "      <th>1</th>\n",
       "      <td>bayesian</td>\n",
       "      <td>channel</td>\n",
       "      <td>agent</td>\n",
       "    </tr>\n",
       "    <tr>\n",
       "      <th>2</th>\n",
       "      <td>boost</td>\n",
       "      <td>code</td>\n",
       "      <td>architecture</td>\n",
       "    </tr>\n",
       "    <tr>\n",
       "      <th>3</th>\n",
       "      <td>classifier</td>\n",
       "      <td>convolutional</td>\n",
       "      <td>arm</td>\n",
       "    </tr>\n",
       "    <tr>\n",
       "      <th>4</th>\n",
       "      <td>conditional</td>\n",
       "      <td>deep</td>\n",
       "      <td>bit</td>\n",
       "    </tr>\n",
       "    <tr>\n",
       "      <th>5</th>\n",
       "      <td>covariance</td>\n",
       "      <td>detection</td>\n",
       "      <td>category</td>\n",
       "    </tr>\n",
       "    <tr>\n",
       "      <th>6</th>\n",
       "      <td>decision</td>\n",
       "      <td>event</td>\n",
       "      <td>circuit</td>\n",
       "    </tr>\n",
       "    <tr>\n",
       "      <th>7</th>\n",
       "      <td>density</td>\n",
       "      <td>filter</td>\n",
       "      <td>communication</td>\n",
       "    </tr>\n",
       "    <tr>\n",
       "      <th>8</th>\n",
       "      <td>estimator</td>\n",
       "      <td>filter</td>\n",
       "      <td>decision</td>\n",
       "    </tr>\n",
       "    <tr>\n",
       "      <th>9</th>\n",
       "      <td>gradient</td>\n",
       "      <td>frequency</td>\n",
       "      <td>distribute</td>\n",
       "    </tr>\n",
       "  </tbody>\n",
       "</table>\n",
       "</div>"
      ],
      "text/plain": [
       "   Environment         Social     Governance\n",
       "0       active   architecture         action\n",
       "1     bayesian        channel          agent\n",
       "2        boost           code   architecture\n",
       "3   classifier  convolutional            arm\n",
       "4  conditional           deep            bit\n",
       "5   covariance      detection       category\n",
       "6     decision          event        circuit\n",
       "7      density         filter  communication\n",
       "8    estimator         filter       decision\n",
       "9     gradient      frequency     distribute"
      ]
     },
     "execution_count": 64,
     "metadata": {},
     "output_type": "execute_result"
    }
   ],
   "source": [
    "# Load the updated ESG words for categorising the topics\n",
    "topic_words_ESG = pd.read_csv('topics_ESG_words_data.csv') # /kaggle/input/nips-papers/\n",
    "\n",
    "# Extract the words from the provided ESG words data file\n",
    "popular_E_topic_words_list = topic_words_ESG['Environment']\n",
    "popular_S_topic_words_list = topic_words_ESG['Social']\n",
    "popular_G_topic_words_list = topic_words_ESG['Governance']\n",
    "\n",
    "# Show the first 10 rows\n",
    "topic_words_ESG.head(10)"
   ]
  },
  {
   "cell_type": "code",
   "execution_count": 65,
   "metadata": {
    "execution": {
     "iopub.execute_input": "2022-04-01T15:56:44.046649Z",
     "iopub.status.busy": "2022-04-01T15:56:44.046336Z",
     "iopub.status.idle": "2022-04-01T15:56:44.057086Z",
     "shell.execute_reply": "2022-04-01T15:56:44.055880Z",
     "shell.execute_reply.started": "2022-04-01T15:56:44.046595Z"
    }
   },
   "outputs": [
    {
     "name": "stderr",
     "output_type": "stream",
     "text": [
      "C:\\NTU Tutorials\\Year 1\\Sem 2\\Data Science and AI\\DSAI\\Anaconda\\lib\\site-packages\\ipykernel\\ipkernel.py:287: DeprecationWarning: `should_run_async` will not call `transform_cell` automatically in the future. Please pass the result to `transformed_cell` argument and any exception that happen during thetransform in `preprocessing_exc_tuple` in IPython 7.17 and above.\n",
      "  and should_run_async(code)\n"
     ]
    }
   ],
   "source": [
    "# Intersection method to check for matching words\n",
    "def intersection(list1, list2): \n",
    "    return list(set(list1) & set(list2))\n",
    "\n",
    "# Predict category based on list of words (top 30 words) from ESG document provided\n",
    "def predict_doc_category(test_list_words: list, verbose: bool = False):    \n",
    "    # Configure same number of words for each category\n",
    "    num_topic_words = len(popular_E_topic_words_list)\n",
    "\n",
    "    # Compare the top words from test document\n",
    "    test_sample_top_words = test_list_words\n",
    "\n",
    "    intersected_E_topic_words = intersection(test_sample_top_words, popular_E_topic_words_list)\n",
    "    intersected_S_topic_words = intersection(test_sample_top_words, popular_S_topic_words_list)\n",
    "    intersected_G_topic_words = intersection(test_sample_top_words, popular_G_topic_words_list)\n",
    "\n",
    "    matching_E_topic_words_ratio = round(len(intersected_E_topic_words)/num_topic_words, 3)\n",
    "    matching_S_topic_words_ratio = round(len(intersected_S_topic_words)/num_topic_words, 3)\n",
    "    matching_G_topic_words_ratio = round(len(intersected_G_topic_words)/num_topic_words, 3)\n",
    "    \n",
    "    matching_topic_list = [('E', matching_E_topic_words_ratio),\n",
    "                           ('S', matching_S_topic_words_ratio),\n",
    "                           ('G', matching_G_topic_words_ratio)]\n",
    "\n",
    "    # key is the argument for comparison, tuple item 1\n",
    "    topic_category, max_prob = max(matching_topic_list, key=lambda item: item[1])\n",
    "\n",
    "    if verbose:\n",
    "        print(\"{} intersected words in E category : {} having matching at {:.2f}%\".format(len(intersected_E_topic_words), intersected_E_topic_words,\n",
    "                                                                                          (matching_E_topic_words_ratio)*100))\n",
    "        print(\"{} intersected words in S category : {} having matching at {:.2f}%\".format(len(intersected_S_topic_words), intersected_S_topic_words,\n",
    "                                                                                          (matching_S_topic_words_ratio)*100))\n",
    "        print(\"{} intersected words in G category : {} having matching at {:.2f}%\".format(len(intersected_G_topic_words), intersected_G_topic_words,\n",
    "                                                                                          (matching_G_topic_words_ratio)*100))\n",
    "        print()\n",
    "        print(\"Top words from document with respective matching ratio in each category :\\n\", matching_topic_list)\n",
    "        print()\n",
    "        print(\"Document with highest ratio topic category :\", topic_category)\n",
    "        print()\n",
    "    \n",
    "    return topic_category, max_prob"
   ]
  },
  {
   "cell_type": "code",
   "execution_count": 66,
   "metadata": {
    "execution": {
     "iopub.execute_input": "2022-04-01T15:56:44.059063Z",
     "iopub.status.busy": "2022-04-01T15:56:44.058649Z",
     "iopub.status.idle": "2022-04-01T15:56:44.076697Z",
     "shell.execute_reply": "2022-04-01T15:56:44.075784Z",
     "shell.execute_reply.started": "2022-04-01T15:56:44.059028Z"
    }
   },
   "outputs": [
    {
     "name": "stdout",
     "output_type": "stream",
     "text": [
      "['method', 'visualize', 'interpret', 'topic', 'tlabsresearch', 'thfloor', 'abstract', 'basic', 'question', 'ﬁtte', 'topic', 'model', 'mean', 'topic', 'basedinterac', 'howdothetopic', 'relate', 'different', 'visual', 'component', 'ourvisu', 'istingtool', 'ic', 'differ', 'visualization', 'illustrate', 'figure', 'twobasicpiece', 'inspection', 'term']\n"
     ]
    },
    {
     "name": "stderr",
     "output_type": "stream",
     "text": [
      "C:\\NTU Tutorials\\Year 1\\Sem 2\\Data Science and AI\\DSAI\\Anaconda\\lib\\site-packages\\ipykernel\\ipkernel.py:287: DeprecationWarning: `should_run_async` will not call `transform_cell` automatically in the future. Please pass the result to `transformed_cell` argument and any exception that happen during thetransform in `preprocessing_exc_tuple` in IPython 7.17 and above.\n",
      "  and should_run_async(code)\n"
     ]
    }
   ],
   "source": [
    "# Show the first 30 words in the lemmatized words from the test sample document \n",
    "print(test_lemmatized[0][:30])"
   ]
  },
  {
   "cell_type": "code",
   "execution_count": 67,
   "metadata": {
    "execution": {
     "iopub.execute_input": "2022-04-01T15:56:44.078286Z",
     "iopub.status.busy": "2022-04-01T15:56:44.078052Z",
     "iopub.status.idle": "2022-04-01T15:56:44.094413Z",
     "shell.execute_reply": "2022-04-01T15:56:44.093482Z",
     "shell.execute_reply.started": "2022-04-01T15:56:44.078255Z"
    }
   },
   "outputs": [
    {
     "name": "stdout",
     "output_type": "stream",
     "text": [
      "1 intersected words in E category : ['topic'] having matching at 3.30%\n",
      "1 intersected words in S category : ['visual'] having matching at 3.30%\n",
      "1 intersected words in G category : ['topic'] having matching at 3.30%\n",
      "\n",
      "Top words from document with respective matching ratio in each category :\n",
      " [('E', 0.033), ('S', 0.033), ('G', 0.033)]\n",
      "\n",
      "Document with highest ratio topic category : E\n",
      "\n",
      "Test document filename : 'LDAvis.pdf'\n",
      "Inferred topic category is 'E' based on maximum probability : 3.30%\n"
     ]
    },
    {
     "name": "stderr",
     "output_type": "stream",
     "text": [
      "C:\\NTU Tutorials\\Year 1\\Sem 2\\Data Science and AI\\DSAI\\Anaconda\\lib\\site-packages\\ipykernel\\ipkernel.py:287: DeprecationWarning: `should_run_async` will not call `transform_cell` automatically in the future. Please pass the result to `transformed_cell` argument and any exception that happen during thetransform in `preprocessing_exc_tuple` in IPython 7.17 and above.\n",
      "  and should_run_async(code)\n"
     ]
    }
   ],
   "source": [
    "# Select op 30 words from sampled document, could be treated as a hyperparameter\n",
    "test_list_words = test_lemmatized[0][:30]\n",
    "topic_category, max_ratio = predict_doc_category(test_list_words, verbose=True)  # ['memory', 'dynamic', 'parallel', 'distribute', 'bit']\n",
    "\n",
    "print(\"Test document filename : '{}'\".format(test_pdf_filename))\n",
    "print(\"Inferred topic category is '{}' based on maximum probability : {:.2f}%\".format(topic_category, max_ratio*100))"
   ]
  },
  {
   "cell_type": "markdown",
   "metadata": {},
   "source": [
    "## 3.1 Feature Engineering - Make Vectors\n",
    "> * With LDA model, we need to run all the papers through it using 'get document topics'.  A list comprehension of the output will give the probability distribution of the topics for a specific paper, and that is our feature vector\n",
    "> * The additional length of document in the loop is a hand-engineered feature"
   ]
  },
  {
   "cell_type": "code",
   "execution_count": 68,
   "metadata": {
    "execution": {
     "iopub.execute_input": "2022-04-01T15:56:44.096443Z",
     "iopub.status.busy": "2022-04-01T15:56:44.096099Z",
     "iopub.status.idle": "2022-04-01T15:56:44.109874Z",
     "shell.execute_reply": "2022-04-01T15:56:44.109019Z",
     "shell.execute_reply.started": "2022-04-01T15:56:44.096400Z"
    }
   },
   "outputs": [
    {
     "name": "stderr",
     "output_type": "stream",
     "text": [
      "C:\\NTU Tutorials\\Year 1\\Sem 2\\Data Science and AI\\DSAI\\Anaconda\\lib\\site-packages\\ipykernel\\ipkernel.py:287: DeprecationWarning: `should_run_async` will not call `transform_cell` automatically in the future. Please pass the result to `transformed_cell` argument and any exception that happen during thetransform in `preprocessing_exc_tuple` in IPython 7.17 and above.\n",
      "  and should_run_async(code)\n"
     ]
    },
    {
     "data": {
      "text/plain": [
       "[0.2641695,\n",
       " 0.05393212,\n",
       " 0.00010796895,\n",
       " 0.28823033,\n",
       " 0.06810557,\n",
       " 0.09376336,\n",
       " 0.043824404,\n",
       " 0.05889702,\n",
       " 0.034661647,\n",
       " 0.012905208,\n",
       " 0.026407927,\n",
       " 0.054994922]"
      ]
     },
     "execution_count": 68,
     "metadata": {},
     "output_type": "execute_result"
    }
   ],
   "source": [
    "# Get the topic distribution for the first document in train_corpus \n",
    "top_topics = lda_baselined_model.get_document_topics(train_corpus[0], minimum_probability=0.0)\n",
    "topic_vec = [top_topics[i][1] for i in range(optimal_num_topics)]\n",
    "\n",
    "# [len(papers_text_df.iloc[0].paper_text)]\n",
    "# topic_vec.extend([len(papers_text_df.iloc[0].paper_text)])\n",
    "topic_vec"
   ]
  },
  {
   "cell_type": "code",
   "execution_count": 69,
   "metadata": {
    "execution": {
     "iopub.execute_input": "2022-04-01T15:56:44.111322Z",
     "iopub.status.busy": "2022-04-01T15:56:44.111088Z",
     "iopub.status.idle": "2022-04-01T15:56:44.120651Z",
     "shell.execute_reply": "2022-04-01T15:56:44.119664Z",
     "shell.execute_reply.started": "2022-04-01T15:56:44.111293Z"
    }
   },
   "outputs": [
    {
     "name": "stdout",
     "output_type": "stream",
     "text": [
      "Maximum probability: 0.28823033 At index: 3\n",
      "Maximum probability: 0.28823033 with topicID: 3\n"
     ]
    },
    {
     "name": "stderr",
     "output_type": "stream",
     "text": [
      "C:\\NTU Tutorials\\Year 1\\Sem 2\\Data Science and AI\\DSAI\\Anaconda\\lib\\site-packages\\ipykernel\\ipkernel.py:287: DeprecationWarning: `should_run_async` will not call `transform_cell` automatically in the future. Please pass the result to `transformed_cell` argument and any exception that happen during thetransform in `preprocessing_exc_tuple` in IPython 7.17 and above.\n",
      "  and should_run_async(code)\n"
     ]
    }
   ],
   "source": [
    "max_prob = max(topic_vec)\n",
    "print('Maximum probability:', max_prob, \"At index:\", topic_vec.index(max_prob))\n",
    "\n",
    "# key-value pair within a list; in this case, topic and prob is at position 0 and 1 respectively\n",
    "topic, max_prob = max(top_topics, key=lambda item: item[1])\n",
    "\n",
    "# topic is not the index, it is the value in the first position of top_topics (3, 0.28823033)\n",
    "print('Maximum probability:', max_prob, \"with topicID:\", topic)"
   ]
  },
  {
   "cell_type": "markdown",
   "metadata": {},
   "source": [
    "## 3.2 Feature Engineering and Context Association\n",
    "\n",
    "Assumption : Domain knowledge and visual inspections with LDAvis\n",
    "> * Topics (1, 2, 3, 5, 10) assigned to 'Environmental' category, (Target = 0)\n",
    "> * Topics (7, 11, 12) assigned to 'Social' category , (Target = 1)\n",
    "> * Topics (4, 6, 8, 9) assigned to 'Governance' category , (Target = 2)\n",
    "> * Label the documents with targets to be used for training and predictions"
   ]
  },
  {
   "cell_type": "code",
   "execution_count": 70,
   "metadata": {
    "execution": {
     "iopub.execute_input": "2022-04-01T15:56:44.122225Z",
     "iopub.status.busy": "2022-04-01T15:56:44.121998Z",
     "iopub.status.idle": "2022-04-01T15:56:50.526724Z",
     "shell.execute_reply": "2022-04-01T15:56:50.525165Z",
     "shell.execute_reply.started": "2022-04-01T15:56:44.122200Z"
    }
   },
   "outputs": [
    {
     "name": "stderr",
     "output_type": "stream",
     "text": [
      "C:\\NTU Tutorials\\Year 1\\Sem 2\\Data Science and AI\\DSAI\\Anaconda\\lib\\site-packages\\ipykernel\\ipkernel.py:287: DeprecationWarning: `should_run_async` will not call `transform_cell` automatically in the future. Please pass the result to `transformed_cell` argument and any exception that happen during thetransform in `preprocessing_exc_tuple` in IPython 7.17 and above.\n",
      "  and should_run_async(code)\n"
     ]
    },
    {
     "name": "stdout",
     "output_type": "stream",
     "text": [
      "Creating vectors for 6560 samples...\n",
      "No. of 6560 samples with 14 features\n",
      "\n",
      "First 5 samples of vector features:\n",
      "[[0.26416072, 0.05388466, 0.000107968925, 0.2882413, 0.06810953, 0.09375948, 0.04385189, 0.058910053, 0.034683496, 0.012898432, 0.026394898, 0.054997608, 21643, 2], [0.00014569152, 0.00014569635, 0.00014569511, 0.24188845, 0.00014569068, 0.00014569027, 0.00014569114, 0.0047752648, 0.00014569752, 0.029630207, 0.7225405, 0.000145697, 15505, 2], [9.2741604e-05, 9.274511e-05, 9.2743794e-05, 0.07713007, 9.274517e-05, 0.0029555412, 9.274412e-05, 9.2744966e-05, 9.274379e-05, 9.274291e-05, 0.9081916, 0.010980778, 20523, 2], [0.0001765639, 0.00017656802, 0.3899229, 0.06898927, 0.00017656398, 0.027774485, 0.47082087, 0.034324255, 0.00017656464, 0.00017656949, 0.0071088113, 0.0001765672, 19441, 0], [0.00019174293, 0.067548536, 0.016754271, 0.00019174095, 0.028447371, 0.0001917384, 0.86634076, 0.00019173732, 0.00019173954, 0.019566877, 0.00019173922, 0.0001917395, 20219, 0]] \n",
      "Wall time: 15.8 s\n"
     ]
    }
   ],
   "source": [
    "%%time\n",
    "train_vecs = []\n",
    "max_prob_topic = []\n",
    "\n",
    "print(\"Creating vectors for {} samples...\".format(len(papers_text_df)))\n",
    "# For all papers\n",
    "for i in range(len(papers_text_df)): # 6560\n",
    "    top_topics = lda_baselined_model.get_document_topics(train_corpus[i], minimum_probability=0.0)\n",
    "    \n",
    "    # Get the topic distribution for each paper's text.\n",
    "    topic_vec = [top_topics[j][1] for j in range(optimal_num_topics)]\n",
    "    \n",
    "    # Save the topic with highest probability for each paper\n",
    "    topic_id, max_prob= max(top_topics, key=lambda item: item[1])\n",
    "    # print('Maximum probability:', max_prob, \"with topic:\", topic_id)\n",
    "    max_prob_topic.append(topic_id)\n",
    "    \n",
    "    # Extend with another feature vector, total characters in each document\n",
    "    topic_vec.extend([len(papers_text_df.iloc[i].paper_text)])\n",
    "    \n",
    "    # Create labels (0-2) based on assumptions that max prob topic belonging to a ESG category\n",
    "    # Label the documents with targets to be used for training and predictions\n",
    "    # We could automate with distance metrics (Hellinger, Kullback-Leibler)\n",
    "    # Note : The topics from pyLDAvis is different from the topicids from get_document_topics\n",
    "    if (topic_id == 1 or topic_id == 2 or topic_id == 6 or topic_id == 8 or topic_id == 11):\n",
    "        # 1 : Environmental, Topics (1, 2, 3, 5, 10)\n",
    "        topic_vec.extend([0])\n",
    "    elif (topic_id == 0 or topic_id == 4 or topic_id == 9):\n",
    "        # 2 : Social, Topics (7, 11, 12)\n",
    "        topic_vec.extend([1])\n",
    "    else:\n",
    "        # 3 : Governance, Topics (4, 6, 8, 9)\n",
    "        topic_vec.extend([2])\n",
    "    \n",
    "    train_vecs.append(topic_vec)\n",
    "    \n",
    "\n",
    "# Get the train_vecs to be used as features (7 topic vectors based on probability and paper text length)\n",
    "print(\"No. of {} samples with {} features\".format(len(train_vecs), len(train_vecs[0])))\n",
    "print()\n",
    "print(\"First 5 samples of vector features:\\n{} \".format(train_vecs[:5]))"
   ]
  },
  {
   "cell_type": "code",
   "execution_count": 71,
   "metadata": {
    "execution": {
     "iopub.execute_input": "2022-04-01T15:56:50.528806Z",
     "iopub.status.busy": "2022-04-01T15:56:50.528465Z",
     "iopub.status.idle": "2022-04-01T15:56:50.536381Z",
     "shell.execute_reply": "2022-04-01T15:56:50.535524Z",
     "shell.execute_reply.started": "2022-04-01T15:56:50.528762Z"
    }
   },
   "outputs": [
    {
     "name": "stderr",
     "output_type": "stream",
     "text": [
      "C:\\NTU Tutorials\\Year 1\\Sem 2\\Data Science and AI\\DSAI\\Anaconda\\lib\\site-packages\\ipykernel\\ipkernel.py:287: DeprecationWarning: `should_run_async` will not call `transform_cell` automatically in the future. Please pass the result to `transformed_cell` argument and any exception that happen during thetransform in `preprocessing_exc_tuple` in IPython 7.17 and above.\n",
      "  and should_run_async(code)\n"
     ]
    },
    {
     "data": {
      "text/plain": [
       "['topic_vec_0',\n",
       " 'topic_vec_1',\n",
       " 'topic_vec_2',\n",
       " 'topic_vec_3',\n",
       " 'topic_vec_4',\n",
       " 'topic_vec_5',\n",
       " 'topic_vec_6',\n",
       " 'topic_vec_7',\n",
       " 'topic_vec_8',\n",
       " 'topic_vec_9',\n",
       " 'topic_vec_10',\n",
       " 'topic_vec_11',\n",
       " 'total_chars',\n",
       " 'ESG_category']"
      ]
     },
     "execution_count": 71,
     "metadata": {},
     "output_type": "execute_result"
    }
   ],
   "source": [
    "# Create column names for dataframe based on the optimal_num_topics\n",
    "col_names = []\n",
    "for i in range(optimal_num_topics):\n",
    "    col_names.append('topic_vec_'+str(i))\n",
    "\n",
    "col_names.append('total_chars')\n",
    "col_names.append('ESG_category')\n",
    "col_names"
   ]
  },
  {
   "cell_type": "code",
   "execution_count": 72,
   "metadata": {
    "execution": {
     "iopub.execute_input": "2022-04-01T15:56:50.538415Z",
     "iopub.status.busy": "2022-04-01T15:56:50.537936Z",
     "iopub.status.idle": "2022-04-01T15:56:50.585621Z",
     "shell.execute_reply": "2022-04-01T15:56:50.584701Z",
     "shell.execute_reply.started": "2022-04-01T15:56:50.538376Z"
    }
   },
   "outputs": [
    {
     "name": "stderr",
     "output_type": "stream",
     "text": [
      "C:\\NTU Tutorials\\Year 1\\Sem 2\\Data Science and AI\\DSAI\\Anaconda\\lib\\site-packages\\ipykernel\\ipkernel.py:287: DeprecationWarning: `should_run_async` will not call `transform_cell` automatically in the future. Please pass the result to `transformed_cell` argument and any exception that happen during thetransform in `preprocessing_exc_tuple` in IPython 7.17 and above.\n",
      "  and should_run_async(code)\n"
     ]
    },
    {
     "data": {
      "text/html": [
       "<div>\n",
       "<style scoped>\n",
       "    .dataframe tbody tr th:only-of-type {\n",
       "        vertical-align: middle;\n",
       "    }\n",
       "\n",
       "    .dataframe tbody tr th {\n",
       "        vertical-align: top;\n",
       "    }\n",
       "\n",
       "    .dataframe thead th {\n",
       "        text-align: right;\n",
       "    }\n",
       "</style>\n",
       "<table border=\"1\" class=\"dataframe\">\n",
       "  <thead>\n",
       "    <tr style=\"text-align: right;\">\n",
       "      <th></th>\n",
       "      <th>topic_vec_0</th>\n",
       "      <th>topic_vec_1</th>\n",
       "      <th>topic_vec_2</th>\n",
       "      <th>topic_vec_3</th>\n",
       "      <th>topic_vec_4</th>\n",
       "      <th>topic_vec_5</th>\n",
       "      <th>topic_vec_6</th>\n",
       "      <th>topic_vec_7</th>\n",
       "      <th>topic_vec_8</th>\n",
       "      <th>topic_vec_9</th>\n",
       "      <th>topic_vec_10</th>\n",
       "      <th>topic_vec_11</th>\n",
       "      <th>total_chars</th>\n",
       "      <th>ESG_category</th>\n",
       "    </tr>\n",
       "  </thead>\n",
       "  <tbody>\n",
       "    <tr>\n",
       "      <th>0</th>\n",
       "      <td>0.264161</td>\n",
       "      <td>0.053885</td>\n",
       "      <td>0.000108</td>\n",
       "      <td>0.288241</td>\n",
       "      <td>0.068110</td>\n",
       "      <td>0.093759</td>\n",
       "      <td>0.043852</td>\n",
       "      <td>0.058910</td>\n",
       "      <td>0.034683</td>\n",
       "      <td>0.012898</td>\n",
       "      <td>0.026395</td>\n",
       "      <td>0.054998</td>\n",
       "      <td>21643</td>\n",
       "      <td>2</td>\n",
       "    </tr>\n",
       "    <tr>\n",
       "      <th>1</th>\n",
       "      <td>0.000146</td>\n",
       "      <td>0.000146</td>\n",
       "      <td>0.000146</td>\n",
       "      <td>0.241888</td>\n",
       "      <td>0.000146</td>\n",
       "      <td>0.000146</td>\n",
       "      <td>0.000146</td>\n",
       "      <td>0.004775</td>\n",
       "      <td>0.000146</td>\n",
       "      <td>0.029630</td>\n",
       "      <td>0.722540</td>\n",
       "      <td>0.000146</td>\n",
       "      <td>15505</td>\n",
       "      <td>2</td>\n",
       "    </tr>\n",
       "    <tr>\n",
       "      <th>2</th>\n",
       "      <td>0.000093</td>\n",
       "      <td>0.000093</td>\n",
       "      <td>0.000093</td>\n",
       "      <td>0.077130</td>\n",
       "      <td>0.000093</td>\n",
       "      <td>0.002956</td>\n",
       "      <td>0.000093</td>\n",
       "      <td>0.000093</td>\n",
       "      <td>0.000093</td>\n",
       "      <td>0.000093</td>\n",
       "      <td>0.908192</td>\n",
       "      <td>0.010981</td>\n",
       "      <td>20523</td>\n",
       "      <td>2</td>\n",
       "    </tr>\n",
       "    <tr>\n",
       "      <th>3</th>\n",
       "      <td>0.000177</td>\n",
       "      <td>0.000177</td>\n",
       "      <td>0.389923</td>\n",
       "      <td>0.068989</td>\n",
       "      <td>0.000177</td>\n",
       "      <td>0.027774</td>\n",
       "      <td>0.470821</td>\n",
       "      <td>0.034324</td>\n",
       "      <td>0.000177</td>\n",
       "      <td>0.000177</td>\n",
       "      <td>0.007109</td>\n",
       "      <td>0.000177</td>\n",
       "      <td>19441</td>\n",
       "      <td>0</td>\n",
       "    </tr>\n",
       "    <tr>\n",
       "      <th>4</th>\n",
       "      <td>0.000192</td>\n",
       "      <td>0.067549</td>\n",
       "      <td>0.016754</td>\n",
       "      <td>0.000192</td>\n",
       "      <td>0.028447</td>\n",
       "      <td>0.000192</td>\n",
       "      <td>0.866341</td>\n",
       "      <td>0.000192</td>\n",
       "      <td>0.000192</td>\n",
       "      <td>0.019567</td>\n",
       "      <td>0.000192</td>\n",
       "      <td>0.000192</td>\n",
       "      <td>20219</td>\n",
       "      <td>0</td>\n",
       "    </tr>\n",
       "    <tr>\n",
       "      <th>5</th>\n",
       "      <td>0.378387</td>\n",
       "      <td>0.014820</td>\n",
       "      <td>0.110965</td>\n",
       "      <td>0.094049</td>\n",
       "      <td>0.000130</td>\n",
       "      <td>0.000130</td>\n",
       "      <td>0.071248</td>\n",
       "      <td>0.000130</td>\n",
       "      <td>0.000130</td>\n",
       "      <td>0.317666</td>\n",
       "      <td>0.000130</td>\n",
       "      <td>0.012215</td>\n",
       "      <td>22451</td>\n",
       "      <td>1</td>\n",
       "    </tr>\n",
       "    <tr>\n",
       "      <th>6</th>\n",
       "      <td>0.000207</td>\n",
       "      <td>0.000207</td>\n",
       "      <td>0.049131</td>\n",
       "      <td>0.160406</td>\n",
       "      <td>0.005051</td>\n",
       "      <td>0.000207</td>\n",
       "      <td>0.058856</td>\n",
       "      <td>0.000207</td>\n",
       "      <td>0.000207</td>\n",
       "      <td>0.240640</td>\n",
       "      <td>0.351084</td>\n",
       "      <td>0.133798</td>\n",
       "      <td>13053</td>\n",
       "      <td>2</td>\n",
       "    </tr>\n",
       "    <tr>\n",
       "      <th>7</th>\n",
       "      <td>0.006488</td>\n",
       "      <td>0.003319</td>\n",
       "      <td>0.000141</td>\n",
       "      <td>0.666147</td>\n",
       "      <td>0.107487</td>\n",
       "      <td>0.118447</td>\n",
       "      <td>0.089865</td>\n",
       "      <td>0.000141</td>\n",
       "      <td>0.000141</td>\n",
       "      <td>0.000141</td>\n",
       "      <td>0.007540</td>\n",
       "      <td>0.000141</td>\n",
       "      <td>17870</td>\n",
       "      <td>2</td>\n",
       "    </tr>\n",
       "    <tr>\n",
       "      <th>8</th>\n",
       "      <td>0.203128</td>\n",
       "      <td>0.000144</td>\n",
       "      <td>0.000144</td>\n",
       "      <td>0.708315</td>\n",
       "      <td>0.056691</td>\n",
       "      <td>0.015381</td>\n",
       "      <td>0.000144</td>\n",
       "      <td>0.000144</td>\n",
       "      <td>0.000144</td>\n",
       "      <td>0.015476</td>\n",
       "      <td>0.000144</td>\n",
       "      <td>0.000144</td>\n",
       "      <td>17312</td>\n",
       "      <td>2</td>\n",
       "    </tr>\n",
       "    <tr>\n",
       "      <th>9</th>\n",
       "      <td>0.079940</td>\n",
       "      <td>0.000075</td>\n",
       "      <td>0.000075</td>\n",
       "      <td>0.858051</td>\n",
       "      <td>0.045556</td>\n",
       "      <td>0.008572</td>\n",
       "      <td>0.000075</td>\n",
       "      <td>0.000075</td>\n",
       "      <td>0.000075</td>\n",
       "      <td>0.007359</td>\n",
       "      <td>0.000075</td>\n",
       "      <td>0.000075</td>\n",
       "      <td>31503</td>\n",
       "      <td>2</td>\n",
       "    </tr>\n",
       "  </tbody>\n",
       "</table>\n",
       "</div>"
      ],
      "text/plain": [
       "   topic_vec_0  topic_vec_1  topic_vec_2  topic_vec_3  topic_vec_4  \\\n",
       "0     0.264161     0.053885     0.000108     0.288241     0.068110   \n",
       "1     0.000146     0.000146     0.000146     0.241888     0.000146   \n",
       "2     0.000093     0.000093     0.000093     0.077130     0.000093   \n",
       "3     0.000177     0.000177     0.389923     0.068989     0.000177   \n",
       "4     0.000192     0.067549     0.016754     0.000192     0.028447   \n",
       "5     0.378387     0.014820     0.110965     0.094049     0.000130   \n",
       "6     0.000207     0.000207     0.049131     0.160406     0.005051   \n",
       "7     0.006488     0.003319     0.000141     0.666147     0.107487   \n",
       "8     0.203128     0.000144     0.000144     0.708315     0.056691   \n",
       "9     0.079940     0.000075     0.000075     0.858051     0.045556   \n",
       "\n",
       "   topic_vec_5  topic_vec_6  topic_vec_7  topic_vec_8  topic_vec_9  \\\n",
       "0     0.093759     0.043852     0.058910     0.034683     0.012898   \n",
       "1     0.000146     0.000146     0.004775     0.000146     0.029630   \n",
       "2     0.002956     0.000093     0.000093     0.000093     0.000093   \n",
       "3     0.027774     0.470821     0.034324     0.000177     0.000177   \n",
       "4     0.000192     0.866341     0.000192     0.000192     0.019567   \n",
       "5     0.000130     0.071248     0.000130     0.000130     0.317666   \n",
       "6     0.000207     0.058856     0.000207     0.000207     0.240640   \n",
       "7     0.118447     0.089865     0.000141     0.000141     0.000141   \n",
       "8     0.015381     0.000144     0.000144     0.000144     0.015476   \n",
       "9     0.008572     0.000075     0.000075     0.000075     0.007359   \n",
       "\n",
       "   topic_vec_10  topic_vec_11  total_chars  ESG_category  \n",
       "0      0.026395      0.054998        21643             2  \n",
       "1      0.722540      0.000146        15505             2  \n",
       "2      0.908192      0.010981        20523             2  \n",
       "3      0.007109      0.000177        19441             0  \n",
       "4      0.000192      0.000192        20219             0  \n",
       "5      0.000130      0.012215        22451             1  \n",
       "6      0.351084      0.133798        13053             2  \n",
       "7      0.007540      0.000141        17870             2  \n",
       "8      0.000144      0.000144        17312             2  \n",
       "9      0.000075      0.000075        31503             2  "
      ]
     },
     "execution_count": 72,
     "metadata": {},
     "output_type": "execute_result"
    }
   ],
   "source": [
    "# Create dataframe for topic vectors, total_chars and ESG_category\n",
    "topic_vecs_df = pd.DataFrame(train_vecs, columns=col_names)\n",
    "topic_vecs_df[:10]"
   ]
  },
  {
   "cell_type": "code",
   "execution_count": 73,
   "metadata": {
    "execution": {
     "iopub.execute_input": "2022-04-01T15:56:50.587579Z",
     "iopub.status.busy": "2022-04-01T15:56:50.587257Z",
     "iopub.status.idle": "2022-04-01T15:56:50.592799Z",
     "shell.execute_reply": "2022-04-01T15:56:50.591953Z",
     "shell.execute_reply.started": "2022-04-01T15:56:50.587537Z"
    }
   },
   "outputs": [
    {
     "name": "stdout",
     "output_type": "stream",
     "text": [
      "There are 6560 documents and the first 10 samples having topics with max prob :\n",
      "[3, 10, 10, 6, 6, 0, 10, 3, 3, 3]\n"
     ]
    },
    {
     "name": "stderr",
     "output_type": "stream",
     "text": [
      "C:\\NTU Tutorials\\Year 1\\Sem 2\\Data Science and AI\\DSAI\\Anaconda\\lib\\site-packages\\ipykernel\\ipkernel.py:287: DeprecationWarning: `should_run_async` will not call `transform_cell` automatically in the future. Please pass the result to `transformed_cell` argument and any exception that happen during thetransform in `preprocessing_exc_tuple` in IPython 7.17 and above.\n",
      "  and should_run_async(code)\n"
     ]
    }
   ],
   "source": [
    "# 1 : Environmental, topic_ids (1, 2, 6, 8, 11)\n",
    "# 2 : Social, topic_ids (0, 4, 9)\n",
    "# 3 : Governance, topic_ids (3, 5, 7, 10)\n",
    "print(\"There are {} documents and the first 10 samples having topics with max prob :\\n{}\".format(len(max_prob_topic),\n",
    "                                                                                                 max_prob_topic[:10]))"
   ]
  },
  {
   "cell_type": "code",
   "execution_count": 74,
   "metadata": {
    "execution": {
     "iopub.execute_input": "2022-04-01T15:56:50.594221Z",
     "iopub.status.busy": "2022-04-01T15:56:50.593993Z",
     "iopub.status.idle": "2022-04-01T15:56:50.896661Z",
     "shell.execute_reply": "2022-04-01T15:56:50.895738Z",
     "shell.execute_reply.started": "2022-04-01T15:56:50.594193Z"
    }
   },
   "outputs": [
    {
     "name": "stderr",
     "output_type": "stream",
     "text": [
      "C:\\NTU Tutorials\\Year 1\\Sem 2\\Data Science and AI\\DSAI\\Anaconda\\lib\\site-packages\\ipykernel\\ipkernel.py:287: DeprecationWarning: `should_run_async` will not call `transform_cell` automatically in the future. Please pass the result to `transformed_cell` argument and any exception that happen during thetransform in `preprocessing_exc_tuple` in IPython 7.17 and above.\n",
      "  and should_run_async(code)\n"
     ]
    },
    {
     "name": "stdout",
     "output_type": "stream",
     "text": [
      "Counts : 3205\n",
      "Counts : 982\n",
      "Counts : 2373\n"
     ]
    },
    {
     "data": {
      "image/png": "[encoded data removed]",
      "text/plain": [
       "<Figure size 864x432 with 1 Axes>"
      ]
     },
     "metadata": {
      "needs_background": "light"
     },
     "output_type": "display_data"
    },
    {
     "name": "stdout",
     "output_type": "stream",
     "text": [
      "0    3205\n",
      "2    2373\n",
      "1     982\n",
      "Name: ESG_category, dtype: int64\n"
     ]
    }
   ],
   "source": [
    "df_dType = pd.DataFrame({'Target' : topic_vecs_df['ESG_category']})\n",
    "total_counts = len(topic_vecs_df)\n",
    "\n",
    "plt.figure(figsize=(12, 6))\n",
    "ax = sns.countplot(x='Target', data=df_dType)\n",
    "ax.set_title('Distributions of the ESG categories (based on LDAvis)', fontsize=14)\n",
    "for rectBox in ax.patches:\n",
    "    count = rectBox.get_height()\n",
    "    print(\"Counts :\", count)\n",
    "    \n",
    "    ax.text(rectBox.get_x() + rectBox.get_width()/2.,\n",
    "            count + 50,\n",
    "            '{:1.2f}%'.format(count/total_counts*100),\n",
    "            ha=\"center\", fontsize=11)\n",
    "\n",
    "# Change the x-labels\n",
    "plt.xticks(np.arange(3), (\"Environmental\", \"Social\", \"Governance\"))\n",
    "\n",
    "plt.savefig('ESG_distributions_LDAvis', facecolor='w')\n",
    "plt.show()\n",
    "\n",
    "print(topic_vecs_df['ESG_category'].value_counts())"
   ]
  },
  {
   "cell_type": "markdown",
   "metadata": {},
   "source": [
    "## 3.3 Feature Engineering and Context Association\n",
    "\n",
    "> Assumption : ESG words in each category from the provided ESG word data file\n",
    "> * Depending on highest matching ratio to create the target values (E=0, S=1, G=2)\n",
    "> * Label the documents with targets to be used for training and predictions"
   ]
  },
  {
   "cell_type": "code",
   "execution_count": 75,
   "metadata": {
    "execution": {
     "iopub.execute_input": "2022-04-01T15:56:50.898176Z",
     "iopub.status.busy": "2022-04-01T15:56:50.897927Z",
     "iopub.status.idle": "2022-04-01T15:56:50.904488Z",
     "shell.execute_reply": "2022-04-01T15:56:50.903426Z",
     "shell.execute_reply.started": "2022-04-01T15:56:50.898144Z"
    }
   },
   "outputs": [
    {
     "name": "stdout",
     "output_type": "stream",
     "text": [
      "Test document filename : 'LDAvis.pdf'\n",
      "Inferred topic category is 'E' based on maximum probability : 3.30%\n"
     ]
    },
    {
     "name": "stderr",
     "output_type": "stream",
     "text": [
      "C:\\NTU Tutorials\\Year 1\\Sem 2\\Data Science and AI\\DSAI\\Anaconda\\lib\\site-packages\\ipykernel\\ipkernel.py:287: DeprecationWarning: `should_run_async` will not call `transform_cell` automatically in the future. Please pass the result to `transformed_cell` argument and any exception that happen during thetransform in `preprocessing_exc_tuple` in IPython 7.17 and above.\n",
      "  and should_run_async(code)\n"
     ]
    }
   ],
   "source": [
    "test_list_words = test_lemmatized[0][:30]\n",
    "topic_category, max_ratio = predict_doc_category(test_list_words)  # ['memory', 'dynamic', 'parallel', 'distribute', 'bit']\n",
    "\n",
    "print(\"Test document filename : '{}'\".format(test_pdf_filename))\n",
    "print(\"Inferred topic category is '{}' based on maximum probability : {:.2f}%\".format(topic_category, max_ratio*100))"
   ]
  },
  {
   "cell_type": "code",
   "execution_count": 76,
   "metadata": {
    "execution": {
     "iopub.execute_input": "2022-04-01T15:56:50.906497Z",
     "iopub.status.busy": "2022-04-01T15:56:50.906027Z",
     "iopub.status.idle": "2022-04-01T15:56:50.916320Z",
     "shell.execute_reply": "2022-04-01T15:56:50.915778Z",
     "shell.execute_reply.started": "2022-04-01T15:56:50.906453Z"
    }
   },
   "outputs": [
    {
     "name": "stdout",
     "output_type": "stream",
     "text": [
      "['object', 'visual', 'detection', 'segmentation', 'scene', 'motion', 'pixel', 'shape', 'human', 'video', 'face', 'location', 'frame', 'spatial', 'color', 'pose', 'category', 'patch', 'cvpr', 'computer_vision', 'segment', 'fig', 'match', 'position', 'hash', 'detector', 'vision', 'surface', 'track', 'depth']\n"
     ]
    },
    {
     "name": "stderr",
     "output_type": "stream",
     "text": [
      "C:\\NTU Tutorials\\Year 1\\Sem 2\\Data Science and AI\\DSAI\\Anaconda\\lib\\site-packages\\ipykernel\\ipkernel.py:287: DeprecationWarning: `should_run_async` will not call `transform_cell` automatically in the future. Please pass the result to `transformed_cell` argument and any exception that happen during thetransform in `preprocessing_exc_tuple` in IPython 7.17 and above.\n",
      "  and should_run_async(code)\n"
     ]
    }
   ],
   "source": [
    "# Retrieve top words from topid_id and store in list for comparison with the ESG words\n",
    "def get_top_list_words(top_num_words: int, top_topic_words: list):\n",
    "    list_words = []\n",
    "    \n",
    "    for i in range(top_num_words):\n",
    "        # print(\"Extracted word_{} : {}\".format(i, top_topic_words[i][0]))\n",
    "        list_words.append(top_topic_words[i][0])\n",
    "    return list_words\n",
    "\n",
    "topic_id = 0\n",
    "top_num_words = 30\n",
    "top_topic_words = lda_baselined_model.show_topic(topicid=topic_id, topn=top_num_words)\n",
    "\n",
    "# Show the top 30 words from topicid = 0\n",
    "top_list_words = get_top_list_words(top_num_words, top_topic_words)\n",
    "print(top_list_words)"
   ]
  },
  {
   "cell_type": "code",
   "execution_count": 77,
   "metadata": {
    "execution": {
     "iopub.execute_input": "2022-04-01T15:56:50.917881Z",
     "iopub.status.busy": "2022-04-01T15:56:50.917650Z",
     "iopub.status.idle": "2022-04-01T15:57:02.150466Z",
     "shell.execute_reply": "2022-04-01T15:57:02.149501Z",
     "shell.execute_reply.started": "2022-04-01T15:56:50.917854Z"
    }
   },
   "outputs": [
    {
     "name": "stderr",
     "output_type": "stream",
     "text": [
      "C:\\NTU Tutorials\\Year 1\\Sem 2\\Data Science and AI\\DSAI\\Anaconda\\lib\\site-packages\\ipykernel\\ipkernel.py:287: DeprecationWarning: `should_run_async` will not call `transform_cell` automatically in the future. Please pass the result to `transformed_cell` argument and any exception that happen during thetransform in `preprocessing_exc_tuple` in IPython 7.17 and above.\n",
      "  and should_run_async(code)\n"
     ]
    },
    {
     "name": "stdout",
     "output_type": "stream",
     "text": [
      "Creating vectors for 6560 samples...\n",
      "No. of 6560 samples with 14 features\n",
      "\n",
      "First 5 samples of vector features:\n",
      "[[0.26416627, 0.053932417, 0.00010796893, 0.2882255, 0.06810474, 0.0937608, 0.043823905, 0.058900427, 0.034659933, 0.012908198, 0.026414756, 0.054995056, 21643, 2], [0.00014569159, 0.00014569641, 0.00014569517, 0.24188825, 0.00014569073, 0.00014569034, 0.0001456912, 0.0047734124, 0.00014569757, 0.029630745, 0.72254205, 0.00014569706, 15505, 1], [9.2741604e-05, 9.274511e-05, 9.274379e-05, 0.07712979, 9.274517e-05, 0.0029547845, 9.2744114e-05, 9.274496e-05, 9.274378e-05, 9.27429e-05, 0.90819144, 0.01098201, 20523, 1], [0.00017656392, 0.00017656804, 0.38992268, 0.06899624, 0.000176564, 0.027771013, 0.47081998, 0.03432305, 0.00017656466, 0.0001765695, 0.007107633, 0.00017656724, 19441, 0], [0.00019174292, 0.06754477, 0.016759114, 0.00019174092, 0.02844694, 0.00019173839, 0.866341, 0.00019173729, 0.00019173951, 0.019566009, 0.0001917392, 0.00019173947, 20219, 0]] \n",
      "Wall time: 31.7 s\n"
     ]
    }
   ],
   "source": [
    "%%time\n",
    "train_vecs = []\n",
    "max_prob_topic = []\n",
    "top_num_words = 30\n",
    "\n",
    "print(\"Creating vectors for {} samples...\".format(len(papers_text_df)))\n",
    "# For all papers\n",
    "for i in range(len(papers_text_df)): # 6560\n",
    "    top_topics = lda_baselined_model.get_document_topics(train_corpus[i], minimum_probability=0.0)\n",
    "    \n",
    "    # Get the topic distribution for each paper's text.\n",
    "    topic_vec = [top_topics[j][1] for j in range(optimal_num_topics)]\n",
    "        \n",
    "    # Save the topic with highest probability for each paper\n",
    "    topic_id, max_prob= max(top_topics, key=lambda item: item[1])\n",
    "    # print('Maximum probability:', max_prob, \"with topic:\", topic_id)\n",
    "    max_prob_topic.append(topic_id)\n",
    "    \n",
    "    # Extend with another feature vector, total characters in each document\n",
    "    topic_vec.extend([len(papers_text_df.iloc[i].paper_text)])\n",
    "    \n",
    "    # Create labels (0-2) based on assumptions that highest word ratio belonging to a provided ESG category words\n",
    "    # Label the documents with targets to be used for training and predictions\n",
    "    top_topic_words = lda_baselined_model.show_topic(topicid=topic_id, topn=top_num_words)\n",
    "    top_list_words = get_top_list_words(top_num_words, top_topic_words) \n",
    "    topic_category, max_ratio = predict_doc_category(top_list_words)\n",
    "    \n",
    "    if (topic_category == 'E'):\n",
    "        # 1 : Environmental\n",
    "        topic_vec.extend([0])\n",
    "    elif (topic_category == 'S'):\n",
    "        # 2 : Social\n",
    "        topic_vec.extend([1])\n",
    "    else: # topic_category == 'G'\n",
    "        # 3 : Governance\n",
    "        topic_vec.extend([2])\n",
    "    \n",
    "    train_vecs.append(topic_vec)\n",
    "    \n",
    "\n",
    "# Get the train_vecs to be used as features (7 topic vectors based on probability and paper text length)\n",
    "print(\"No. of {} samples with {} features\".format(len(train_vecs), len(train_vecs[0])))\n",
    "print()\n",
    "print(\"First 5 samples of vector features:\\n{} \".format(train_vecs[:5]))"
   ]
  },
  {
   "cell_type": "code",
   "execution_count": 81,
   "metadata": {
    "execution": {
     "iopub.execute_input": "2022-04-01T15:57:02.152078Z",
     "iopub.status.busy": "2022-04-01T15:57:02.151879Z",
     "iopub.status.idle": "2022-04-01T15:57:02.157568Z",
     "shell.execute_reply": "2022-04-01T15:57:02.156638Z",
     "shell.execute_reply.started": "2022-04-01T15:57:02.152054Z"
    }
   },
   "outputs": [
    {
     "name": "stdout",
     "output_type": "stream",
     "text": [
      "There are 6560 documents and the first 10 samples having topics with max prob :\n",
      "[3, 10, 10, 6, 6, 0, 10, 3, 3, 3]\n"
     ]
    },
    {
     "name": "stderr",
     "output_type": "stream",
     "text": [
      "C:\\NTU Tutorials\\Year 1\\Sem 2\\Data Science and AI\\DSAI\\Anaconda\\lib\\site-packages\\ipykernel\\ipkernel.py:287: DeprecationWarning: `should_run_async` will not call `transform_cell` automatically in the future. Please pass the result to `transformed_cell` argument and any exception that happen during thetransform in `preprocessing_exc_tuple` in IPython 7.17 and above.\n",
      "  and should_run_async(code)\n"
     ]
    }
   ],
   "source": [
    "print(\"There are {} documents and the first 10 samples having topics with max prob :\\n{}\".format(len(max_prob_topic),\n",
    "                                                                                                 max_prob_topic[:10]))"
   ]
  },
  {
   "cell_type": "code",
   "execution_count": 82,
   "metadata": {
    "execution": {
     "iopub.execute_input": "2022-04-01T15:57:02.159355Z",
     "iopub.status.busy": "2022-04-01T15:57:02.158967Z",
     "iopub.status.idle": "2022-04-01T15:57:02.205860Z",
     "shell.execute_reply": "2022-04-01T15:57:02.204996Z",
     "shell.execute_reply.started": "2022-04-01T15:57:02.159314Z"
    }
   },
   "outputs": [
    {
     "name": "stderr",
     "output_type": "stream",
     "text": [
      "C:\\NTU Tutorials\\Year 1\\Sem 2\\Data Science and AI\\DSAI\\Anaconda\\lib\\site-packages\\ipykernel\\ipkernel.py:287: DeprecationWarning: `should_run_async` will not call `transform_cell` automatically in the future. Please pass the result to `transformed_cell` argument and any exception that happen during thetransform in `preprocessing_exc_tuple` in IPython 7.17 and above.\n",
      "  and should_run_async(code)\n"
     ]
    },
    {
     "data": {
      "text/html": [
       "<div>\n",
       "<style scoped>\n",
       "    .dataframe tbody tr th:only-of-type {\n",
       "        vertical-align: middle;\n",
       "    }\n",
       "\n",
       "    .dataframe tbody tr th {\n",
       "        vertical-align: top;\n",
       "    }\n",
       "\n",
       "    .dataframe thead th {\n",
       "        text-align: right;\n",
       "    }\n",
       "</style>\n",
       "<table border=\"1\" class=\"dataframe\">\n",
       "  <thead>\n",
       "    <tr style=\"text-align: right;\">\n",
       "      <th></th>\n",
       "      <th>topic_vec_0</th>\n",
       "      <th>topic_vec_1</th>\n",
       "      <th>topic_vec_2</th>\n",
       "      <th>topic_vec_3</th>\n",
       "      <th>topic_vec_4</th>\n",
       "      <th>topic_vec_5</th>\n",
       "      <th>topic_vec_6</th>\n",
       "      <th>topic_vec_7</th>\n",
       "      <th>topic_vec_8</th>\n",
       "      <th>topic_vec_9</th>\n",
       "      <th>topic_vec_10</th>\n",
       "      <th>topic_vec_11</th>\n",
       "      <th>total_chars</th>\n",
       "      <th>ESG_category</th>\n",
       "    </tr>\n",
       "  </thead>\n",
       "  <tbody>\n",
       "    <tr>\n",
       "      <th>0</th>\n",
       "      <td>0.264166</td>\n",
       "      <td>0.053932</td>\n",
       "      <td>0.000108</td>\n",
       "      <td>0.288226</td>\n",
       "      <td>0.068105</td>\n",
       "      <td>0.093761</td>\n",
       "      <td>0.043824</td>\n",
       "      <td>0.058900</td>\n",
       "      <td>0.034660</td>\n",
       "      <td>0.012908</td>\n",
       "      <td>0.026415</td>\n",
       "      <td>0.054995</td>\n",
       "      <td>21643</td>\n",
       "      <td>2</td>\n",
       "    </tr>\n",
       "    <tr>\n",
       "      <th>1</th>\n",
       "      <td>0.000146</td>\n",
       "      <td>0.000146</td>\n",
       "      <td>0.000146</td>\n",
       "      <td>0.241888</td>\n",
       "      <td>0.000146</td>\n",
       "      <td>0.000146</td>\n",
       "      <td>0.000146</td>\n",
       "      <td>0.004773</td>\n",
       "      <td>0.000146</td>\n",
       "      <td>0.029631</td>\n",
       "      <td>0.722542</td>\n",
       "      <td>0.000146</td>\n",
       "      <td>15505</td>\n",
       "      <td>1</td>\n",
       "    </tr>\n",
       "    <tr>\n",
       "      <th>2</th>\n",
       "      <td>0.000093</td>\n",
       "      <td>0.000093</td>\n",
       "      <td>0.000093</td>\n",
       "      <td>0.077130</td>\n",
       "      <td>0.000093</td>\n",
       "      <td>0.002955</td>\n",
       "      <td>0.000093</td>\n",
       "      <td>0.000093</td>\n",
       "      <td>0.000093</td>\n",
       "      <td>0.000093</td>\n",
       "      <td>0.908191</td>\n",
       "      <td>0.010982</td>\n",
       "      <td>20523</td>\n",
       "      <td>1</td>\n",
       "    </tr>\n",
       "    <tr>\n",
       "      <th>3</th>\n",
       "      <td>0.000177</td>\n",
       "      <td>0.000177</td>\n",
       "      <td>0.389923</td>\n",
       "      <td>0.068996</td>\n",
       "      <td>0.000177</td>\n",
       "      <td>0.027771</td>\n",
       "      <td>0.470820</td>\n",
       "      <td>0.034323</td>\n",
       "      <td>0.000177</td>\n",
       "      <td>0.000177</td>\n",
       "      <td>0.007108</td>\n",
       "      <td>0.000177</td>\n",
       "      <td>19441</td>\n",
       "      <td>0</td>\n",
       "    </tr>\n",
       "    <tr>\n",
       "      <th>4</th>\n",
       "      <td>0.000192</td>\n",
       "      <td>0.067545</td>\n",
       "      <td>0.016759</td>\n",
       "      <td>0.000192</td>\n",
       "      <td>0.028447</td>\n",
       "      <td>0.000192</td>\n",
       "      <td>0.866341</td>\n",
       "      <td>0.000192</td>\n",
       "      <td>0.000192</td>\n",
       "      <td>0.019566</td>\n",
       "      <td>0.000192</td>\n",
       "      <td>0.000192</td>\n",
       "      <td>20219</td>\n",
       "      <td>0</td>\n",
       "    </tr>\n",
       "    <tr>\n",
       "      <th>5</th>\n",
       "      <td>0.378386</td>\n",
       "      <td>0.014984</td>\n",
       "      <td>0.110936</td>\n",
       "      <td>0.094038</td>\n",
       "      <td>0.000130</td>\n",
       "      <td>0.000130</td>\n",
       "      <td>0.071143</td>\n",
       "      <td>0.000130</td>\n",
       "      <td>0.000130</td>\n",
       "      <td>0.317644</td>\n",
       "      <td>0.000130</td>\n",
       "      <td>0.012218</td>\n",
       "      <td>22451</td>\n",
       "      <td>1</td>\n",
       "    </tr>\n",
       "    <tr>\n",
       "      <th>6</th>\n",
       "      <td>0.000207</td>\n",
       "      <td>0.000207</td>\n",
       "      <td>0.049128</td>\n",
       "      <td>0.160407</td>\n",
       "      <td>0.005050</td>\n",
       "      <td>0.000207</td>\n",
       "      <td>0.058862</td>\n",
       "      <td>0.000207</td>\n",
       "      <td>0.000207</td>\n",
       "      <td>0.240638</td>\n",
       "      <td>0.351084</td>\n",
       "      <td>0.133797</td>\n",
       "      <td>13053</td>\n",
       "      <td>1</td>\n",
       "    </tr>\n",
       "    <tr>\n",
       "      <th>7</th>\n",
       "      <td>0.006501</td>\n",
       "      <td>0.003319</td>\n",
       "      <td>0.000141</td>\n",
       "      <td>0.666157</td>\n",
       "      <td>0.107482</td>\n",
       "      <td>0.118448</td>\n",
       "      <td>0.089863</td>\n",
       "      <td>0.000141</td>\n",
       "      <td>0.000141</td>\n",
       "      <td>0.000141</td>\n",
       "      <td>0.007523</td>\n",
       "      <td>0.000141</td>\n",
       "      <td>17870</td>\n",
       "      <td>2</td>\n",
       "    </tr>\n",
       "    <tr>\n",
       "      <th>8</th>\n",
       "      <td>0.203139</td>\n",
       "      <td>0.000144</td>\n",
       "      <td>0.000144</td>\n",
       "      <td>0.708327</td>\n",
       "      <td>0.056702</td>\n",
       "      <td>0.015382</td>\n",
       "      <td>0.000144</td>\n",
       "      <td>0.000144</td>\n",
       "      <td>0.000144</td>\n",
       "      <td>0.015442</td>\n",
       "      <td>0.000144</td>\n",
       "      <td>0.000144</td>\n",
       "      <td>17312</td>\n",
       "      <td>2</td>\n",
       "    </tr>\n",
       "    <tr>\n",
       "      <th>9</th>\n",
       "      <td>0.079937</td>\n",
       "      <td>0.000075</td>\n",
       "      <td>0.000075</td>\n",
       "      <td>0.858047</td>\n",
       "      <td>0.045553</td>\n",
       "      <td>0.008572</td>\n",
       "      <td>0.000075</td>\n",
       "      <td>0.000075</td>\n",
       "      <td>0.000075</td>\n",
       "      <td>0.007369</td>\n",
       "      <td>0.000075</td>\n",
       "      <td>0.000075</td>\n",
       "      <td>31503</td>\n",
       "      <td>2</td>\n",
       "    </tr>\n",
       "  </tbody>\n",
       "</table>\n",
       "</div>"
      ],
      "text/plain": [
       "   topic_vec_0  topic_vec_1  topic_vec_2  topic_vec_3  topic_vec_4  \\\n",
       "0     0.264166     0.053932     0.000108     0.288226     0.068105   \n",
       "1     0.000146     0.000146     0.000146     0.241888     0.000146   \n",
       "2     0.000093     0.000093     0.000093     0.077130     0.000093   \n",
       "3     0.000177     0.000177     0.389923     0.068996     0.000177   \n",
       "4     0.000192     0.067545     0.016759     0.000192     0.028447   \n",
       "5     0.378386     0.014984     0.110936     0.094038     0.000130   \n",
       "6     0.000207     0.000207     0.049128     0.160407     0.005050   \n",
       "7     0.006501     0.003319     0.000141     0.666157     0.107482   \n",
       "8     0.203139     0.000144     0.000144     0.708327     0.056702   \n",
       "9     0.079937     0.000075     0.000075     0.858047     0.045553   \n",
       "\n",
       "   topic_vec_5  topic_vec_6  topic_vec_7  topic_vec_8  topic_vec_9  \\\n",
       "0     0.093761     0.043824     0.058900     0.034660     0.012908   \n",
       "1     0.000146     0.000146     0.004773     0.000146     0.029631   \n",
       "2     0.002955     0.000093     0.000093     0.000093     0.000093   \n",
       "3     0.027771     0.470820     0.034323     0.000177     0.000177   \n",
       "4     0.000192     0.866341     0.000192     0.000192     0.019566   \n",
       "5     0.000130     0.071143     0.000130     0.000130     0.317644   \n",
       "6     0.000207     0.058862     0.000207     0.000207     0.240638   \n",
       "7     0.118448     0.089863     0.000141     0.000141     0.000141   \n",
       "8     0.015382     0.000144     0.000144     0.000144     0.015442   \n",
       "9     0.008572     0.000075     0.000075     0.000075     0.007369   \n",
       "\n",
       "   topic_vec_10  topic_vec_11  total_chars  ESG_category  \n",
       "0      0.026415      0.054995        21643             2  \n",
       "1      0.722542      0.000146        15505             1  \n",
       "2      0.908191      0.010982        20523             1  \n",
       "3      0.007108      0.000177        19441             0  \n",
       "4      0.000192      0.000192        20219             0  \n",
       "5      0.000130      0.012218        22451             1  \n",
       "6      0.351084      0.133797        13053             1  \n",
       "7      0.007523      0.000141        17870             2  \n",
       "8      0.000144      0.000144        17312             2  \n",
       "9      0.000075      0.000075        31503             2  "
      ]
     },
     "execution_count": 82,
     "metadata": {},
     "output_type": "execute_result"
    }
   ],
   "source": [
    "# Create dataframe for topic vectors, total_chars and ESG_category\n",
    "topic_vecs_df = pd.DataFrame(train_vecs, columns=col_names)\n",
    "topic_vecs_df[:10]"
   ]
  },
  {
   "cell_type": "code",
   "execution_count": 83,
   "metadata": {
    "execution": {
     "iopub.execute_input": "2022-04-01T15:57:02.207333Z",
     "iopub.status.busy": "2022-04-01T15:57:02.207095Z",
     "iopub.status.idle": "2022-04-01T15:57:02.490803Z",
     "shell.execute_reply": "2022-04-01T15:57:02.489883Z",
     "shell.execute_reply.started": "2022-04-01T15:57:02.207304Z"
    }
   },
   "outputs": [
    {
     "name": "stderr",
     "output_type": "stream",
     "text": [
      "C:\\NTU Tutorials\\Year 1\\Sem 2\\Data Science and AI\\DSAI\\Anaconda\\lib\\site-packages\\ipykernel\\ipkernel.py:287: DeprecationWarning: `should_run_async` will not call `transform_cell` automatically in the future. Please pass the result to `transformed_cell` argument and any exception that happen during thetransform in `preprocessing_exc_tuple` in IPython 7.17 and above.\n",
      "  and should_run_async(code)\n"
     ]
    },
    {
     "name": "stdout",
     "output_type": "stream",
     "text": [
      "Counts : 2636\n",
      "Counts : 1747\n",
      "Counts : 2177\n"
     ]
    },
    {
     "data": {
      "image/png": "[encoded data removed]",
      "text/plain": [
       "<Figure size 864x432 with 1 Axes>"
      ]
     },
     "metadata": {
      "needs_background": "light"
     },
     "output_type": "display_data"
    },
    {
     "name": "stdout",
     "output_type": "stream",
     "text": [
      "0    2636\n",
      "2    2177\n",
      "1    1747\n",
      "Name: ESG_category, dtype: int64\n"
     ]
    }
   ],
   "source": [
    "df_dType = pd.DataFrame({'Target' : topic_vecs_df['ESG_category']})\n",
    "total_counts = len(topic_vecs_df)\n",
    "\n",
    "plt.figure(figsize=(12, 6))\n",
    "ax = sns.countplot(x='Target', data=df_dType)\n",
    "ax.set_title('Distributions of the ESG categories (based on max ratio)', fontsize=14)\n",
    "for rectBox in ax.patches:\n",
    "    count = rectBox.get_height()\n",
    "    print(\"Counts :\", count)\n",
    "    \n",
    "    ax.text(rectBox.get_x() + rectBox.get_width()/2.,\n",
    "            count + 50,\n",
    "            '{:1.2f}%'.format(count/total_counts*100),\n",
    "            ha=\"center\", fontsize=11)\n",
    "\n",
    "# Change the x-labels\n",
    "plt.xticks(np.arange(3), (\"Environmental\", \"Social\", \"Governance\"))\n",
    "\n",
    "plt.savefig('ESG_distributions_max_ratio', facecolor='w')\n",
    "plt.show()\n",
    "\n",
    "print(topic_vecs_df['ESG_category'].value_counts())"
   ]
  },
  {
   "cell_type": "markdown",
   "metadata": {},
   "source": [
    "## 4. Multi-class Classifications"
   ]
  },
  {
   "cell_type": "code",
   "execution_count": 84,
   "metadata": {
    "execution": {
     "iopub.execute_input": "2022-04-01T15:57:02.492489Z",
     "iopub.status.busy": "2022-04-01T15:57:02.492006Z",
     "iopub.status.idle": "2022-04-01T15:57:02.500351Z",
     "shell.execute_reply": "2022-04-01T15:57:02.499434Z",
     "shell.execute_reply.started": "2022-04-01T15:57:02.492447Z"
    }
   },
   "outputs": [
    {
     "name": "stderr",
     "output_type": "stream",
     "text": [
      "C:\\NTU Tutorials\\Year 1\\Sem 2\\Data Science and AI\\DSAI\\Anaconda\\lib\\site-packages\\ipykernel\\ipkernel.py:287: DeprecationWarning: `should_run_async` will not call `transform_cell` automatically in the future. Please pass the result to `transformed_cell` argument and any exception that happen during thetransform in `preprocessing_exc_tuple` in IPython 7.17 and above.\n",
      "  and should_run_async(code)\n"
     ]
    },
    {
     "data": {
      "text/plain": [
       "((6560, 13), (6560,))"
      ]
     },
     "execution_count": 84,
     "metadata": {},
     "output_type": "execute_result"
    }
   ],
   "source": [
    "X = topic_vecs_df.drop(columns=['ESG_category'], axis=1)\n",
    "y = topic_vecs_df['ESG_category']\n",
    "X.shape, y.shape"
   ]
  },
  {
   "cell_type": "code",
   "execution_count": 87,
   "metadata": {},
   "outputs": [
    {
     "name": "stderr",
     "output_type": "stream",
     "text": [
      "C:\\NTU Tutorials\\Year 1\\Sem 2\\Data Science and AI\\DSAI\\Anaconda\\lib\\site-packages\\ipykernel\\ipkernel.py:287: DeprecationWarning: `should_run_async` will not call `transform_cell` automatically in the future. Please pass the result to `transformed_cell` argument and any exception that happen during thetransform in `preprocessing_exc_tuple` in IPython 7.17 and above.\n",
      "  and should_run_async(code)\n"
     ]
    },
    {
     "name": "stdout",
     "output_type": "stream",
     "text": [
      "Collecting lightgbm\n",
      "  Downloading lightgbm-3.3.2-py3-none-win_amd64.whl (1.0 MB)\n",
      "Requirement already satisfied: wheel in c:\\ntu tutorials\\year 1\\sem 2\\data science and ai\\dsai\\anaconda\\lib\\site-packages (from lightgbm) (0.35.1)\n",
      "Requirement already satisfied: numpy in c:\\ntu tutorials\\year 1\\sem 2\\data science and ai\\dsai\\anaconda\\lib\\site-packages (from lightgbm) (1.22.3)\n",
      "Requirement already satisfied: scikit-learn!=0.22.0 in c:\\ntu tutorials\\year 1\\sem 2\\data science and ai\\dsai\\anaconda\\lib\\site-packages (from lightgbm) (0.23.2)\n",
      "Requirement already satisfied: scipy in c:\\ntu tutorials\\year 1\\sem 2\\data science and ai\\dsai\\anaconda\\lib\\site-packages (from lightgbm) (1.5.2)\n",
      "Requirement already satisfied: joblib>=0.11 in c:\\ntu tutorials\\year 1\\sem 2\\data science and ai\\dsai\\anaconda\\lib\\site-packages (from scikit-learn!=0.22.0->lightgbm) (0.17.0)\n",
      "Requirement already satisfied: threadpoolctl>=2.0.0 in c:\\ntu tutorials\\year 1\\sem 2\\data science and ai\\dsai\\anaconda\\lib\\site-packages (from scikit-learn!=0.22.0->lightgbm) (2.1.0)\n",
      "Installing collected packages: lightgbm\n",
      "Successfully installed lightgbm-3.3.2\n"
     ]
    }
   ],
   "source": [
    "!pip install lightgbm"
   ]
  },
  {
   "cell_type": "code",
   "execution_count": 88,
   "metadata": {
    "execution": {
     "iopub.execute_input": "2022-04-01T15:57:02.501816Z",
     "iopub.status.busy": "2022-04-01T15:57:02.501575Z",
     "iopub.status.idle": "2022-04-01T15:57:03.405479Z",
     "shell.execute_reply": "2022-04-01T15:57:03.404506Z",
     "shell.execute_reply.started": "2022-04-01T15:57:02.501789Z"
    }
   },
   "outputs": [
    {
     "name": "stderr",
     "output_type": "stream",
     "text": [
      "C:\\NTU Tutorials\\Year 1\\Sem 2\\Data Science and AI\\DSAI\\Anaconda\\lib\\site-packages\\ipykernel\\ipkernel.py:287: DeprecationWarning: `should_run_async` will not call `transform_cell` automatically in the future. Please pass the result to `transformed_cell` argument and any exception that happen during thetransform in `preprocessing_exc_tuple` in IPython 7.17 and above.\n",
      "  and should_run_async(code)\n",
      "C:\\NTU Tutorials\\Year 1\\Sem 2\\Data Science and AI\\DSAI\\Anaconda\\lib\\site-packages\\dask\\dataframe\\utils.py:367: FutureWarning: pandas.Int64Index is deprecated and will be removed from pandas in a future version. Use pandas.Index with the appropriate dtype instead.\n",
      "  _numeric_index_types = (pd.Int64Index, pd.Float64Index, pd.UInt64Index)\n",
      "C:\\NTU Tutorials\\Year 1\\Sem 2\\Data Science and AI\\DSAI\\Anaconda\\lib\\site-packages\\dask\\dataframe\\utils.py:367: FutureWarning: pandas.Float64Index is deprecated and will be removed from pandas in a future version. Use pandas.Index with the appropriate dtype instead.\n",
      "  _numeric_index_types = (pd.Int64Index, pd.Float64Index, pd.UInt64Index)\n",
      "C:\\NTU Tutorials\\Year 1\\Sem 2\\Data Science and AI\\DSAI\\Anaconda\\lib\\site-packages\\dask\\dataframe\\utils.py:367: FutureWarning: pandas.UInt64Index is deprecated and will be removed from pandas in a future version. Use pandas.Index with the appropriate dtype instead.\n",
      "  _numeric_index_types = (pd.Int64Index, pd.Float64Index, pd.UInt64Index)\n"
     ]
    },
    {
     "data": {
      "text/html": [
       "<div>\n",
       "<style scoped>\n",
       "    .dataframe tbody tr th:only-of-type {\n",
       "        vertical-align: middle;\n",
       "    }\n",
       "\n",
       "    .dataframe tbody tr th {\n",
       "        vertical-align: top;\n",
       "    }\n",
       "\n",
       "    .dataframe thead th {\n",
       "        text-align: right;\n",
       "    }\n",
       "</style>\n",
       "<table border=\"1\" class=\"dataframe\">\n",
       "  <thead>\n",
       "    <tr style=\"text-align: right;\">\n",
       "      <th></th>\n",
       "      <th>topic_vec_0</th>\n",
       "      <th>topic_vec_1</th>\n",
       "      <th>topic_vec_2</th>\n",
       "      <th>topic_vec_3</th>\n",
       "      <th>topic_vec_4</th>\n",
       "      <th>topic_vec_5</th>\n",
       "      <th>topic_vec_6</th>\n",
       "      <th>topic_vec_7</th>\n",
       "      <th>topic_vec_8</th>\n",
       "      <th>topic_vec_9</th>\n",
       "      <th>topic_vec_10</th>\n",
       "      <th>topic_vec_11</th>\n",
       "      <th>total_chars</th>\n",
       "    </tr>\n",
       "  </thead>\n",
       "  <tbody>\n",
       "    <tr>\n",
       "      <th>6399</th>\n",
       "      <td>0.000118</td>\n",
       "      <td>0.000118</td>\n",
       "      <td>0.000118</td>\n",
       "      <td>0.101178</td>\n",
       "      <td>0.000118</td>\n",
       "      <td>0.000118</td>\n",
       "      <td>0.025043</td>\n",
       "      <td>0.000118</td>\n",
       "      <td>0.013312</td>\n",
       "      <td>0.000118</td>\n",
       "      <td>0.859524</td>\n",
       "      <td>0.000118</td>\n",
       "      <td>18966</td>\n",
       "    </tr>\n",
       "    <tr>\n",
       "      <th>5623</th>\n",
       "      <td>0.010343</td>\n",
       "      <td>0.126630</td>\n",
       "      <td>0.010835</td>\n",
       "      <td>0.000066</td>\n",
       "      <td>0.000066</td>\n",
       "      <td>0.000066</td>\n",
       "      <td>0.000066</td>\n",
       "      <td>0.057161</td>\n",
       "      <td>0.000185</td>\n",
       "      <td>0.000066</td>\n",
       "      <td>0.000066</td>\n",
       "      <td>0.794454</td>\n",
       "      <td>39820</td>\n",
       "    </tr>\n",
       "    <tr>\n",
       "      <th>5141</th>\n",
       "      <td>0.000064</td>\n",
       "      <td>0.006276</td>\n",
       "      <td>0.146823</td>\n",
       "      <td>0.020255</td>\n",
       "      <td>0.011930</td>\n",
       "      <td>0.438299</td>\n",
       "      <td>0.088076</td>\n",
       "      <td>0.067406</td>\n",
       "      <td>0.016479</td>\n",
       "      <td>0.134208</td>\n",
       "      <td>0.015869</td>\n",
       "      <td>0.054314</td>\n",
       "      <td>37581</td>\n",
       "    </tr>\n",
       "    <tr>\n",
       "      <th>6505</th>\n",
       "      <td>0.210943</td>\n",
       "      <td>0.000113</td>\n",
       "      <td>0.014596</td>\n",
       "      <td>0.089102</td>\n",
       "      <td>0.000113</td>\n",
       "      <td>0.027766</td>\n",
       "      <td>0.000113</td>\n",
       "      <td>0.010575</td>\n",
       "      <td>0.000113</td>\n",
       "      <td>0.000113</td>\n",
       "      <td>0.646340</td>\n",
       "      <td>0.000113</td>\n",
       "      <td>21404</td>\n",
       "    </tr>\n",
       "    <tr>\n",
       "      <th>4952</th>\n",
       "      <td>0.000095</td>\n",
       "      <td>0.000095</td>\n",
       "      <td>0.795480</td>\n",
       "      <td>0.000095</td>\n",
       "      <td>0.000095</td>\n",
       "      <td>0.000095</td>\n",
       "      <td>0.086600</td>\n",
       "      <td>0.044625</td>\n",
       "      <td>0.028131</td>\n",
       "      <td>0.000095</td>\n",
       "      <td>0.000095</td>\n",
       "      <td>0.044502</td>\n",
       "      <td>30527</td>\n",
       "    </tr>\n",
       "    <tr>\n",
       "      <th>...</th>\n",
       "      <td>...</td>\n",
       "      <td>...</td>\n",
       "      <td>...</td>\n",
       "      <td>...</td>\n",
       "      <td>...</td>\n",
       "      <td>...</td>\n",
       "      <td>...</td>\n",
       "      <td>...</td>\n",
       "      <td>...</td>\n",
       "      <td>...</td>\n",
       "      <td>...</td>\n",
       "      <td>...</td>\n",
       "      <td>...</td>\n",
       "    </tr>\n",
       "    <tr>\n",
       "      <th>3772</th>\n",
       "      <td>0.000104</td>\n",
       "      <td>0.076246</td>\n",
       "      <td>0.000104</td>\n",
       "      <td>0.000104</td>\n",
       "      <td>0.000104</td>\n",
       "      <td>0.000104</td>\n",
       "      <td>0.020717</td>\n",
       "      <td>0.902097</td>\n",
       "      <td>0.000104</td>\n",
       "      <td>0.000104</td>\n",
       "      <td>0.000104</td>\n",
       "      <td>0.000104</td>\n",
       "      <td>32650</td>\n",
       "    </tr>\n",
       "    <tr>\n",
       "      <th>5191</th>\n",
       "      <td>0.212784</td>\n",
       "      <td>0.000130</td>\n",
       "      <td>0.009279</td>\n",
       "      <td>0.203474</td>\n",
       "      <td>0.044700</td>\n",
       "      <td>0.036439</td>\n",
       "      <td>0.082769</td>\n",
       "      <td>0.000130</td>\n",
       "      <td>0.000130</td>\n",
       "      <td>0.402233</td>\n",
       "      <td>0.007801</td>\n",
       "      <td>0.000130</td>\n",
       "      <td>20124</td>\n",
       "    </tr>\n",
       "    <tr>\n",
       "      <th>5226</th>\n",
       "      <td>0.004698</td>\n",
       "      <td>0.656460</td>\n",
       "      <td>0.000089</td>\n",
       "      <td>0.193458</td>\n",
       "      <td>0.000089</td>\n",
       "      <td>0.004227</td>\n",
       "      <td>0.000089</td>\n",
       "      <td>0.059310</td>\n",
       "      <td>0.047321</td>\n",
       "      <td>0.000089</td>\n",
       "      <td>0.000089</td>\n",
       "      <td>0.034080</td>\n",
       "      <td>36551</td>\n",
       "    </tr>\n",
       "    <tr>\n",
       "      <th>5390</th>\n",
       "      <td>0.000159</td>\n",
       "      <td>0.000159</td>\n",
       "      <td>0.000159</td>\n",
       "      <td>0.734432</td>\n",
       "      <td>0.000159</td>\n",
       "      <td>0.000159</td>\n",
       "      <td>0.025764</td>\n",
       "      <td>0.000159</td>\n",
       "      <td>0.024000</td>\n",
       "      <td>0.194685</td>\n",
       "      <td>0.020006</td>\n",
       "      <td>0.000159</td>\n",
       "      <td>15469</td>\n",
       "    </tr>\n",
       "    <tr>\n",
       "      <th>860</th>\n",
       "      <td>0.000151</td>\n",
       "      <td>0.057339</td>\n",
       "      <td>0.000151</td>\n",
       "      <td>0.003990</td>\n",
       "      <td>0.019798</td>\n",
       "      <td>0.000151</td>\n",
       "      <td>0.398048</td>\n",
       "      <td>0.000151</td>\n",
       "      <td>0.218866</td>\n",
       "      <td>0.262166</td>\n",
       "      <td>0.000151</td>\n",
       "      <td>0.039038</td>\n",
       "      <td>21616</td>\n",
       "    </tr>\n",
       "  </tbody>\n",
       "</table>\n",
       "<p>4592 rows × 13 columns</p>\n",
       "</div>"
      ],
      "text/plain": [
       "      topic_vec_0  topic_vec_1  topic_vec_2  topic_vec_3  topic_vec_4  \\\n",
       "6399     0.000118     0.000118     0.000118     0.101178     0.000118   \n",
       "5623     0.010343     0.126630     0.010835     0.000066     0.000066   \n",
       "5141     0.000064     0.006276     0.146823     0.020255     0.011930   \n",
       "6505     0.210943     0.000113     0.014596     0.089102     0.000113   \n",
       "4952     0.000095     0.000095     0.795480     0.000095     0.000095   \n",
       "...           ...          ...          ...          ...          ...   \n",
       "3772     0.000104     0.076246     0.000104     0.000104     0.000104   \n",
       "5191     0.212784     0.000130     0.009279     0.203474     0.044700   \n",
       "5226     0.004698     0.656460     0.000089     0.193458     0.000089   \n",
       "5390     0.000159     0.000159     0.000159     0.734432     0.000159   \n",
       "860      0.000151     0.057339     0.000151     0.003990     0.019798   \n",
       "\n",
       "      topic_vec_5  topic_vec_6  topic_vec_7  topic_vec_8  topic_vec_9  \\\n",
       "6399     0.000118     0.025043     0.000118     0.013312     0.000118   \n",
       "5623     0.000066     0.000066     0.057161     0.000185     0.000066   \n",
       "5141     0.438299     0.088076     0.067406     0.016479     0.134208   \n",
       "6505     0.027766     0.000113     0.010575     0.000113     0.000113   \n",
       "4952     0.000095     0.086600     0.044625     0.028131     0.000095   \n",
       "...           ...          ...          ...          ...          ...   \n",
       "3772     0.000104     0.020717     0.902097     0.000104     0.000104   \n",
       "5191     0.036439     0.082769     0.000130     0.000130     0.402233   \n",
       "5226     0.004227     0.000089     0.059310     0.047321     0.000089   \n",
       "5390     0.000159     0.025764     0.000159     0.024000     0.194685   \n",
       "860      0.000151     0.398048     0.000151     0.218866     0.262166   \n",
       "\n",
       "      topic_vec_10  topic_vec_11  total_chars  \n",
       "6399      0.859524      0.000118        18966  \n",
       "5623      0.000066      0.794454        39820  \n",
       "5141      0.015869      0.054314        37581  \n",
       "6505      0.646340      0.000113        21404  \n",
       "4952      0.000095      0.044502        30527  \n",
       "...            ...           ...          ...  \n",
       "3772      0.000104      0.000104        32650  \n",
       "5191      0.007801      0.000130        20124  \n",
       "5226      0.000089      0.034080        36551  \n",
       "5390      0.020006      0.000159        15469  \n",
       "860       0.000151      0.039038        21616  \n",
       "\n",
       "[4592 rows x 13 columns]"
      ]
     },
     "execution_count": 88,
     "metadata": {},
     "output_type": "execute_result"
    }
   ],
   "source": [
    "import lightgbm as lgb\n",
    "from sklearn.model_selection import train_test_split\n",
    "from sklearn.preprocessing import StandardScaler\n",
    "from sklearn.metrics import mean_squared_error, roc_auc_score, precision_score\n",
    "# pd.options.display_max_colums = 999\n",
    "\n",
    "# Standardize features by removing the mean and scaling to unit variance does not have any difference\n",
    "# std_scaler = StandardScaler()\n",
    "# std_scaler.fit(X)\n",
    "# X_scaled = pd.DataFrame(std_scaler.fit_transform(X))\n",
    "\n",
    "# Train-Test-Split (0.7, 03)\n",
    "X_train, X_test, y_train, y_test = train_test_split(X, y, test_size=0.3, random_state=42) # X_scaled\n",
    "\n",
    "# Converting the dataset into LightGBM format\n",
    "lgb_dataset = lgb.Dataset(X_train, label=y_train)\n",
    "X_train"
   ]
  },
  {
   "cell_type": "code",
   "execution_count": 89,
   "metadata": {
    "execution": {
     "iopub.execute_input": "2022-04-01T15:57:03.406956Z",
     "iopub.status.busy": "2022-04-01T15:57:03.406734Z",
     "iopub.status.idle": "2022-04-01T15:57:03.414516Z",
     "shell.execute_reply": "2022-04-01T15:57:03.413654Z",
     "shell.execute_reply.started": "2022-04-01T15:57:03.406930Z"
    }
   },
   "outputs": [
    {
     "name": "stderr",
     "output_type": "stream",
     "text": [
      "C:\\NTU Tutorials\\Year 1\\Sem 2\\Data Science and AI\\DSAI\\Anaconda\\lib\\site-packages\\ipykernel\\ipkernel.py:287: DeprecationWarning: `should_run_async` will not call `transform_cell` automatically in the future. Please pass the result to `transformed_cell` argument and any exception that happen during thetransform in `preprocessing_exc_tuple` in IPython 7.17 and above.\n",
      "  and should_run_async(code)\n"
     ]
    },
    {
     "data": {
      "text/plain": [
       "{'learning_rate': 0.03,\n",
       " 'boosting_type': 'gbdt',\n",
       " 'objective': 'multiclass',\n",
       " 'metric': 'multi_logloss',\n",
       " 'max_depth': 10,\n",
       " 'num_class': 3}"
      ]
     },
     "execution_count": 89,
     "metadata": {},
     "output_type": "execute_result"
    }
   ],
   "source": [
    "lgb_params = {}\n",
    "lgb_params['learning_rate']=0.03\n",
    "lgb_params['boosting_type']='gbdt'      # Gradient Boosting Decision Tree as the base algorithm\n",
    "lgb_params['objective'] = 'multiclass'  # Multi-class target\n",
    "lgb_params['metric'] = 'multi_logloss'  # Metric for Multi-class Classification\n",
    "lgb_params['max_depth'] = 10            # Max. depth for decision tree\n",
    "lgb_params['num_class'] = 3             # No. of class\n",
    "lgb_params"
   ]
  },
  {
   "cell_type": "code",
   "execution_count": 90,
   "metadata": {
    "execution": {
     "iopub.execute_input": "2022-04-01T15:57:03.416334Z",
     "iopub.status.busy": "2022-04-01T15:57:03.416052Z",
     "iopub.status.idle": "2022-04-01T15:57:03.915714Z",
     "shell.execute_reply": "2022-04-01T15:57:03.914971Z",
     "shell.execute_reply.started": "2022-04-01T15:57:03.416304Z"
    }
   },
   "outputs": [
    {
     "name": "stderr",
     "output_type": "stream",
     "text": [
      "C:\\NTU Tutorials\\Year 1\\Sem 2\\Data Science and AI\\DSAI\\Anaconda\\lib\\site-packages\\ipykernel\\ipkernel.py:287: DeprecationWarning: `should_run_async` will not call `transform_cell` automatically in the future. Please pass the result to `transformed_cell` argument and any exception that happen during thetransform in `preprocessing_exc_tuple` in IPython 7.17 and above.\n",
      "  and should_run_async(code)\n"
     ]
    },
    {
     "name": "stdout",
     "output_type": "stream",
     "text": [
      "[LightGBM] [Warning] Accuracy may be bad since you didn't explicitly set num_leaves OR 2^max_depth > num_leaves. (num_leaves=31).\n",
      "[LightGBM] [Warning] Accuracy may be bad since you didn't explicitly set num_leaves OR 2^max_depth > num_leaves. (num_leaves=31).\n",
      "[LightGBM] [Warning] Auto-choosing col-wise multi-threading, the overhead of testing was 0.001502 seconds.\n",
      "You can set `force_col_wise=true` to remove the overhead.\n",
      "[LightGBM] [Info] Total Bins 3315\n",
      "[LightGBM] [Info] Number of data points in the train set: 4592, number of used features: 13\n",
      "[LightGBM] [Info] Start training from score -0.927129\n",
      "[LightGBM] [Info] Start training from score -1.327105\n",
      "[LightGBM] [Info] Start training from score -1.081555\n",
      "Wall time: 503 ms\n"
     ]
    },
    {
     "data": {
      "text/plain": [
       "<lightgbm.basic.Booster at 0x205f8a1f400>"
      ]
     },
     "execution_count": 90,
     "metadata": {},
     "output_type": "execute_result"
    }
   ],
   "source": [
    "%%time\n",
    "epochs = 100\n",
    "lgbm_clf = lgb.train(lgb_params, lgb_dataset, epochs)\n",
    "lgbm_clf"
   ]
  },
  {
   "cell_type": "code",
   "execution_count": 91,
   "metadata": {
    "execution": {
     "iopub.execute_input": "2022-04-01T15:57:03.917926Z",
     "iopub.status.busy": "2022-04-01T15:57:03.917122Z",
     "iopub.status.idle": "2022-04-01T15:57:03.942012Z",
     "shell.execute_reply": "2022-04-01T15:57:03.941353Z",
     "shell.execute_reply.started": "2022-04-01T15:57:03.917877Z"
    }
   },
   "outputs": [
    {
     "name": "stderr",
     "output_type": "stream",
     "text": [
      "C:\\NTU Tutorials\\Year 1\\Sem 2\\Data Science and AI\\DSAI\\Anaconda\\lib\\site-packages\\ipykernel\\ipkernel.py:287: DeprecationWarning: `should_run_async` will not call `transform_cell` automatically in the future. Please pass the result to `transformed_cell` argument and any exception that happen during thetransform in `preprocessing_exc_tuple` in IPython 7.17 and above.\n",
      "  and should_run_async(code)\n"
     ]
    },
    {
     "data": {
      "text/plain": [
       "(1968, 3)"
      ]
     },
     "execution_count": 91,
     "metadata": {},
     "output_type": "execute_result"
    }
   ],
   "source": [
    "# Prediction on the test set\n",
    "y_pred = lgbm_clf.predict(X_test)\n",
    "y_pred.shape"
   ]
  },
  {
   "cell_type": "code",
   "execution_count": 92,
   "metadata": {
    "execution": {
     "iopub.execute_input": "2022-04-01T15:57:03.943755Z",
     "iopub.status.busy": "2022-04-01T15:57:03.943276Z",
     "iopub.status.idle": "2022-04-01T15:57:03.955021Z",
     "shell.execute_reply": "2022-04-01T15:57:03.953795Z",
     "shell.execute_reply.started": "2022-04-01T15:57:03.943722Z"
    }
   },
   "outputs": [
    {
     "name": "stderr",
     "output_type": "stream",
     "text": [
      "C:\\NTU Tutorials\\Year 1\\Sem 2\\Data Science and AI\\DSAI\\Anaconda\\lib\\site-packages\\ipykernel\\ipkernel.py:287: DeprecationWarning: `should_run_async` will not call `transform_cell` automatically in the future. Please pass the result to `transformed_cell` argument and any exception that happen during thetransform in `preprocessing_exc_tuple` in IPython 7.17 and above.\n",
      "  and should_run_async(code)\n"
     ]
    },
    {
     "data": {
      "text/plain": [
       "[2, 1, 0, 1, 0, 1, 1, 2, 2, 0]"
      ]
     },
     "execution_count": 92,
     "metadata": {},
     "output_type": "execute_result"
    }
   ],
   "source": [
    "# Using no.argmax() to show the most probable class\n",
    "y_pred = [np.argmax(pred) for pred in y_pred]\n",
    "y_pred[:10]"
   ]
  },
  {
   "cell_type": "code",
   "execution_count": 93,
   "metadata": {
    "execution": {
     "iopub.execute_input": "2022-04-01T15:57:03.957177Z",
     "iopub.status.busy": "2022-04-01T15:57:03.956364Z",
     "iopub.status.idle": "2022-04-01T15:57:03.966808Z",
     "shell.execute_reply": "2022-04-01T15:57:03.965763Z",
     "shell.execute_reply.started": "2022-04-01T15:57:03.957124Z"
    }
   },
   "outputs": [
    {
     "name": "stderr",
     "output_type": "stream",
     "text": [
      "C:\\NTU Tutorials\\Year 1\\Sem 2\\Data Science and AI\\DSAI\\Anaconda\\lib\\site-packages\\ipykernel\\ipkernel.py:287: DeprecationWarning: `should_run_async` will not call `transform_cell` automatically in the future. Please pass the result to `transformed_cell` argument and any exception that happen during thetransform in `preprocessing_exc_tuple` in IPython 7.17 and above.\n",
      "  and should_run_async(code)\n"
     ]
    },
    {
     "data": {
      "text/plain": [
       "0.9749529284013093"
      ]
     },
     "execution_count": 93,
     "metadata": {},
     "output_type": "execute_result"
    }
   ],
   "source": [
    "# Precision Score\n",
    "precision_score(y_pred, y_test, average=None).mean()"
   ]
  },
  {
   "cell_type": "code",
   "execution_count": 94,
   "metadata": {
    "execution": {
     "iopub.execute_input": "2022-04-01T15:57:03.969280Z",
     "iopub.status.busy": "2022-04-01T15:57:03.968282Z",
     "iopub.status.idle": "2022-04-01T15:57:04.000041Z",
     "shell.execute_reply": "2022-04-01T15:57:03.999013Z",
     "shell.execute_reply.started": "2022-04-01T15:57:03.969233Z"
    }
   },
   "outputs": [
    {
     "name": "stderr",
     "output_type": "stream",
     "text": [
      "C:\\NTU Tutorials\\Year 1\\Sem 2\\Data Science and AI\\DSAI\\Anaconda\\lib\\site-packages\\ipykernel\\ipkernel.py:287: DeprecationWarning: `should_run_async` will not call `transform_cell` automatically in the future. Please pass the result to `transformed_cell` argument and any exception that happen during thetransform in `preprocessing_exc_tuple` in IPython 7.17 and above.\n",
      "  and should_run_async(code)\n"
     ]
    },
    {
     "data": {
      "text/html": [
       "<div>\n",
       "<style scoped>\n",
       "    .dataframe tbody tr th:only-of-type {\n",
       "        vertical-align: middle;\n",
       "    }\n",
       "\n",
       "    .dataframe tbody tr th {\n",
       "        vertical-align: top;\n",
       "    }\n",
       "\n",
       "    .dataframe thead th {\n",
       "        text-align: right;\n",
       "    }\n",
       "</style>\n",
       "<table border=\"1\" class=\"dataframe\">\n",
       "  <thead>\n",
       "    <tr style=\"text-align: right;\">\n",
       "      <th></th>\n",
       "      <th>title</th>\n",
       "      <th>pdf_name</th>\n",
       "      <th>paper_text</th>\n",
       "      <th>topic_vec_0</th>\n",
       "      <th>topic_vec_1</th>\n",
       "      <th>topic_vec_2</th>\n",
       "      <th>topic_vec_3</th>\n",
       "      <th>topic_vec_4</th>\n",
       "      <th>topic_vec_5</th>\n",
       "      <th>topic_vec_6</th>\n",
       "      <th>topic_vec_7</th>\n",
       "      <th>topic_vec_8</th>\n",
       "      <th>topic_vec_9</th>\n",
       "      <th>topic_vec_10</th>\n",
       "      <th>topic_vec_11</th>\n",
       "      <th>total_chars</th>\n",
       "      <th>ESG_category</th>\n",
       "    </tr>\n",
       "  </thead>\n",
       "  <tbody>\n",
       "    <tr>\n",
       "      <th>0</th>\n",
       "      <td>Self-Organization of Associative Database and ...</td>\n",
       "      <td>1-self-organization-of-associative-database-an...</td>\n",
       "      <td>767\\n\\nSELF-ORGANIZATION OF ASSOCIATIVE DATABA...</td>\n",
       "      <td>0.264166</td>\n",
       "      <td>0.053932</td>\n",
       "      <td>0.000108</td>\n",
       "      <td>0.288226</td>\n",
       "      <td>0.068105</td>\n",
       "      <td>0.093761</td>\n",
       "      <td>0.043824</td>\n",
       "      <td>0.058900</td>\n",
       "      <td>0.034660</td>\n",
       "      <td>0.012908</td>\n",
       "      <td>0.026415</td>\n",
       "      <td>0.054995</td>\n",
       "      <td>21643</td>\n",
       "      <td>2</td>\n",
       "    </tr>\n",
       "    <tr>\n",
       "      <th>1</th>\n",
       "      <td>A Mean Field Theory of Layer IV of Visual Cort...</td>\n",
       "      <td>10-a-mean-field-theory-of-layer-iv-of-visual-c...</td>\n",
       "      <td>683\\n\\nA MEAN FIELD THEORY OF LAYER IV OF VISU...</td>\n",
       "      <td>0.000146</td>\n",
       "      <td>0.000146</td>\n",
       "      <td>0.000146</td>\n",
       "      <td>0.241888</td>\n",
       "      <td>0.000146</td>\n",
       "      <td>0.000146</td>\n",
       "      <td>0.000146</td>\n",
       "      <td>0.004773</td>\n",
       "      <td>0.000146</td>\n",
       "      <td>0.029631</td>\n",
       "      <td>0.722542</td>\n",
       "      <td>0.000146</td>\n",
       "      <td>15505</td>\n",
       "      <td>1</td>\n",
       "    </tr>\n",
       "    <tr>\n",
       "      <th>2</th>\n",
       "      <td>Storing Covariance by the Associative Long-Ter...</td>\n",
       "      <td>100-storing-covariance-by-the-associative-long...</td>\n",
       "      <td>394\\n\\nSTORING COVARIANCE BY THE ASSOCIATIVE\\n...</td>\n",
       "      <td>0.000093</td>\n",
       "      <td>0.000093</td>\n",
       "      <td>0.000093</td>\n",
       "      <td>0.077130</td>\n",
       "      <td>0.000093</td>\n",
       "      <td>0.002955</td>\n",
       "      <td>0.000093</td>\n",
       "      <td>0.000093</td>\n",
       "      <td>0.000093</td>\n",
       "      <td>0.000093</td>\n",
       "      <td>0.908191</td>\n",
       "      <td>0.010982</td>\n",
       "      <td>20523</td>\n",
       "      <td>1</td>\n",
       "    </tr>\n",
       "    <tr>\n",
       "      <th>3</th>\n",
       "      <td>Bayesian Query Construction for Neural Network...</td>\n",
       "      <td>1000-bayesian-query-construction-for-neural-ne...</td>\n",
       "      <td>Bayesian Query Construction for Neural\\nNetwor...</td>\n",
       "      <td>0.000177</td>\n",
       "      <td>0.000177</td>\n",
       "      <td>0.389923</td>\n",
       "      <td>0.068996</td>\n",
       "      <td>0.000177</td>\n",
       "      <td>0.027771</td>\n",
       "      <td>0.470820</td>\n",
       "      <td>0.034323</td>\n",
       "      <td>0.000177</td>\n",
       "      <td>0.000177</td>\n",
       "      <td>0.007108</td>\n",
       "      <td>0.000177</td>\n",
       "      <td>19441</td>\n",
       "      <td>0</td>\n",
       "    </tr>\n",
       "    <tr>\n",
       "      <th>4</th>\n",
       "      <td>Neural Network Ensembles, Cross Validation, an...</td>\n",
       "      <td>1001-neural-network-ensembles-cross-validation...</td>\n",
       "      <td>Neural Network Ensembles, Cross\\nValidation, a...</td>\n",
       "      <td>0.000192</td>\n",
       "      <td>0.067545</td>\n",
       "      <td>0.016759</td>\n",
       "      <td>0.000192</td>\n",
       "      <td>0.028447</td>\n",
       "      <td>0.000192</td>\n",
       "      <td>0.866341</td>\n",
       "      <td>0.000192</td>\n",
       "      <td>0.000192</td>\n",
       "      <td>0.019566</td>\n",
       "      <td>0.000192</td>\n",
       "      <td>0.000192</td>\n",
       "      <td>20219</td>\n",
       "      <td>0</td>\n",
       "    </tr>\n",
       "    <tr>\n",
       "      <th>...</th>\n",
       "      <td>...</td>\n",
       "      <td>...</td>\n",
       "      <td>...</td>\n",
       "      <td>...</td>\n",
       "      <td>...</td>\n",
       "      <td>...</td>\n",
       "      <td>...</td>\n",
       "      <td>...</td>\n",
       "      <td>...</td>\n",
       "      <td>...</td>\n",
       "      <td>...</td>\n",
       "      <td>...</td>\n",
       "      <td>...</td>\n",
       "      <td>...</td>\n",
       "      <td>...</td>\n",
       "      <td>...</td>\n",
       "      <td>...</td>\n",
       "    </tr>\n",
       "    <tr>\n",
       "      <th>6555</th>\n",
       "      <td>Single Transistor Learning Synapses</td>\n",
       "      <td>994-single-transistor-learning-synapses.pdf</td>\n",
       "      <td>Single Transistor Learning Synapses\\n\\nPaul Ha...</td>\n",
       "      <td>0.000119</td>\n",
       "      <td>0.000119</td>\n",
       "      <td>0.000119</td>\n",
       "      <td>0.914775</td>\n",
       "      <td>0.052202</td>\n",
       "      <td>0.000119</td>\n",
       "      <td>0.000119</td>\n",
       "      <td>0.000119</td>\n",
       "      <td>0.000119</td>\n",
       "      <td>0.000119</td>\n",
       "      <td>0.031950</td>\n",
       "      <td>0.000119</td>\n",
       "      <td>18345</td>\n",
       "      <td>2</td>\n",
       "    </tr>\n",
       "    <tr>\n",
       "      <th>6556</th>\n",
       "      <td>Bias, Variance and the Combination of Least Sq...</td>\n",
       "      <td>996-bias-variance-and-the-combination-of-least...</td>\n",
       "      <td>Bias, Variance and the Combination of\\nLeast S...</td>\n",
       "      <td>0.000148</td>\n",
       "      <td>0.612154</td>\n",
       "      <td>0.164188</td>\n",
       "      <td>0.100860</td>\n",
       "      <td>0.010527</td>\n",
       "      <td>0.000148</td>\n",
       "      <td>0.100197</td>\n",
       "      <td>0.000148</td>\n",
       "      <td>0.011188</td>\n",
       "      <td>0.000148</td>\n",
       "      <td>0.000148</td>\n",
       "      <td>0.000148</td>\n",
       "      <td>22944</td>\n",
       "      <td>0</td>\n",
       "    </tr>\n",
       "    <tr>\n",
       "      <th>6557</th>\n",
       "      <td>A Real Time Clustering CMOS Neural Engine</td>\n",
       "      <td>997-a-real-time-clustering-cmos-neural-engine.pdf</td>\n",
       "      <td>A Real Time Clustering CMOS\\nNeural Engine\\nT....</td>\n",
       "      <td>0.042571</td>\n",
       "      <td>0.000183</td>\n",
       "      <td>0.000183</td>\n",
       "      <td>0.823391</td>\n",
       "      <td>0.024403</td>\n",
       "      <td>0.019966</td>\n",
       "      <td>0.000183</td>\n",
       "      <td>0.000183</td>\n",
       "      <td>0.015099</td>\n",
       "      <td>0.027575</td>\n",
       "      <td>0.003478</td>\n",
       "      <td>0.042786</td>\n",
       "      <td>14731</td>\n",
       "      <td>2</td>\n",
       "    </tr>\n",
       "    <tr>\n",
       "      <th>6558</th>\n",
       "      <td>Learning direction in global motion: two class...</td>\n",
       "      <td>998-learning-direction-in-global-motion-two-cl...</td>\n",
       "      <td>Learning direction in global motion: two\\nclas...</td>\n",
       "      <td>0.137806</td>\n",
       "      <td>0.000115</td>\n",
       "      <td>0.000115</td>\n",
       "      <td>0.025142</td>\n",
       "      <td>0.000115</td>\n",
       "      <td>0.000115</td>\n",
       "      <td>0.040040</td>\n",
       "      <td>0.005287</td>\n",
       "      <td>0.000115</td>\n",
       "      <td>0.000115</td>\n",
       "      <td>0.729861</td>\n",
       "      <td>0.061174</td>\n",
       "      <td>20421</td>\n",
       "      <td>1</td>\n",
       "    </tr>\n",
       "    <tr>\n",
       "      <th>6559</th>\n",
       "      <td>Correlation and Interpolation Networks for Rea...</td>\n",
       "      <td>999-correlation-and-interpolation-networks-for...</td>\n",
       "      <td>Correlation and Interpolation Networks for\\nRe...</td>\n",
       "      <td>0.673766</td>\n",
       "      <td>0.000106</td>\n",
       "      <td>0.000106</td>\n",
       "      <td>0.083957</td>\n",
       "      <td>0.000106</td>\n",
       "      <td>0.074640</td>\n",
       "      <td>0.023293</td>\n",
       "      <td>0.000106</td>\n",
       "      <td>0.000106</td>\n",
       "      <td>0.009691</td>\n",
       "      <td>0.134020</td>\n",
       "      <td>0.000106</td>\n",
       "      <td>21391</td>\n",
       "      <td>1</td>\n",
       "    </tr>\n",
       "  </tbody>\n",
       "</table>\n",
       "<p>6560 rows × 17 columns</p>\n",
       "</div>"
      ],
      "text/plain": [
       "                                                  title  \\\n",
       "0     Self-Organization of Associative Database and ...   \n",
       "1     A Mean Field Theory of Layer IV of Visual Cort...   \n",
       "2     Storing Covariance by the Associative Long-Ter...   \n",
       "3     Bayesian Query Construction for Neural Network...   \n",
       "4     Neural Network Ensembles, Cross Validation, an...   \n",
       "...                                                 ...   \n",
       "6555                Single Transistor Learning Synapses   \n",
       "6556  Bias, Variance and the Combination of Least Sq...   \n",
       "6557          A Real Time Clustering CMOS Neural Engine   \n",
       "6558  Learning direction in global motion: two class...   \n",
       "6559  Correlation and Interpolation Networks for Rea...   \n",
       "\n",
       "                                               pdf_name  \\\n",
       "0     1-self-organization-of-associative-database-an...   \n",
       "1     10-a-mean-field-theory-of-layer-iv-of-visual-c...   \n",
       "2     100-storing-covariance-by-the-associative-long...   \n",
       "3     1000-bayesian-query-construction-for-neural-ne...   \n",
       "4     1001-neural-network-ensembles-cross-validation...   \n",
       "...                                                 ...   \n",
       "6555        994-single-transistor-learning-synapses.pdf   \n",
       "6556  996-bias-variance-and-the-combination-of-least...   \n",
       "6557  997-a-real-time-clustering-cmos-neural-engine.pdf   \n",
       "6558  998-learning-direction-in-global-motion-two-cl...   \n",
       "6559  999-correlation-and-interpolation-networks-for...   \n",
       "\n",
       "                                             paper_text  topic_vec_0  \\\n",
       "0     767\\n\\nSELF-ORGANIZATION OF ASSOCIATIVE DATABA...     0.264166   \n",
       "1     683\\n\\nA MEAN FIELD THEORY OF LAYER IV OF VISU...     0.000146   \n",
       "2     394\\n\\nSTORING COVARIANCE BY THE ASSOCIATIVE\\n...     0.000093   \n",
       "3     Bayesian Query Construction for Neural\\nNetwor...     0.000177   \n",
       "4     Neural Network Ensembles, Cross\\nValidation, a...     0.000192   \n",
       "...                                                 ...          ...   \n",
       "6555  Single Transistor Learning Synapses\\n\\nPaul Ha...     0.000119   \n",
       "6556  Bias, Variance and the Combination of\\nLeast S...     0.000148   \n",
       "6557  A Real Time Clustering CMOS\\nNeural Engine\\nT....     0.042571   \n",
       "6558  Learning direction in global motion: two\\nclas...     0.137806   \n",
       "6559  Correlation and Interpolation Networks for\\nRe...     0.673766   \n",
       "\n",
       "      topic_vec_1  topic_vec_2  topic_vec_3  topic_vec_4  topic_vec_5  \\\n",
       "0        0.053932     0.000108     0.288226     0.068105     0.093761   \n",
       "1        0.000146     0.000146     0.241888     0.000146     0.000146   \n",
       "2        0.000093     0.000093     0.077130     0.000093     0.002955   \n",
       "3        0.000177     0.389923     0.068996     0.000177     0.027771   \n",
       "4        0.067545     0.016759     0.000192     0.028447     0.000192   \n",
       "...           ...          ...          ...          ...          ...   \n",
       "6555     0.000119     0.000119     0.914775     0.052202     0.000119   \n",
       "6556     0.612154     0.164188     0.100860     0.010527     0.000148   \n",
       "6557     0.000183     0.000183     0.823391     0.024403     0.019966   \n",
       "6558     0.000115     0.000115     0.025142     0.000115     0.000115   \n",
       "6559     0.000106     0.000106     0.083957     0.000106     0.074640   \n",
       "\n",
       "      topic_vec_6  topic_vec_7  topic_vec_8  topic_vec_9  topic_vec_10  \\\n",
       "0        0.043824     0.058900     0.034660     0.012908      0.026415   \n",
       "1        0.000146     0.004773     0.000146     0.029631      0.722542   \n",
       "2        0.000093     0.000093     0.000093     0.000093      0.908191   \n",
       "3        0.470820     0.034323     0.000177     0.000177      0.007108   \n",
       "4        0.866341     0.000192     0.000192     0.019566      0.000192   \n",
       "...           ...          ...          ...          ...           ...   \n",
       "6555     0.000119     0.000119     0.000119     0.000119      0.031950   \n",
       "6556     0.100197     0.000148     0.011188     0.000148      0.000148   \n",
       "6557     0.000183     0.000183     0.015099     0.027575      0.003478   \n",
       "6558     0.040040     0.005287     0.000115     0.000115      0.729861   \n",
       "6559     0.023293     0.000106     0.000106     0.009691      0.134020   \n",
       "\n",
       "      topic_vec_11  total_chars  ESG_category  \n",
       "0         0.054995        21643             2  \n",
       "1         0.000146        15505             1  \n",
       "2         0.010982        20523             1  \n",
       "3         0.000177        19441             0  \n",
       "4         0.000192        20219             0  \n",
       "...            ...          ...           ...  \n",
       "6555      0.000119        18345             2  \n",
       "6556      0.000148        22944             0  \n",
       "6557      0.042786        14731             2  \n",
       "6558      0.061174        20421             1  \n",
       "6559      0.000106        21391             1  \n",
       "\n",
       "[6560 rows x 17 columns]"
      ]
     },
     "execution_count": 94,
     "metadata": {},
     "output_type": "execute_result"
    }
   ],
   "source": [
    "papers_text_pred_df = pd.concat([papers_text_df, topic_vecs_df], axis=1)\n",
    "\n",
    "# stack the columns in the second DataFrame to the RIGHT of the first DataFrame \n",
    "papers_text_pred_df"
   ]
  },
  {
   "cell_type": "code",
   "execution_count": 95,
   "metadata": {
    "execution": {
     "iopub.execute_input": "2022-04-01T15:57:04.001908Z",
     "iopub.status.busy": "2022-04-01T15:57:04.001387Z",
     "iopub.status.idle": "2022-04-01T15:57:04.008345Z",
     "shell.execute_reply": "2022-04-01T15:57:04.007746Z",
     "shell.execute_reply.started": "2022-04-01T15:57:04.001860Z"
    }
   },
   "outputs": [
    {
     "name": "stderr",
     "output_type": "stream",
     "text": [
      "C:\\NTU Tutorials\\Year 1\\Sem 2\\Data Science and AI\\DSAI\\Anaconda\\lib\\site-packages\\ipykernel\\ipkernel.py:287: DeprecationWarning: `should_run_async` will not call `transform_cell` automatically in the future. Please pass the result to `transformed_cell` argument and any exception that happen during thetransform in `preprocessing_exc_tuple` in IPython 7.17 and above.\n",
      "  and should_run_async(code)\n"
     ]
    },
    {
     "data": {
      "text/plain": [
       "((6560, 3), (6560, 14), (6560, 17))"
      ]
     },
     "execution_count": 95,
     "metadata": {},
     "output_type": "execute_result"
    }
   ],
   "source": [
    "papers_text_df.shape, topic_vecs_df.shape, papers_text_pred_df.shape"
   ]
  },
  {
   "cell_type": "code",
   "execution_count": 96,
   "metadata": {
    "execution": {
     "iopub.execute_input": "2022-04-01T15:57:04.009866Z",
     "iopub.status.busy": "2022-04-01T15:57:04.009480Z",
     "iopub.status.idle": "2022-04-01T15:57:04.019865Z",
     "shell.execute_reply": "2022-04-01T15:57:04.018839Z",
     "shell.execute_reply.started": "2022-04-01T15:57:04.009837Z"
    }
   },
   "outputs": [
    {
     "name": "stderr",
     "output_type": "stream",
     "text": [
      "C:\\NTU Tutorials\\Year 1\\Sem 2\\Data Science and AI\\DSAI\\Anaconda\\lib\\site-packages\\ipykernel\\ipkernel.py:287: DeprecationWarning: `should_run_async` will not call `transform_cell` automatically in the future. Please pass the result to `transformed_cell` argument and any exception that happen during thetransform in `preprocessing_exc_tuple` in IPython 7.17 and above.\n",
      "  and should_run_async(code)\n"
     ]
    }
   ],
   "source": [
    "# 3 main categories with can be mapped to \"Environmental\", \"Social\" and \"Governance\"\n",
    "# Create file for predictions\n",
    "def create_file_for_predictions(filename, pdf_name, predictions):    \n",
    "    predictions_df = pd.DataFrame({'pdf_name': pdf_name, 'target': predictions})\n",
    "    predictions_df.to_csv(filename, index=False)"
   ]
  },
  {
   "cell_type": "code",
   "execution_count": 97,
   "metadata": {
    "execution": {
     "iopub.execute_input": "2022-04-01T15:57:04.021344Z",
     "iopub.status.busy": "2022-04-01T15:57:04.021011Z",
     "iopub.status.idle": "2022-04-01T15:57:04.048356Z",
     "shell.execute_reply": "2022-04-01T15:57:04.047684Z",
     "shell.execute_reply.started": "2022-04-01T15:57:04.021317Z"
    }
   },
   "outputs": [
    {
     "name": "stderr",
     "output_type": "stream",
     "text": [
      "C:\\NTU Tutorials\\Year 1\\Sem 2\\Data Science and AI\\DSAI\\Anaconda\\lib\\site-packages\\ipykernel\\ipkernel.py:287: DeprecationWarning: `should_run_async` will not call `transform_cell` automatically in the future. Please pass the result to `transformed_cell` argument and any exception that happen during thetransform in `preprocessing_exc_tuple` in IPython 7.17 and above.\n",
      "  and should_run_async(code)\n"
     ]
    }
   ],
   "source": [
    "# papers_text_df.columns, topic_vecs_df.columns start @ 16:43\n",
    "create_file_for_predictions('pdf_name_ESG.csv', papers_text_pred_df['pdf_name'],\n",
    "                            papers_text_pred_df['ESG_category'])"
   ]
  },
  {
   "cell_type": "markdown",
   "metadata": {},
   "source": [
    "## End of Program"
   ]
  },
  {
   "cell_type": "code",
   "execution_count": 97,
   "metadata": {
    "execution": {
     "iopub.execute_input": "2022-04-01T15:57:04.049823Z",
     "iopub.status.busy": "2022-04-01T15:57:04.049465Z",
     "iopub.status.idle": "2022-04-01T15:57:04.053388Z",
     "shell.execute_reply": "2022-04-01T15:57:04.052715Z",
     "shell.execute_reply.started": "2022-04-01T15:57:04.049794Z"
    }
   },
   "outputs": [],
   "source": [
    "# a_string = '!hi. wh?at is the weat[h]er lik?e.'\n",
    "# new_string = re.sub(r'[\\[,\\\\.!?\\]]', '', a_string) # [^\\w\\s] except words and spaces\n",
    "# new_string"
   ]
  }
 ],
 "metadata": {
  "kernelspec": {
   "display_name": "Python 3",
   "language": "python",
   "name": "python3"
  },
  "language_info": {
   "codemirror_mode": {
    "name": "ipython",
    "version": 3
   },
   "file_extension": ".py",
   "mimetype": "text/x-python",
   "name": "python",
   "nbconvert_exporter": "python",
   "pygments_lexer": "ipython3",
   "version": "3.8.5"
  }
 },
 "nbformat": 4,
 "nbformat_minor": 4
}
